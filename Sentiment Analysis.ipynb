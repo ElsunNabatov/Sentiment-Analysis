{
 "cells": [
  {
   "cell_type": "markdown",
   "metadata": {
    "id": "DM71Y_62_dbU"
   },
   "source": [
    "# **Sentiment Analysis of Tweet**"
   ]
  },
  {
   "cell_type": "markdown",
   "metadata": {},
   "source": [
    "## Introduction"
   ]
  },
  {
   "cell_type": "markdown",
   "metadata": {},
   "source": [
    "In this project, my aim was to perform sentiment analysis on a dataset comprising tweets. The goal was to classify each tweet into one of three categories: positive, negative, or neutral. This task is crucial in understanding public opinion on various topics, especially in today's digital age where social media platforms are abundant."
   ]
  },
  {
   "cell_type": "markdown",
   "metadata": {},
   "source": [
    "## Data Description & Loading"
   ]
  },
  {
   "cell_type": "markdown",
   "metadata": {},
   "source": [
    "The dataset consisted of tweets that were manually labeled as positive, negative, or neutral. In total, there were X tweets, each not exceeding 280 characters, the standard length for a tweet.\n",
    "\n",
    "Three datasets were used: training, development, and test datasets. The training and development datasets were successfully loaded, while the test dataset required special handling due to encoding issues."
   ]
  },
  {
   "cell_type": "code",
   "execution_count": null,
   "metadata": {},
   "outputs": [],
   "source": [
    "pip install pandas matplotlib seaborn"
   ]
  },
  {
   "cell_type": "code",
   "execution_count": 1,
   "metadata": {
    "id": "_W8cWZZd_rBa"
   },
   "outputs": [],
   "source": [
    "import pandas as pd\n",
    "import matplotlib.pyplot as plt\n",
    "import seaborn as sns"
   ]
  },
  {
   "cell_type": "markdown",
   "metadata": {},
   "source": [
    "*Training Dataset (Tweets_train.csv):*\n",
    "Loaded using Pandas, the training dataset forms the basis for training our machine learning models. It comprises columns for tweet ID, the tweet text, and the sentiment label. These elements are essential for our sentiment analysis task, with the text serving as the input feature and the sentiment label as the target variable.\n",
    "\n",
    "*Development Dataset (Tweets_dev.csv):*\n",
    "The development dataset, loaded in a similar manner, is crucial for validating and tuning our models. Its structure mirrors that of the training dataset, providing a consistent basis for model development and adjustment. This dataset plays a key role in fine-tuning the model parameters and preventing overfitting.\n",
    "\n",
    "*Test Dataset (Tweets_test.csv):*\n",
    "The test dataset presented a unique challenge. Initially attempted to be loaded with 'ISO-8859-1' encoding, it required a contingency plan for potential encoding issues, a common hurdle in text data processing. The need for a fallback mechanism in case of a UnicodeDecodeError underscores the complexities of handling diverse and real-world text data, especially when dealing with various languages or special characters."
   ]
  },
  {
   "cell_type": "code",
   "execution_count": 5,
   "metadata": {
    "colab": {
     "base_uri": "https://localhost:8080/"
    },
    "id": "OH6nl6oJ_3Va",
    "outputId": "4492d6b8-d3f4-486b-d3e6-6d15531d1db4"
   },
   "outputs": [
    {
     "name": "stdout",
     "output_type": "stream",
     "text": [
      "             tweet_id                                               text  \\\n",
      "0  569179849518161920                    @united you're good. Thank you!   \n",
      "1  569835751275433984  @AmericanAir way to ruin a vacation, my brothe...   \n",
      "2  568588936852799488  @JetBlue yes thankfully! Catering just got her...   \n",
      "3  569525116725567491  @USAirways The automated message isn't helpful...   \n",
      "4  568807823187976193  @JetBlue I'm #MakingLoveOutofNothingAtAll on m...   \n",
      "\n",
      "  airline_sentiment  \n",
      "0          positive  \n",
      "1          negative  \n",
      "2          positive  \n",
      "3          negative  \n",
      "4          positive  \n"
     ]
    }
   ],
   "source": [
    "# Load the datasets\n",
    "train_data = pd.read_csv('Tweets_train.csv')\n",
    "dev_data = pd.read_csv('Tweets_dev.csv')\n",
    "\n",
    "# Loading the test dataset with a different encoding\n",
    "try:\n",
    "    test_data = pd.read_csv('Tweets_test.csv', encoding='ISO-8859-1')\n",
    "except UnicodeDecodeError as e:\n",
    "    print(\"Error reading the file with ISO-8859-1 encoding:\", e)\n",
    "    \n",
    "\n",
    "# Display the first few rows of the training dataset\n",
    "print(train_data.head())"
   ]
  },
  {
   "cell_type": "markdown",
   "metadata": {
    "id": "GXA9fEE6BZGh"
   },
   "source": [
    "### **Exploratory Data Analysis**"
   ]
  },
  {
   "cell_type": "markdown",
   "metadata": {},
   "source": [
    "Before diving into sentiment analysis, an integrity check was performed on the datasets. The check involved confirming the absence of missing values across all datasets:\n",
    "\n",
    "- *Training Data:* No missing values detected\n",
    "- *Test Data:* No missing values detected\n",
    "- *Development Data:* No missing values detected\n",
    "\n",
    "This ensures that our datasets are complete and ready for preprocessing and analysis without the need for imputation or handling of missing data."
   ]
  },
  {
   "cell_type": "code",
   "execution_count": 9,
   "metadata": {
    "colab": {
     "base_uri": "https://localhost:8080/"
    },
    "id": "fBcasp-p_4WU",
    "outputId": "0da509ad-b88d-4a72-e5ca-e49d650913d8"
   },
   "outputs": [
    {
     "name": "stdout",
     "output_type": "stream",
     "text": [
      "tweet_id             0\n",
      "text                 0\n",
      "airline_sentiment    0\n",
      "dtype: int64\n",
      "tweet_id             0\n",
      "text                 0\n",
      "airline_sentiment    0\n",
      "dtype: int64\n",
      "tweet_id             0\n",
      "text                 0\n",
      "airline_sentiment    0\n",
      "dtype: int64\n"
     ]
    }
   ],
   "source": [
    "print(train_data.isnull().sum())\n",
    "print(test_data.isnull().sum())\n",
    "print(dev_data.isnull().sum())"
   ]
  },
  {
   "cell_type": "code",
   "execution_count": 99,
   "metadata": {
    "colab": {
     "base_uri": "https://localhost:8080/"
    },
    "id": "Bgzy8wrPArEW",
    "outputId": "ec583cb8-db96-4fd4-db9c-24112aa3b8b1"
   },
   "outputs": [
    {
     "name": "stdout",
     "output_type": "stream",
     "text": [
      "Index(['tweet_id', 'text', 'airline_sentiment', 'tweet_length', 'clean_text'], dtype='object')\n"
     ]
    }
   ],
   "source": [
    "# Printing column names of the training data\n",
    "print(train_data.columns)"
   ]
  },
  {
   "cell_type": "markdown",
   "metadata": {},
   "source": [
    "***Sentiment distribution***"
   ]
  },
  {
   "cell_type": "markdown",
   "metadata": {},
   "source": [
    "An initial analysis of the training data revealed distribution of sentiments:\n",
    "\n",
    "- Positive: The least common sentiment among the tweets.\n",
    "- Negative: The most frequent sentiment, indicating a prevalence of customer complaints or issues.\n",
    "- Neutral: Less common than negative but more frequent than positive sentiments.\n",
    "\n",
    "The bar chart titled 'Sentiment Distribution in Training Data' visually represents the frequency of each sentiment category. The predominance of negative sentiments could suggest that customers are more inclined to tweet about negative experiences, or it could reflect a selection bias in the dataset collection process."
   ]
  },
  {
   "cell_type": "code",
   "execution_count": 13,
   "metadata": {
    "colab": {
     "base_uri": "https://localhost:8080/",
     "height": 472
    },
    "id": "dsyJBsQpA_oS",
    "outputId": "5591e584-93ec-4ba8-e631-2d5d322cb600"
   },
   "outputs": [
    {
     "data": {
      "image/png": "[encoded data removed]",
      "text/plain": [
       "<Figure size 640x480 with 1 Axes>"
      ]
     },
     "metadata": {},
     "output_type": "display_data"
    }
   ],
   "source": [
    "sns.countplot(x='airline_sentiment', data=train_data)\n",
    "plt.title('Sentiment Distribution in Training Data')\n",
    "plt.show()"
   ]
  },
  {
   "cell_type": "markdown",
   "metadata": {},
   "source": [
    "***Tweet Length Distribution***"
   ]
  },
  {
   "cell_type": "markdown",
   "metadata": {},
   "source": [
    "The tweet lengths are centrally distributed around 100-140 characters, indicating a common tweet length range. The distribution has a wide spread, with tweet lengths ranging from under 20 characters to the maximum limit of Twitter's character count. The distribution appears to be right-skewed, with fewer tweets reaching the maximum character limit.\n",
    "\n",
    "The tweet length distribution gives us insights into typical tweeting behavior. Most users seem to express their sentiments in concise messages, often not utilizing the full character limit. This understanding of tweet length can be useful in preprocessing, as it might influence how we tokenize and pad our sequences for certain models, particularly those used in deep learning."
   ]
  },
  {
   "cell_type": "code",
   "execution_count": 106,
   "metadata": {
    "colab": {
     "base_uri": "https://localhost:8080/",
     "height": 564
    },
    "id": "5nCovSWRBGwc",
    "outputId": "d2fb96b1-da42-4db0-9b9e-78b8c03b2126"
   },
   "outputs": [
    {
     "data": {
      "image/png": "[encoded data removed]",
      "text/plain": [
       "<Figure size 1000x600 with 1 Axes>"
      ]
     },
     "metadata": {},
     "output_type": "display_data"
    }
   ],
   "source": [
    "train_data['tweet_length'] = train_data['text'].apply(len)\n",
    "plt.figure(figsize=(10,6))\n",
    "sns.histplot(train_data['tweet_length'], bins=30, kde=True)\n",
    "plt.title('Tweet Length Distribution')\n",
    "plt.show()"
   ]
  },
  {
   "cell_type": "markdown",
   "metadata": {
    "id": "SfaTpuU0Hw4H"
   },
   "source": [
    "#### **Class Distribution Across Datasets**"
   ]
  },
  {
   "cell_type": "markdown",
   "metadata": {},
   "source": [
    "The aim was to examine the distribution of sentiment classes across the training, development, and test sets in sentiment analysis project. \n",
    "\n",
    "***Training dataset***\n",
    "\n",
    "The negative sentiments are the most prevalent within the training data. This dominance poses a risk of predisposing the predictive models to favor negative classifications. Neutral sentiments are observed with moderate frequency, outnumbering the positive sentiments, which are the least common. The scarcity of positive sentiments could potentially impair the models' ability to identify such sentiments with high accuracy.\n",
    "\n",
    "***Development dataset***\n",
    "\n",
    "Mirroring the training set, negative sentiments are the most common in the development set, providing a consistent basis for model validation and tuning. The neutral and positive sentiments are observed with less frequency, reflecting the patterns seen in the training set, albeit in smaller numbers due to the more limited size of the development set.\n",
    "\n",
    "***Test dataset***\n",
    "\n",
    "Continuing the pattern observed in the training and development sets, the test set is largely composed of negative sentiments. This consistency is key to evaluating whether the models can robustly predict across a dataset with similar class distribution challenges. The neutral and positive sentiments maintain their relative positions in terms of frequency, as seen in the previous datasets.\n",
    "\n",
    "The distribution analysis across all datasets highlights the potential for class imbalance, which will be an important factor to consider during the modeling phase. The overrepresentation of negative sentiments necessitates careful consideration of model evaluation metrics and potential strategies to account for this imbalance to ensure fair and effective sentiment classification."
   ]
  },
  {
   "cell_type": "code",
   "execution_count": 15,
   "metadata": {
    "colab": {
     "base_uri": "https://localhost:8080/",
     "height": 569
    },
    "id": "cj5yxVn1HmV9",
    "outputId": "94ac00cc-7fe8-47fd-94d9-46283c07cb19"
   },
   "outputs": [
    {
     "data": {
      "image/png": "[encoded data removed]",
      "text/plain": [
       "<Figure size 1200x600 with 3 Axes>"
      ]
     },
     "metadata": {},
     "output_type": "display_data"
    }
   ],
   "source": [
    "import matplotlib.pyplot as plt\n",
    "import seaborn as sns\n",
    "\n",
    "# Counting the number of occurrences of each sentiment class\n",
    "train_class_distribution = train_data['airline_sentiment'].value_counts()\n",
    "dev_class_distribution = dev_data['airline_sentiment'].value_counts()\n",
    "test_class_distribution = test_data['airline_sentiment'].value_counts()\n",
    "\n",
    "# Plotting the class distribution\n",
    "plt.figure(figsize=(12, 6))\n",
    "\n",
    "plt.subplot(1, 3, 1)\n",
    "sns.barplot(x=train_class_distribution.index, y=train_class_distribution.values)\n",
    "plt.title('Class Distribution in Training Set')\n",
    "\n",
    "plt.subplot(1, 3, 2)\n",
    "sns.barplot(x=dev_class_distribution.index, y=dev_class_distribution.values)\n",
    "plt.title('Class Distribution in Development Set')\n",
    "\n",
    "plt.subplot(1, 3, 3)\n",
    "sns.barplot(x=test_class_distribution.index, y=test_class_distribution.values)\n",
    "plt.title('Class Distribution in Test Set')\n",
    "\n",
    "plt.tight_layout()\n",
    "plt.show()"
   ]
  },
  {
   "cell_type": "markdown",
   "metadata": {
    "id": "U-L6La3BIJhb"
   },
   "source": [
    "**Tweet Length Analysis Across Datasets**"
   ]
  },
  {
   "cell_type": "markdown",
   "metadata": {},
   "source": [
    "The distributions of tweet lengths reveal that the majority of tweets center around the 140-character mark, reflecting the traditional character limit on Twitter. This observation is consistent across all three datasets, indicating a common tweeting behavior among users regardless of sentiment.\n",
    "\n",
    "The average tweet length for each dataset is:\n",
    "\n",
    "- *Training Set:* The average tweet length is approximately 104.07 characters\n",
    "- *Development Set:* The average tweet length is roughly 102.98 characters\n",
    "- *Test Set:* The average tweet length comes in close to 102.89 characters\n",
    "\n",
    "The average tweet lengths also inform us that while users typically do not exhaust the maximum character limit, they do use a substantial portion of it to express their sentiments."
   ]
  },
  {
   "cell_type": "code",
   "execution_count": 107,
   "metadata": {
    "colab": {
     "base_uri": "https://localhost:8080/",
     "height": 435
    },
    "id": "bJPcjcWIIOO0",
    "outputId": "33bb4485-49c9-4a46-adc7-ee1b9577589b"
   },
   "outputs": [
    {
     "data": {
      "image/png": "[encoded data removed]",
      "text/plain": [
       "<Figure size 1500x500 with 3 Axes>"
      ]
     },
     "metadata": {},
     "output_type": "display_data"
    },
    {
     "name": "stdout",
     "output_type": "stream",
     "text": [
      "Average Tweet Length - Training Set: 104.07370551526395\n",
      "Average Tweet Length - Development Set: 102.98254931714719\n",
      "Average Tweet Length - Test Set: 102.88592896174863\n"
     ]
    }
   ],
   "source": [
    "# Calculating the length of each tweet\n",
    "train_data['tweet_length'] = train_data['text'].apply(len)\n",
    "dev_data['tweet_length'] = dev_data['text'].apply(len)\n",
    "test_data['tweet_length'] = test_data['text'].apply(len)\n",
    "\n",
    "# Plotting the distribution of tweet lengths\n",
    "plt.figure(figsize=(15, 5))\n",
    "\n",
    "plt.subplot(1, 3, 1)\n",
    "sns.histplot(train_data['tweet_length'], bins=50, kde=True)\n",
    "plt.title('Tweet Length Distribution in Training Set')\n",
    "\n",
    "plt.subplot(1, 3, 2)\n",
    "sns.histplot(dev_data['tweet_length'], bins=50, kde=True)\n",
    "plt.title('Tweet Length Distribution in Development Set')\n",
    "\n",
    "plt.subplot(1, 3, 3)\n",
    "sns.histplot(test_data['tweet_length'], bins=50, kde=True)\n",
    "plt.title('Tweet Length Distribution in Test Set')\n",
    "\n",
    "plt.tight_layout()\n",
    "plt.show()\n",
    "\n",
    "# Mean, median, or mode of tweet lengths\n",
    "train_mean_length = train_data['tweet_length'].mean()\n",
    "dev_mean_length = dev_data['tweet_length'].mean()\n",
    "test_mean_length = test_data['tweet_length'].mean()\n",
    "\n",
    "print(\"Average Tweet Length - Training Set:\", train_mean_length)\n",
    "print(\"Average Tweet Length - Development Set:\", dev_mean_length)\n",
    "print(\"Average Tweet Length - Test Set:\", test_mean_length)"
   ]
  },
  {
   "cell_type": "markdown",
   "metadata": {
    "id": "n9ue9b2RIwgk"
   },
   "source": [
    "**Word Frequency Analysis**"
   ]
  },
  {
   "cell_type": "markdown",
   "metadata": {},
   "source": [
    "The bar plot of the top 20 most common words includes terms predominantly related to the airline industry, such as 'flight', 'airline names', 'service', and 'customer'. This is expected given the dataset's domain.\n",
    "\n",
    "Words like 'united', 'flight', and 'usairways' appear frequently, indicating these are common subjects within the tweets. Terms such as 'http', 'thanks', and 'cancelled' reflect the nature of the communication on Twitter, where users may share links, express gratitude, or discuss service disruptions."
   ]
  },
  {
   "cell_type": "code",
   "execution_count": 17,
   "metadata": {
    "colab": {
     "base_uri": "https://localhost:8080/",
     "height": 596
    },
    "id": "z2ybCkibI3Ub",
    "outputId": "97c6deba-cfae-4e9e-ebb1-ac3a592afd2d"
   },
   "outputs": [
    {
     "name": "stderr",
     "output_type": "stream",
     "text": [
      "[nltk_data] Downloading package punkt to /home/elsun/nltk_data...\n",
      "[nltk_data]   Unzipping tokenizers/punkt.zip.\n",
      "[nltk_data] Downloading package stopwords to /home/elsun/nltk_data...\n",
      "[nltk_data]   Unzipping corpora/stopwords.zip.\n"
     ]
    },
    {
     "data": {
      "image/png": "[encoded data removed]",
      "text/plain": [
       "<Figure size 1000x500 with 1 Axes>"
      ]
     },
     "metadata": {},
     "output_type": "display_data"
    }
   ],
   "source": [
    "from collections import Counter\n",
    "import nltk\n",
    "from nltk.corpus import stopwords\n",
    "from nltk.tokenize import word_tokenize\n",
    "\n",
    "# stopwords and punkt tokenizer\n",
    "nltk.download('punkt')\n",
    "nltk.download('stopwords')\n",
    "\n",
    "# Combining all tweets\n",
    "all_tweets = pd.concat([train_data['text'], dev_data['text'], test_data['text']])\n",
    "\n",
    "# Tokenize and lower case the words\n",
    "tokens = word_tokenize(' '.join(all_tweets).lower())\n",
    "\n",
    "# Filter out stopwords and non-alphabetic tokens\n",
    "filtered_tokens = [word for word in tokens if word.isalpha() and word not in stopwords.words('english')]\n",
    "\n",
    "# Counting the frequency of each word\n",
    "word_freq = Counter(filtered_tokens)\n",
    "\n",
    "# Getting the 20 most common words\n",
    "most_common_words = word_freq.most_common(20)\n",
    "\n",
    "# Plotting the word frequencies\n",
    "plt.figure(figsize=(10, 5))\n",
    "sns.barplot(x=[word[0] for word in most_common_words], y=[word[1] for word in most_common_words])\n",
    "plt.xticks(rotation=45)\n",
    "plt.title('Top 20 Most Common Words')\n",
    "plt.show()"
   ]
  },
  {
   "cell_type": "markdown",
   "metadata": {
    "id": "5hXe8Q54JfNB"
   },
   "source": [
    "# Text Preprocessing"
   ]
  },
  {
   "cell_type": "markdown",
   "metadata": {},
   "source": [
    "I did \"the clean_and_preprocess_text\" function which executes several operations to prepare the tweet text for modeling:\n",
    "\n",
    "- *Lowercasing:* Converts all characters in the text to lowercase to ensure uniformity, as the case of text is not informative for our sentiment analysis.\n",
    "- *URL Removal:* Eliminates URLs using regular expressions, as they do not carry sentiment and can introduce noise into the data.\n",
    "- *Mention Removal:* Strips out Twitter username mentions (e.g., @username) since they are not relevant to sentiment analysis.\n",
    "- *Non-Alphabetic Character Removal:* Removes punctuation, numbers, and any other non-letter characters, which simplifies the data and focuses analysis on words.\n",
    "- *Tokenization:* Breaks the text into individual words (tokens) to facilitate further processing steps.\n",
    "- *Stopword Removal:* Filters out common stopwords (e.g., 'the', 'is', 'and') as they are typically grammatical and do not carry sentiment.\n",
    "- *Lemmatization:* Reduces words to their base or dictionary form (lemmas), which helps in generalizing across different forms of the same word.\n",
    "\n",
    "By applying this comprehensive preprocessing function to tweet data, I ensure that the text input to models is devoid of common sources of noise and is standardized, which is essential for the models to learn from the textual content effectively. "
   ]
  },
  {
   "cell_type": "code",
   "execution_count": 18,
   "metadata": {
    "colab": {
     "base_uri": "https://localhost:8080/"
    },
    "id": "OMb33hiIJngk",
    "outputId": "a70f9f6c-45e8-408f-8dd7-dd708bc9f5fe"
   },
   "outputs": [
    {
     "name": "stderr",
     "output_type": "stream",
     "text": [
      "[nltk_data] Downloading package punkt to /home/elsun/nltk_data...\n",
      "[nltk_data]   Package punkt is already up-to-date!\n",
      "[nltk_data] Downloading package stopwords to /home/elsun/nltk_data...\n",
      "[nltk_data]   Package stopwords is already up-to-date!\n",
      "[nltk_data] Downloading package wordnet to /home/elsun/nltk_data...\n"
     ]
    }
   ],
   "source": [
    "import re\n",
    "from nltk.corpus import stopwords\n",
    "from nltk.stem import WordNetLemmatizer\n",
    "from nltk.tokenize import word_tokenize\n",
    "\n",
    "nltk.download('punkt')\n",
    "nltk.download('stopwords')\n",
    "nltk.download('wordnet')\n",
    "\n",
    "def clean_and_preprocess_text(text):\n",
    "    \"\"\"\n",
    "    This function takes a string (text of a tweet) and performs several preprocessing steps:\n",
    "    1. Lowercasing\n",
    "    2. Removing URLs\n",
    "    3. Removing mentions (e.g., @username)\n",
    "    4. Removing non-alphabetic characters (punctuation, numbers, etc.)\n",
    "    5. Tokenization\n",
    "    6. Removing stopwords\n",
    "    7. Lemmatization\n",
    "    \"\"\"\n",
    "    # Lowercase\n",
    "    text = text.lower()\n",
    "\n",
    "    # Remove URLs\n",
    "    text = re.sub(r'http\\S+', '', text)\n",
    "\n",
    "    # Remove mentions\n",
    "    text = re.sub(r'@\\w+', '', text)\n",
    "\n",
    "    # Remove non-alphabetic characters\n",
    "    text = re.sub(r'[^a-zA-Z]', ' ', text)\n",
    "\n",
    "    # Tokenization\n",
    "    tokens = word_tokenize(text)\n",
    "\n",
    "    # Remove stopwords\n",
    "    clean_tokens = [word for word in tokens if word not in stopwords.words('english')]\n",
    "\n",
    "    # Lemmatization\n",
    "    lemmatizer = WordNetLemmatizer()\n",
    "    lemmatized_tokens = [lemmatizer.lemmatize(word) for word in clean_tokens]\n",
    "\n",
    "    # Joining the words back into a string\n",
    "    text = ' '.join(lemmatized_tokens)\n",
    "\n",
    "    return text\n",
    "\n",
    "\n",
    "train_data['clean_text'] = train_data['text'].apply(clean_and_preprocess_text)\n",
    "dev_data['clean_text'] = dev_data['text'].apply(clean_and_preprocess_text)\n",
    "test_data['clean_text'] = test_data['text'].apply(clean_and_preprocess_text)"
   ]
  },
  {
   "cell_type": "markdown",
   "metadata": {
    "id": "pJi_wvbQKQxg"
   },
   "source": [
    "Tokenization"
   ]
  },
  {
   "cell_type": "code",
   "execution_count": 19,
   "metadata": {
    "id": "_4dvD72rKS7I"
   },
   "outputs": [],
   "source": [
    "from nltk.tokenize import word_tokenize\n",
    "\n",
    "text = \"This is an example sentence. Let's see how it's tokenized!\"\n",
    "tokens = word_tokenize(text)"
   ]
  },
  {
   "cell_type": "markdown",
   "metadata": {
    "id": "_4_KWJM_KVdu"
   },
   "source": [
    "Removing Stopwords"
   ]
  },
  {
   "cell_type": "code",
   "execution_count": 20,
   "metadata": {
    "id": "GuHvHxnKKfFO"
   },
   "outputs": [],
   "source": [
    "from nltk.corpus import stopwords\n",
    "\n",
    "stop_words = set(stopwords.words('english'))\n",
    "filtered_tokens = [word for word in tokens if word not in stop_words]"
   ]
  },
  {
   "cell_type": "markdown",
   "metadata": {
    "id": "qXm5TIrfKkCd"
   },
   "source": [
    "Lemmatization"
   ]
  },
  {
   "cell_type": "code",
   "execution_count": 21,
   "metadata": {
    "id": "R3csG6hmKlHY"
   },
   "outputs": [],
   "source": [
    "from nltk.stem import WordNetLemmatizer\n",
    "\n",
    "lemmatizer = WordNetLemmatizer()\n",
    "lemmatized_tokens = [lemmatizer.lemmatize(word) for word in filtered_tokens]"
   ]
  },
  {
   "cell_type": "markdown",
   "metadata": {
    "id": "1WvofSRWK7GH"
   },
   "source": [
    "**Text Preprocessing Plotting (before/after)**"
   ]
  },
  {
   "cell_type": "markdown",
   "metadata": {},
   "source": [
    "The bar chart presented here illustrates the effect of text preprocessing on the word count in a sample tweet. From the chart, it's evident that the preprocessing steps, which likely included tokenization, stopword removal, and lemmatization, have significantly reduced the number of words from the original text to the processed text."
   ]
  },
  {
   "cell_type": "code",
   "execution_count": 22,
   "metadata": {
    "colab": {
     "base_uri": "https://localhost:8080/",
     "height": 452
    },
    "id": "uoOJ16AdK8_u",
    "outputId": "8c1b1d34-3fa8-48e6-94a5-f3153c17aac2"
   },
   "outputs": [
    {
     "data": {
      "image/png": "[encoded data removed]",
      "text/plain": [
       "<Figure size 640x480 with 1 Axes>"
      ]
     },
     "metadata": {},
     "output_type": "display_data"
    }
   ],
   "source": [
    "import matplotlib.pyplot as plt\n",
    "\n",
    "# 'text' is a sample tweet\n",
    "text = \"This is an example tweet, demonstrating tokenization, stopword removal, and lemmatization!\"\n",
    "\n",
    "# Tokenization\n",
    "tokens = word_tokenize(text.lower())\n",
    "\n",
    "# Removing stopwords\n",
    "filtered_tokens = [word for word in tokens if word.isalpha() and word not in stopwords.words('english')]\n",
    "\n",
    "# Lemmatization\n",
    "lemmatized_tokens = [lemmatizer.lemmatize(word) for word in filtered_tokens]\n",
    "\n",
    "# Counting words before and after preprocessing\n",
    "original_word_count = len(word_tokenize(text))\n",
    "processed_word_count = len(lemmatized_tokens)\n",
    "\n",
    "# Plotting\n",
    "plt.bar(['Original', 'Processed'], [original_word_count, processed_word_count])\n",
    "plt.title('Word Count: Before and After Preprocessing')\n",
    "plt.ylabel('Number of Words')\n",
    "plt.show()"
   ]
  },
  {
   "cell_type": "markdown",
   "metadata": {
    "id": "QtK4v6fwLH6z"
   },
   "source": [
    "# Feature Engineering"
   ]
  },
  {
   "cell_type": "markdown",
   "metadata": {
    "id": "tS1r9zayLdMw"
   },
   "source": [
    "**TF-IDF (Term Frequency-Inverse Document Frequency)**"
   ]
  },
  {
   "cell_type": "markdown",
   "metadata": {},
   "source": [
    "I initialized the TfidfVectorizer to keep a maximum of 5000 features, which means it would select the top 5000 most frequent terms across all documents in my training set."
   ]
  },
  {
   "cell_type": "code",
   "execution_count": 23,
   "metadata": {
    "id": "nN2m3wcPLLPh"
   },
   "outputs": [],
   "source": [
    "from sklearn.feature_extraction.text import TfidfVectorizer\n",
    "\n",
    "vectorizer = TfidfVectorizer(max_features=5000)\n",
    "X_train_tfidf = vectorizer.fit_transform(train_data['clean_text'])"
   ]
  },
  {
   "cell_type": "markdown",
   "metadata": {},
   "source": [
    "After fitting the vectorizer to the 'clean_text' column in my train_data, I used it to transform the texts into their corresponding TF-IDF representation, resulting in X_train_tfidf. I wanted to visualize this high-dimensional TF-IDF data in a two-dimensional space to understand the data's structure and potentially identify patterns or clusters. For this, I turned to t-distributed Stochastic Neighbor Embedding (t-SNE), a powerful dimensionality reduction technique that is particularly well-suited for the visualization of high-dimensional datasets. Using Scikit-learn's TSNE class, I reduced the dimensionality of the TF-IDF feature matrix to two components, which allowed me to plot and visualize the data. I specified random_state=0 to make the output deterministic, as t-SNE has a random component to it."
   ]
  },
  {
   "cell_type": "code",
   "execution_count": 24,
   "metadata": {
    "id": "7_ODL0tbOBtZ"
   },
   "outputs": [],
   "source": [
    "from sklearn.manifold import TSNE\n",
    "import matplotlib.pyplot as plt\n",
    "\n",
    "# X_train_tfidf is F-IDF features\n",
    "X_reduced_tfidf = TSNE(n_components=2, random_state=0).fit_transform(X_train_tfidf.toarray())"
   ]
  },
  {
   "cell_type": "markdown",
   "metadata": {
    "id": "nzctS6I6MIdW"
   },
   "source": [
    "**BERT (Bidirectional Encoder Representations from Transformers)**"
   ]
  },
  {
   "cell_type": "markdown",
   "metadata": {},
   "source": [
    "I integrated BERT into my project using PyTorch and the Hugging Face transformers library. First, I loaded the BERT tokenizer for the 'bert-base-uncased' model. Tokenizers in NLP are responsible for converting text into tokens that the model can understand.\n",
    "\n",
    "I then used the tokenizer to encode a sample text phrase, \"ML will change world\". The encode method of the tokenizer converts the text into a sequence of integers, where each integer represents a unique token. I specified add_special_tokens=True to include tokens like [CLS] (start of a sequence) and [SEP] (end of a sequence), which are necessary for BERT to understand sentence boundaries."
   ]
  },
  {
   "cell_type": "code",
   "execution_count": 29,
   "metadata": {
    "colab": {
     "base_uri": "https://localhost:8080/"
    },
    "id": "uhRGAiFLMJ9r",
    "outputId": "7764d098-10c9-4ebf-d36d-43ffa317fc15"
   },
   "outputs": [
    {
     "name": "stderr",
     "output_type": "stream",
     "text": [
      "/home/elsun/.local/lib/python3.10/site-packages/tqdm/auto.py:21: TqdmWarning: IProgress not found. Please update jupyter and ipywidgets. See https://ipywidgets.readthedocs.io/en/stable/user_install.html\n",
      "  from .autonotebook import tqdm as notebook_tqdm\n",
      "tokenizer_config.json: 100%|██████████| 28.0/28.0 [00:00<00:00, 68.4kB/s]\n",
      "vocab.txt: 100%|██████████| 232k/232k [00:00<00:00, 854kB/s]\n",
      "tokenizer.json: 100%|██████████| 466k/466k [00:00<00:00, 3.80MB/s]\n",
      "config.json: 100%|██████████| 570/570 [00:00<00:00, 1.58MB/s]\n",
      "model.safetensors: 100%|██████████| 440M/440M [01:21<00:00, 5.38MB/s] \n"
     ]
    }
   ],
   "source": [
    "import torch\n",
    "from transformers import BertTokenizer, BertModel\n",
    "\n",
    "# Load pre-trained model tokenizer\n",
    "tokenizer = BertTokenizer.from_pretrained('bert-base-uncased')\n",
    "\n",
    "# Encode text\n",
    "input_ids = tokenizer.encode(\"ML will change the world\", add_special_tokens=True)\n",
    "\n",
    "# Convert to tensor\n",
    "input_ids = torch.tensor([input_ids])\n",
    "\n",
    "# Load pre-trained model\n",
    "model = BertModel.from_pretrained('bert-base-uncased')\n",
    "\n",
    "# Forward pass, get hidden states\n",
    "with torch.no_grad():\n",
    "    outputs = model(input_ids)\n",
    "    last_hidden_states = outputs.last_hidden_state\n"
   ]
  },
  {
   "cell_type": "markdown",
   "metadata": {},
   "source": [
    "#### **Data Augmentation**"
   ]
  },
  {
   "cell_type": "markdown",
   "metadata": {
    "id": "eCcOmm21nODG"
   },
   "source": [
    "Synonym Replacement"
   ]
  },
  {
   "cell_type": "markdown",
   "metadata": {},
   "source": [
    "I decided to implement a data augmentation technique known as synonym replacement. I wrote a Python function called synonym_replacement that takes a sentence and a number 'n' which represents how many words in the sentence I aim to replace. The process starts by splitting the sentence into individual words and then identifying which of these are not common English stop words. "
   ]
  },
  {
   "cell_type": "code",
   "execution_count": 30,
   "metadata": {
    "id": "n5zCyIEonOli"
   },
   "outputs": [],
   "source": [
    "import random\n",
    "from nltk.corpus import wordnet\n",
    "\n",
    "def synonym_replacement(sentence, n):\n",
    "    words = sentence.split()\n",
    "    new_words = words.copy()\n",
    "    random_word_list = list(set([word for word in words if word not in stopwords.words('english')]))\n",
    "    random.shuffle(random_word_list)\n",
    "    num_replaced = 0\n",
    "\n",
    "    for random_word in random_word_list:\n",
    "        synonyms = get_synonyms(random_word)\n",
    "        if len(synonyms) >= 1:\n",
    "            synonym = random.choice(synonyms)\n",
    "            new_words = [synonym if word == random_word else word for word in new_words]\n",
    "            num_replaced += 1\n",
    "\n",
    "        if num_replaced >= n: \n",
    "            break\n",
    "\n",
    "    sentence = ' '.join(new_words)\n",
    "    return sentence\n",
    "\n",
    "def get_synonyms(word):\n",
    "    synonyms = set()\n",
    "    for syn in wordnet.synsets(word):\n",
    "        for lemma in syn.lemmas():\n",
    "            synonym = lemma.name().replace(\"_\", \" \").replace(\"-\", \" \").lower()\n",
    "            synonym = \"\".join([char for char in synonym if char in ' abcdefghijklmnopqrstuvwxyz'])\n",
    "            synonyms.add(synonym)\n",
    "    if word in synonyms:\n",
    "        synonyms.remove(word)\n",
    "    return list(synonyms)\n"
   ]
  },
  {
   "cell_type": "markdown",
   "metadata": {
    "id": "BiQEhSrAnWzB"
   },
   "source": [
    "# **Modeling**"
   ]
  },
  {
   "cell_type": "markdown",
   "metadata": {},
   "source": [
    "### **Shallow Classifiers**"
   ]
  },
  {
   "cell_type": "markdown",
   "metadata": {
    "id": "pKbUQrwcn3ad"
   },
   "source": [
    "**Logistic Regression Model**"
   ]
  },
  {
   "cell_type": "markdown",
   "metadata": {},
   "source": [
    "I opted to use a Logistic Regression model, known for its efficiency and effectiveness in binary and multiclass classification problems.\n",
    "\n",
    "I transformed the cleaned tweet text into numerical data using TF-IDF (Term Frequency-Inverse Document Frequency) vectorization, which captures the importance of words relative to the entire dataset. The TfidfVectorizer was set to a maximum of 5000 features to limit the dimensionality and focus on the most relevant terms.\n",
    "\n",
    "With the features and encoded labels, the Logistic Regression model was trained using a maximum of 1000 iterations to ensure convergence. The same TF-IDF vectorizer was applied to the development dataset's cleaned text to maintain consistency in feature representation."
   ]
  },
  {
   "cell_type": "code",
   "execution_count": 31,
   "metadata": {
    "id": "NzVj8pUKoVsb"
   },
   "outputs": [],
   "source": [
    "y_train = train_data['airline_sentiment']"
   ]
  },
  {
   "cell_type": "code",
   "execution_count": 32,
   "metadata": {
    "id": "Nf7RVrREod5y"
   },
   "outputs": [],
   "source": [
    "from sklearn.feature_extraction.text import TfidfVectorizer\n",
    "\n",
    "# 'clean_text' is preprocessed text column\n",
    "vectorizer = TfidfVectorizer(max_features=5000)\n",
    "X_train_tfidf = vectorizer.fit_transform(train_data['clean_text'])"
   ]
  },
  {
   "cell_type": "code",
   "execution_count": 33,
   "metadata": {
    "id": "7rCo2Hb1ojmm"
   },
   "outputs": [],
   "source": [
    "from sklearn.preprocessing import LabelEncoder\n",
    "\n",
    "label_encoder = LabelEncoder()\n",
    "y_train = label_encoder.fit_transform(y_train)"
   ]
  },
  {
   "cell_type": "code",
   "execution_count": 104,
   "metadata": {
    "id": "60PAHjNFowW9"
   },
   "outputs": [],
   "source": [
    "from sklearn.preprocessing import LabelEncoder\n",
    "\n",
    "# LabelEncoder\n",
    "label_encoder = LabelEncoder()\n",
    "\n",
    "# Fitting the encoder on the training labels\n",
    "label_encoder.fit(train_data['airline_sentiment'])\n",
    "\n",
    "# Transform both training and development labels\n",
    "y_train_encoded = label_encoder.transform(train_data['airline_sentiment'])\n",
    "y_dev_encoded = label_encoder.transform(dev_data['airline_sentiment'])\n"
   ]
  },
  {
   "cell_type": "markdown",
   "metadata": {},
   "source": [
    "The classification report for the Logistic Regression model on the development data yielded:\n",
    "\n",
    "- *Class 0 (Negative Sentiment):* The model achieved high precision and recall, indicating strong performance in identifying negative sentiments.\n",
    "- *Class 1 (Neutral Sentiment):* The precision and recall were lower compared to negative sentiments, which suggests room for improvement in classifying neutral sentiments.\n",
    "- *Class 2 (Positive Sentiment):* The model performed moderately well, with decent precision but lower recall, indicating some positive sentiments might be missed.\n",
    "\n",
    "The model achieved an accuracy of 76% on the development set, reflecting its capability to correctly classify sentiments the majority of the time. The macro average, which treats all classes equally, was lower than the weighted average that accounts for class imbalance, underscoring the impact of class distribution on model performance."
   ]
  },
  {
   "cell_type": "code",
   "execution_count": 105,
   "metadata": {
    "colab": {
     "base_uri": "https://localhost:8080/"
    },
    "id": "GKOYkXZigG62",
    "outputId": "1d7f89d8-c803-46e3-d1b1-8f05ebff7c88"
   },
   "outputs": [
    {
     "name": "stdout",
     "output_type": "stream",
     "text": [
      "              precision    recall  f1-score   support\n",
      "\n",
      "           0       0.79      0.92      0.85       826\n",
      "           1       0.61      0.44      0.51       279\n",
      "           2       0.81      0.57      0.67       213\n",
      "\n",
      "    accuracy                           0.76      1318\n",
      "   macro avg       0.74      0.65      0.68      1318\n",
      "weighted avg       0.76      0.76      0.75      1318\n",
      "\n"
     ]
    }
   ],
   "source": [
    "from sklearn.linear_model import LogisticRegression\n",
    "from sklearn.metrics import classification_report\n",
    "\n",
    "# X_train_tfidf and y_train are training data and labels\n",
    "logreg_model = LogisticRegression(max_iter=1000)\n",
    "logreg_model.fit(X_train_tfidf, y_train_encoded)\n",
    "\n",
    "# Evaluating on the development set\n",
    "X_dev_tfidf = vectorizer.transform(dev_data['clean_text'])\n",
    "y_dev = dev_data['airline_sentiment']\n",
    "y_pred_dev = logreg_model.predict(X_dev_tfidf)\n",
    "\n",
    "print(classification_report(y_dev_encoded, y_pred_dev))"
   ]
  },
  {
   "cell_type": "markdown",
   "metadata": {},
   "source": [
    "The Logistic Regression model demonstrated a promising ability to distinguish between different sentiments in the dataset. Its strength in identifying negative sentiments is notable; however, there is potential to improve its performance on neutral and positive sentiments."
   ]
  },
  {
   "cell_type": "code",
   "execution_count": 37,
   "metadata": {
    "colab": {
     "base_uri": "https://localhost:8080/"
    },
    "id": "Soq8BtFCn2z_",
    "outputId": "9629cc18-71aa-46c2-be0a-9ccce4af9e6e"
   },
   "outputs": [
    {
     "name": "stdout",
     "output_type": "stream",
     "text": [
      "['positive' 'positive' 'negative' ... 'negative' 'negative' 'positive']\n"
     ]
    }
   ],
   "source": [
    "y_pred_dev_labels = label_encoder.inverse_transform(y_pred_dev)\n",
    "print(y_pred_dev_labels)"
   ]
  },
  {
   "cell_type": "markdown",
   "metadata": {},
   "source": [
    "**Support Vector Machine (SVM) Model**"
   ]
  },
  {
   "cell_type": "markdown",
   "metadata": {},
   "source": [
    "I used LabelEncoder to convert the airline_sentiment labels from categorical to numerical format, which is necessary for training with the SVM algorithm. The SVM model was trained using the TF-IDF features from the training set and the encoded sentiment labels."
   ]
  },
  {
   "cell_type": "code",
   "execution_count": 53,
   "metadata": {},
   "outputs": [],
   "source": [
    "from sklearn.preprocessing import LabelEncoder\n",
    "\n",
    "label_encoder = LabelEncoder()\n",
    "y_train_encoded_svm = label_encoder.fit_transform(train_data['airline_sentiment'])\n",
    "y_dev_encoded_svm = label_encoder.transform(dev_data['airline_sentiment'])"
   ]
  },
  {
   "cell_type": "markdown",
   "metadata": {},
   "source": [
    "The model was used to predict sentiments on the development set, which was transformed using the same TF-IDF vectorizer to ensure consistency. The SVM model achieved an accuracy of 77.24% on the development set, indicating a strong predictive performance.\n",
    "\n",
    "- Negative Sentiment (Class 'negative'): High precision and recall suggest that the SVM model is particularly effective at identifying negative sentiments.\n",
    "- Neutral Sentiment (Class 'neutral'): The model showed decent precision but lower recall, which indicates that some neutral tweets are likely being misclassified.\n",
    "- Positive Sentiment (Class 'positive'): The model performed reasonably well with good precision but modest recall, suggesting there is room for improvement in detecting positive sentiments.\n",
    "\n",
    "The SVM model's performance on the sentiment analysis task is commendable, with high accuracy and a balanced classification report that shows its strength in identifying negative sentiments. The model's lower recall for neutral and positive sentiments points to potential areas for improvement. "
   ]
  },
  {
   "cell_type": "code",
   "execution_count": 54,
   "metadata": {},
   "outputs": [
    {
     "name": "stdout",
     "output_type": "stream",
     "text": [
      "SVM Accuracy: 0.7723823975720789\n",
      "\n",
      "SVM Classification Report:\n",
      "              precision    recall  f1-score   support\n",
      "\n",
      "    negative       0.80      0.91      0.85       826\n",
      "     neutral       0.63      0.47      0.54       279\n",
      "    positive       0.79      0.62      0.69       213\n",
      "\n",
      "    accuracy                           0.77      1318\n",
      "   macro avg       0.74      0.67      0.69      1318\n",
      "weighted avg       0.76      0.77      0.76      1318\n",
      "\n"
     ]
    }
   ],
   "source": [
    "# Train the SVM Model\n",
    "svm_model = SVC(kernel='linear')\n",
    "svm_model.fit(X_train_tfidf, y_train_encoded_svm)\n",
    "\n",
    "# Evaluate the SVM Model\n",
    "y_pred_dev_svm = svm_model.predict(X_dev_tfidf)\n",
    "accuracy_svm = accuracy_score(y_dev_encoded_svm, y_pred_dev_svm)\n",
    "print(\"SVM Accuracy:\", accuracy_svm)\n",
    "print(\"\\nSVM Classification Report:\")\n",
    "print(classification_report(y_dev_encoded_svm, y_pred_dev_svm, target_names=label_encoder.classes_))"
   ]
  },
  {
   "cell_type": "markdown",
   "metadata": {},
   "source": [
    "**Naive Bayes Model**"
   ]
  },
  {
   "cell_type": "markdown",
   "metadata": {},
   "source": [
    "Using the trained Naive Bayes model, I predicted sentiment labels on the TF-IDF transformed development set text data. The model achieved an accuracy of 71.02% on the development set. The report details the precision, recall, and F1-score for each sentiment class:\n",
    "\n",
    "- Negative Sentiment: Exhibited high precision and recall, indicating strong performance in identifying negative sentiments, which is the majority class in the dataset.\n",
    "- Neutral Sentiment: Showed a lower recall compared to precision, suggesting that the model struggles to identify tweets that are neutral.\n",
    "- Positive Sentiment: Although precision is relatively high, recall is significantly lower, implying that the model is missing a substantial number of positive sentiments.\n",
    "\n",
    "The Naive Bayes model's performance indicates a challenge in correctly classifying neutral and positive sentiments compared to negative ones. This discrepancy between precision and recall, especially in non-negative classes, suggests that while the model is conservative in predicting positive and neutral sentiments, when it does predict these classes, it is often correct."
   ]
  },
  {
   "cell_type": "code",
   "execution_count": 58,
   "metadata": {},
   "outputs": [],
   "source": [
    "from sklearn.preprocessing import LabelEncoder\n",
    "\n",
    "label_encoder = LabelEncoder()\n",
    "y_train_encoded_nb = label_encoder.fit_transform(train_data['airline_sentiment'])\n",
    "y_dev_encoded_nb = label_encoder.transform(dev_data['airline_sentiment'])"
   ]
  },
  {
   "cell_type": "code",
   "execution_count": 59,
   "metadata": {},
   "outputs": [
    {
     "name": "stdout",
     "output_type": "stream",
     "text": [
      "Naive Bayes Accuracy: 0.7101669195751138\n",
      "\n",
      "Naive Bayes Classification Report:\n",
      "              precision    recall  f1-score   support\n",
      "\n",
      "    negative       0.70      0.98      0.82       826\n",
      "     neutral       0.68      0.18      0.29       279\n",
      "    positive       0.87      0.35      0.50       213\n",
      "\n",
      "    accuracy                           0.71      1318\n",
      "   macro avg       0.75      0.50      0.53      1318\n",
      "weighted avg       0.72      0.71      0.65      1318\n",
      "\n"
     ]
    }
   ],
   "source": [
    "from sklearn.naive_bayes import MultinomialNB\n",
    "\n",
    "# Train the Naive Bayes Model\n",
    "nb_model = MultinomialNB()\n",
    "nb_model.fit(X_train_tfidf, y_train_encoded_nb)\n",
    "\n",
    "# Evaluate the Naive Bayes Model\n",
    "y_pred_dev_nb = nb_model.predict(X_dev_tfidf)\n",
    "accuracy_nb = accuracy_score(y_dev_encoded_nb, y_pred_dev_nb)\n",
    "print(\"Naive Bayes Accuracy:\", accuracy_nb)\n",
    "print(\"\\nNaive Bayes Classification Report:\")\n",
    "print(classification_report(y_dev_encoded_nb, y_pred_dev_nb, target_names=label_encoder.classes_))"
   ]
  },
  {
   "cell_type": "markdown",
   "metadata": {},
   "source": [
    "**Testing Sentiment with text (Use Case)**"
   ]
  },
  {
   "cell_type": "markdown",
   "metadata": {},
   "source": [
    "I just wrote some text for testing how sentiment prediction is working. From example, I wrote \"I love machine learning\", it predicted as positive. It means our model predicting very well."
   ]
  },
  {
   "cell_type": "code",
   "execution_count": 65,
   "metadata": {},
   "outputs": [
    {
     "name": "stdout",
     "output_type": "stream",
     "text": [
      "Predicted Sentiment: positive\n"
     ]
    }
   ],
   "source": [
    "def predict_sentiment(new_text, model, vectorizer, label_encoder):\n",
    "    # Preprocess the text\n",
    "    preprocessed_text = clean_and_preprocess_text(new_text)  # I used the same function during training\n",
    "\n",
    "    # Convert text to features (TF-IDF)\n",
    "    text_tfidf = vectorizer.transform([preprocessed_text])\n",
    "\n",
    "    # Predict sentiment\n",
    "    prediction_encoded = model.predict(text_tfidf)\n",
    "\n",
    "    # Convert numerical prediction back to label\n",
    "    prediction_label = label_encoder.inverse_transform(prediction_encoded)\n",
    "\n",
    "    return prediction_label[0]\n",
    "\n",
    "# Example usage\n",
    "new_text = \"I love machine learning\"\n",
    "predicted_sentiment = predict_sentiment(new_text, svm_model, vectorizer, label_encoder)  # predicting with svm_model\n",
    "print(f\"Predicted Sentiment: {predicted_sentiment}\")\n"
   ]
  },
  {
   "cell_type": "markdown",
   "metadata": {},
   "source": [
    "### **Cross-Validation**"
   ]
  },
  {
   "cell_type": "markdown",
   "metadata": {},
   "source": [
    "***Label-Encoded Target for Cross Validation***"
   ]
  },
  {
   "cell_type": "markdown",
   "metadata": {},
   "source": [
    " I conducted 5-fold cross-validation to estimate the generalization performance of our models. The Logistic Regression model showed a cross-validated accuracy of approximately 0.774, indicating stable performance across different data splits. The SVM model slightly outperformed Logistic Regression with an accuracy of around 0.777, suggesting it may capture the nuances of the data more effectively. Naive Bayes, while having the lowest accuracy at 0.714, still demonstrated reasonable performance, confirming its viability for sentiment analysis."
   ]
  },
  {
   "cell_type": "code",
   "execution_count": 69,
   "metadata": {},
   "outputs": [
    {
     "name": "stdout",
     "output_type": "stream",
     "text": [
      "Logistic Regression - Cross-Validated Accuracy: 0.7739933698576746\n",
      "SVM - Cross-Validated Accuracy: 0.7771974881988161\n",
      "Naive Bayes - Cross-Validated Accuracy: 0.7136117774997637\n"
     ]
    }
   ],
   "source": [
    "from sklearn.preprocessing import LabelEncoder\n",
    "\n",
    "label_encoder = LabelEncoder()\n",
    "y_train_label_encoded = label_encoder.fit_transform(train_data['airline_sentiment'])\n",
    "\n",
    "# y_train_label_encoded for cross-validation\n",
    "logreg_scores = cross_val_score(LogisticRegression(max_iter=1000), X_train_tfidf, y_train_label_encoded, cv=5)\n",
    "print(\"Logistic Regression - Cross-Validated Accuracy:\", logreg_scores.mean())\n",
    "\n",
    "# SVM\n",
    "svm_scores = cross_val_score(SVC(kernel='linear'), X_train_tfidf, y_train_encoded_svm, cv=5)\n",
    "print(\"SVM - Cross-Validated Accuracy:\", svm_scores.mean())\n",
    "\n",
    "# Naive Bayes\n",
    "nb_scores = cross_val_score(MultinomialNB(), X_train_tfidf, y_train_encoded_nb, cv=5)\n",
    "print(\"Naive Bayes - Cross-Validated Accuracy:\", nb_scores.mean())"
   ]
  },
  {
   "cell_type": "markdown",
   "metadata": {},
   "source": [
    "### Hyperparameter Tuning"
   ]
  },
  {
   "cell_type": "markdown",
   "metadata": {},
   "source": [
    "To optimize the SVM model, I performed hyperparameter tuning using GridSearchCV. This process involved searching through a predefined grid of parameters, including the regularization parameter C, kernel coefficient gamma, and various kernel types. The optimal parameters were found to be an RBF kernel with C set to 100 and gamma set to 'scale', resulting in the best score of 0.779. This score surpasses the baseline SVM, indicating that the tuning process has yielded a more effective model for sentiment analysis task."
   ]
  },
  {
   "cell_type": "code",
   "execution_count": 70,
   "metadata": {},
   "outputs": [
    {
     "name": "stdout",
     "output_type": "stream",
     "text": [
      "Best Parameters for SVM: {'C': 100, 'gamma': 'scale', 'kernel': 'rbf'}\n",
      "Best Score: 0.7793064808538815\n"
     ]
    }
   ],
   "source": [
    "from sklearn.model_selection import GridSearchCV\n",
    "\n",
    "# Defining the parameter grid\n",
    "param_grid_svm = {\n",
    "    'C': [0.1, 1, 10, 100],\n",
    "    'gamma': ['scale', 'auto'],\n",
    "    'kernel': ['linear', 'rbf', 'poly']\n",
    "}\n",
    "\n",
    "# Creating a GridSearchCV object\n",
    "grid_search_svm = GridSearchCV(SVC(), param_grid_svm, cv=5, scoring='accuracy')\n",
    "grid_search_svm.fit(X_train_tfidf, y_train_encoded_svm)\n",
    "\n",
    "# Best parameters and best score\n",
    "print(\"Best Parameters for SVM:\", grid_search_svm.best_params_)\n",
    "print(\"Best Score:\", grid_search_svm.best_score_)"
   ]
  },
  {
   "cell_type": "markdown",
   "metadata": {},
   "source": [
    "I found the combination of hyperparameters that yielded regularization parameter C with value of 100 provided the best trade-off between model complexity and predictive power. The 'liblinear' algorithm was identified as the optimal solver for this task. It is often recommended for small to medium-sized datasets and binary classification problems. The best cross-validated accuracy obtained from this grid search was approximately 0.775, indicating an improvement compared to the baseline Logistic Regression model without hyperparameter tuning."
   ]
  },
  {
   "cell_type": "code",
   "execution_count": 71,
   "metadata": {},
   "outputs": [
    {
     "name": "stdout",
     "output_type": "stream",
     "text": [
      "Best Parameters for Logistic Regression: {'C': 10, 'solver': 'liblinear'}\n",
      "Best Score: 0.7750891712179847\n"
     ]
    }
   ],
   "source": [
    "from sklearn.linear_model import LogisticRegression\n",
    "from sklearn.model_selection import GridSearchCV\n",
    "\n",
    "# Defining the parameter grid\n",
    "param_grid_lr = {\n",
    "    'C': [0.001, 0.01, 0.1, 1, 10, 100],  # Regularization parameter\n",
    "    'solver': ['newton-cg', 'lbfgs', 'liblinear', 'sag', 'saga']  # Algorithm to use in the optimization problem\n",
    "}\n",
    "\n",
    "# Creating a GridSearchCV object\n",
    "grid_search_lr = GridSearchCV(LogisticRegression(max_iter=1000), param_grid_lr, cv=5, scoring='accuracy')\n",
    "grid_search_lr.fit(X_train_tfidf, y_train_label_encoded)\n",
    "\n",
    "# Best parameters and best score\n",
    "print(\"Best Parameters for Logistic Regression:\", grid_search_lr.best_params_)\n",
    "print(\"Best Score:\", grid_search_lr.best_score_)"
   ]
  },
  {
   "cell_type": "markdown",
   "metadata": {},
   "source": [
    "I performed hyperparameter tuning on the Naive Bayes classifier, focusing on the alpha parameter, which controls the additive (Laplace/Lidstone) smoothing. A value of 0.1 was determined to be the best, suggesting that a small amount of smoothing improves model performance without overly diluting the effect of the actual data. The best accuracy score achieved through this tuning process was approximately 0.748."
   ]
  },
  {
   "cell_type": "code",
   "execution_count": 72,
   "metadata": {},
   "outputs": [
    {
     "name": "stdout",
     "output_type": "stream",
     "text": [
      "Best Parameters for Naive Bayes: {'alpha': 0.1}\n",
      "Best Score: 0.7478506446999047\n"
     ]
    }
   ],
   "source": [
    "from sklearn.naive_bayes import MultinomialNB\n",
    "\n",
    "# Defining the parameter grid\n",
    "param_grid_nb = {\n",
    "    'alpha': [0.001, 0.01, 0.1, 1, 10]  # Additive (Laplace/Lidstone) smoothing parameter\n",
    "}\n",
    "\n",
    "# Creating a GridSearchCV object\n",
    "grid_search_nb = GridSearchCV(MultinomialNB(), param_grid_nb, cv=5, scoring='accuracy')\n",
    "grid_search_nb.fit(X_train_tfidf, y_train_label_encoded)\n",
    "\n",
    "# Best parameters and best score\n",
    "print(\"Best Parameters for Naive Bayes:\", grid_search_nb.best_params_)\n",
    "print(\"Best Score:\", grid_search_nb.best_score_)"
   ]
  },
  {
   "cell_type": "markdown",
   "metadata": {},
   "source": [
    "**Retrain (Logistic Regression, SVM, Naive Bayes)**"
   ]
  },
  {
   "cell_type": "markdown",
   "metadata": {},
   "source": [
    "I also implemented traditional machine learning algorithms such as Logistic Regression, Support Vector Machine (SVM), and Naive Bayes, each optimized through hyperparameter tuning using grid search.\n",
    "\n",
    "Firstly, I used the grid_search_lr object, which had previously been fitted with a range of hyperparameters on the training data, to extract the best parameters for the Logistic Regression model. The best_params_ attribute of the grid_search_lr object provided me with the optimal combination of parameters that gave the best cross-validated performance. With these parameters, I instantiated a new LogisticRegression model and fitted it to my training data, which was represented as TF-IDF vectors stored in X_train_tfidf. This approach aimed to fine-tune the model for better performance on my specific dataset."
   ]
  },
  {
   "cell_type": "code",
   "execution_count": 76,
   "metadata": {},
   "outputs": [
    {
     "data": {
      "text/html": [
       "<style>#sk-container-id-4 {color: black;}#sk-container-id-4 pre{padding: 0;}#sk-container-id-4 div.sk-toggleable {background-color: white;}#sk-container-id-4 label.sk-toggleable__label {cursor: pointer;display: block;width: 100%;margin-bottom: 0;padding: 0.3em;box-sizing: border-box;text-align: center;}#sk-container-id-4 label.sk-toggleable__label-arrow:before {content: \"▸\";float: left;margin-right: 0.25em;color: #696969;}#sk-container-id-4 label.sk-toggleable__label-arrow:hover:before {color: black;}#sk-container-id-4 div.sk-estimator:hover label.sk-toggleable__label-arrow:before {color: black;}#sk-container-id-4 div.sk-toggleable__content {max-height: 0;max-width: 0;overflow: hidden;text-align: left;background-color: #f0f8ff;}#sk-container-id-4 div.sk-toggleable__content pre {margin: 0.2em;color: black;border-radius: 0.25em;background-color: #f0f8ff;}#sk-container-id-4 input.sk-toggleable__control:checked~div.sk-toggleable__content {max-height: 200px;max-width: 100%;overflow: auto;}#sk-container-id-4 input.sk-toggleable__control:checked~label.sk-toggleable__label-arrow:before {content: \"▾\";}#sk-container-id-4 div.sk-estimator input.sk-toggleable__control:checked~label.sk-toggleable__label {background-color: #d4ebff;}#sk-container-id-4 div.sk-label input.sk-toggleable__control:checked~label.sk-toggleable__label {background-color: #d4ebff;}#sk-container-id-4 input.sk-hidden--visually {border: 0;clip: rect(1px 1px 1px 1px);clip: rect(1px, 1px, 1px, 1px);height: 1px;margin: -1px;overflow: hidden;padding: 0;position: absolute;width: 1px;}#sk-container-id-4 div.sk-estimator {font-family: monospace;background-color: #f0f8ff;border: 1px dotted black;border-radius: 0.25em;box-sizing: border-box;margin-bottom: 0.5em;}#sk-container-id-4 div.sk-estimator:hover {background-color: #d4ebff;}#sk-container-id-4 div.sk-parallel-item::after {content: \"\";width: 100%;border-bottom: 1px solid gray;flex-grow: 1;}#sk-container-id-4 div.sk-label:hover label.sk-toggleable__label {background-color: #d4ebff;}#sk-container-id-4 div.sk-serial::before {content: \"\";position: absolute;border-left: 1px solid gray;box-sizing: border-box;top: 0;bottom: 0;left: 50%;z-index: 0;}#sk-container-id-4 div.sk-serial {display: flex;flex-direction: column;align-items: center;background-color: white;padding-right: 0.2em;padding-left: 0.2em;position: relative;}#sk-container-id-4 div.sk-item {position: relative;z-index: 1;}#sk-container-id-4 div.sk-parallel {display: flex;align-items: stretch;justify-content: center;background-color: white;position: relative;}#sk-container-id-4 div.sk-item::before, #sk-container-id-4 div.sk-parallel-item::before {content: \"\";position: absolute;border-left: 1px solid gray;box-sizing: border-box;top: 0;bottom: 0;left: 50%;z-index: -1;}#sk-container-id-4 div.sk-parallel-item {display: flex;flex-direction: column;z-index: 1;position: relative;background-color: white;}#sk-container-id-4 div.sk-parallel-item:first-child::after {align-self: flex-end;width: 50%;}#sk-container-id-4 div.sk-parallel-item:last-child::after {align-self: flex-start;width: 50%;}#sk-container-id-4 div.sk-parallel-item:only-child::after {width: 0;}#sk-container-id-4 div.sk-dashed-wrapped {border: 1px dashed gray;margin: 0 0.4em 0.5em 0.4em;box-sizing: border-box;padding-bottom: 0.4em;background-color: white;}#sk-container-id-4 div.sk-label label {font-family: monospace;font-weight: bold;display: inline-block;line-height: 1.2em;}#sk-container-id-4 div.sk-label-container {text-align: center;}#sk-container-id-4 div.sk-container {/* jupyter's `normalize.less` sets `[hidden] { display: none; }` but bootstrap.min.css set `[hidden] { display: none !important; }` so we also need the `!important` here to be able to override the default hidden behavior on the sphinx rendered scikit-learn.org. See: https://github.com/scikit-learn/scikit-learn/issues/21755 */display: inline-block !important;position: relative;}#sk-container-id-4 div.sk-text-repr-fallback {display: none;}</style><div id=\"sk-container-id-4\" class=\"sk-top-container\"><div class=\"sk-text-repr-fallback\"><pre>LogisticRegression(C=10, solver=&#x27;liblinear&#x27;)</pre><b>In a Jupyter environment, please rerun this cell to show the HTML representation or trust the notebook. <br />On GitHub, the HTML representation is unable to render, please try loading this page with nbviewer.org.</b></div><div class=\"sk-container\" hidden><div class=\"sk-item\"><div class=\"sk-estimator sk-toggleable\"><input class=\"sk-toggleable__control sk-hidden--visually\" id=\"sk-estimator-id-4\" type=\"checkbox\" checked><label for=\"sk-estimator-id-4\" class=\"sk-toggleable__label sk-toggleable__label-arrow\">LogisticRegression</label><div class=\"sk-toggleable__content\"><pre>LogisticRegression(C=10, solver=&#x27;liblinear&#x27;)</pre></div></div></div></div></div>"
      ],
      "text/plain": [
       "LogisticRegression(C=10, solver='liblinear')"
      ]
     },
     "execution_count": 76,
     "metadata": {},
     "output_type": "execute_result"
    }
   ],
   "source": [
    "from sklearn.naive_bayes import MultinomialNB\n",
    "from sklearn.svm import SVC\n",
    "\n",
    "\n",
    "best_params_lr = grid_search_lr.best_params_\n",
    "optimized_logreg = LogisticRegression(**best_params_lr)\n",
    "optimized_logreg.fit(X_train_tfidf, y_train_label_encoded)"
   ]
  },
  {
   "cell_type": "markdown",
   "metadata": {},
   "source": [
    "I applied the same process for the SVM model. By accessing the best parameters from the grid_search_svm, I configured the SVC (Support Vector Classifier) model. Support Vector Machines are known for their effectiveness in high-dimensional spaces, and I expected that tuning the parameters like the kernel, C, and gamma would help in capturing the intricacies of sentiment classification. After initializing the SVC with these optimized parameters, I trained it using the same TF-IDF vectorized training data."
   ]
  },
  {
   "cell_type": "code",
   "execution_count": 75,
   "metadata": {},
   "outputs": [
    {
     "data": {
      "text/html": [
       "<style>#sk-container-id-3 {color: black;}#sk-container-id-3 pre{padding: 0;}#sk-container-id-3 div.sk-toggleable {background-color: white;}#sk-container-id-3 label.sk-toggleable__label {cursor: pointer;display: block;width: 100%;margin-bottom: 0;padding: 0.3em;box-sizing: border-box;text-align: center;}#sk-container-id-3 label.sk-toggleable__label-arrow:before {content: \"▸\";float: left;margin-right: 0.25em;color: #696969;}#sk-container-id-3 label.sk-toggleable__label-arrow:hover:before {color: black;}#sk-container-id-3 div.sk-estimator:hover label.sk-toggleable__label-arrow:before {color: black;}#sk-container-id-3 div.sk-toggleable__content {max-height: 0;max-width: 0;overflow: hidden;text-align: left;background-color: #f0f8ff;}#sk-container-id-3 div.sk-toggleable__content pre {margin: 0.2em;color: black;border-radius: 0.25em;background-color: #f0f8ff;}#sk-container-id-3 input.sk-toggleable__control:checked~div.sk-toggleable__content {max-height: 200px;max-width: 100%;overflow: auto;}#sk-container-id-3 input.sk-toggleable__control:checked~label.sk-toggleable__label-arrow:before {content: \"▾\";}#sk-container-id-3 div.sk-estimator input.sk-toggleable__control:checked~label.sk-toggleable__label {background-color: #d4ebff;}#sk-container-id-3 div.sk-label input.sk-toggleable__control:checked~label.sk-toggleable__label {background-color: #d4ebff;}#sk-container-id-3 input.sk-hidden--visually {border: 0;clip: rect(1px 1px 1px 1px);clip: rect(1px, 1px, 1px, 1px);height: 1px;margin: -1px;overflow: hidden;padding: 0;position: absolute;width: 1px;}#sk-container-id-3 div.sk-estimator {font-family: monospace;background-color: #f0f8ff;border: 1px dotted black;border-radius: 0.25em;box-sizing: border-box;margin-bottom: 0.5em;}#sk-container-id-3 div.sk-estimator:hover {background-color: #d4ebff;}#sk-container-id-3 div.sk-parallel-item::after {content: \"\";width: 100%;border-bottom: 1px solid gray;flex-grow: 1;}#sk-container-id-3 div.sk-label:hover label.sk-toggleable__label {background-color: #d4ebff;}#sk-container-id-3 div.sk-serial::before {content: \"\";position: absolute;border-left: 1px solid gray;box-sizing: border-box;top: 0;bottom: 0;left: 50%;z-index: 0;}#sk-container-id-3 div.sk-serial {display: flex;flex-direction: column;align-items: center;background-color: white;padding-right: 0.2em;padding-left: 0.2em;position: relative;}#sk-container-id-3 div.sk-item {position: relative;z-index: 1;}#sk-container-id-3 div.sk-parallel {display: flex;align-items: stretch;justify-content: center;background-color: white;position: relative;}#sk-container-id-3 div.sk-item::before, #sk-container-id-3 div.sk-parallel-item::before {content: \"\";position: absolute;border-left: 1px solid gray;box-sizing: border-box;top: 0;bottom: 0;left: 50%;z-index: -1;}#sk-container-id-3 div.sk-parallel-item {display: flex;flex-direction: column;z-index: 1;position: relative;background-color: white;}#sk-container-id-3 div.sk-parallel-item:first-child::after {align-self: flex-end;width: 50%;}#sk-container-id-3 div.sk-parallel-item:last-child::after {align-self: flex-start;width: 50%;}#sk-container-id-3 div.sk-parallel-item:only-child::after {width: 0;}#sk-container-id-3 div.sk-dashed-wrapped {border: 1px dashed gray;margin: 0 0.4em 0.5em 0.4em;box-sizing: border-box;padding-bottom: 0.4em;background-color: white;}#sk-container-id-3 div.sk-label label {font-family: monospace;font-weight: bold;display: inline-block;line-height: 1.2em;}#sk-container-id-3 div.sk-label-container {text-align: center;}#sk-container-id-3 div.sk-container {/* jupyter's `normalize.less` sets `[hidden] { display: none; }` but bootstrap.min.css set `[hidden] { display: none !important; }` so we also need the `!important` here to be able to override the default hidden behavior on the sphinx rendered scikit-learn.org. See: https://github.com/scikit-learn/scikit-learn/issues/21755 */display: inline-block !important;position: relative;}#sk-container-id-3 div.sk-text-repr-fallback {display: none;}</style><div id=\"sk-container-id-3\" class=\"sk-top-container\"><div class=\"sk-text-repr-fallback\"><pre>SVC(C=100)</pre><b>In a Jupyter environment, please rerun this cell to show the HTML representation or trust the notebook. <br />On GitHub, the HTML representation is unable to render, please try loading this page with nbviewer.org.</b></div><div class=\"sk-container\" hidden><div class=\"sk-item\"><div class=\"sk-estimator sk-toggleable\"><input class=\"sk-toggleable__control sk-hidden--visually\" id=\"sk-estimator-id-3\" type=\"checkbox\" checked><label for=\"sk-estimator-id-3\" class=\"sk-toggleable__label sk-toggleable__label-arrow\">SVC</label><div class=\"sk-toggleable__content\"><pre>SVC(C=100)</pre></div></div></div></div></div>"
      ],
      "text/plain": [
       "SVC(C=100)"
      ]
     },
     "execution_count": 75,
     "metadata": {},
     "output_type": "execute_result"
    }
   ],
   "source": [
    "best_params_svm = grid_search_svm.best_params_\n",
    "optimized_svm = SVC(**best_params_svm)\n",
    "optimized_svm.fit(X_train_tfidf, y_train_label_encoded)"
   ]
  },
  {
   "cell_type": "markdown",
   "metadata": {},
   "source": [
    "Lastly, for the Naive Bayes classifier, which is a probabilistic classifier often used in text classification due to its simplicity and effectiveness, I retrieved the best parameters from grid_search_nb. These parameters were used to set up the MultinomialNB model. Naive Bayes models work well with TF-IDF representations as they can handle the frequency-based vectors effectively. "
   ]
  },
  {
   "cell_type": "code",
   "execution_count": 77,
   "metadata": {},
   "outputs": [
    {
     "data": {
      "text/html": [
       "<style>#sk-container-id-5 {color: black;}#sk-container-id-5 pre{padding: 0;}#sk-container-id-5 div.sk-toggleable {background-color: white;}#sk-container-id-5 label.sk-toggleable__label {cursor: pointer;display: block;width: 100%;margin-bottom: 0;padding: 0.3em;box-sizing: border-box;text-align: center;}#sk-container-id-5 label.sk-toggleable__label-arrow:before {content: \"▸\";float: left;margin-right: 0.25em;color: #696969;}#sk-container-id-5 label.sk-toggleable__label-arrow:hover:before {color: black;}#sk-container-id-5 div.sk-estimator:hover label.sk-toggleable__label-arrow:before {color: black;}#sk-container-id-5 div.sk-toggleable__content {max-height: 0;max-width: 0;overflow: hidden;text-align: left;background-color: #f0f8ff;}#sk-container-id-5 div.sk-toggleable__content pre {margin: 0.2em;color: black;border-radius: 0.25em;background-color: #f0f8ff;}#sk-container-id-5 input.sk-toggleable__control:checked~div.sk-toggleable__content {max-height: 200px;max-width: 100%;overflow: auto;}#sk-container-id-5 input.sk-toggleable__control:checked~label.sk-toggleable__label-arrow:before {content: \"▾\";}#sk-container-id-5 div.sk-estimator input.sk-toggleable__control:checked~label.sk-toggleable__label {background-color: #d4ebff;}#sk-container-id-5 div.sk-label input.sk-toggleable__control:checked~label.sk-toggleable__label {background-color: #d4ebff;}#sk-container-id-5 input.sk-hidden--visually {border: 0;clip: rect(1px 1px 1px 1px);clip: rect(1px, 1px, 1px, 1px);height: 1px;margin: -1px;overflow: hidden;padding: 0;position: absolute;width: 1px;}#sk-container-id-5 div.sk-estimator {font-family: monospace;background-color: #f0f8ff;border: 1px dotted black;border-radius: 0.25em;box-sizing: border-box;margin-bottom: 0.5em;}#sk-container-id-5 div.sk-estimator:hover {background-color: #d4ebff;}#sk-container-id-5 div.sk-parallel-item::after {content: \"\";width: 100%;border-bottom: 1px solid gray;flex-grow: 1;}#sk-container-id-5 div.sk-label:hover label.sk-toggleable__label {background-color: #d4ebff;}#sk-container-id-5 div.sk-serial::before {content: \"\";position: absolute;border-left: 1px solid gray;box-sizing: border-box;top: 0;bottom: 0;left: 50%;z-index: 0;}#sk-container-id-5 div.sk-serial {display: flex;flex-direction: column;align-items: center;background-color: white;padding-right: 0.2em;padding-left: 0.2em;position: relative;}#sk-container-id-5 div.sk-item {position: relative;z-index: 1;}#sk-container-id-5 div.sk-parallel {display: flex;align-items: stretch;justify-content: center;background-color: white;position: relative;}#sk-container-id-5 div.sk-item::before, #sk-container-id-5 div.sk-parallel-item::before {content: \"\";position: absolute;border-left: 1px solid gray;box-sizing: border-box;top: 0;bottom: 0;left: 50%;z-index: -1;}#sk-container-id-5 div.sk-parallel-item {display: flex;flex-direction: column;z-index: 1;position: relative;background-color: white;}#sk-container-id-5 div.sk-parallel-item:first-child::after {align-self: flex-end;width: 50%;}#sk-container-id-5 div.sk-parallel-item:last-child::after {align-self: flex-start;width: 50%;}#sk-container-id-5 div.sk-parallel-item:only-child::after {width: 0;}#sk-container-id-5 div.sk-dashed-wrapped {border: 1px dashed gray;margin: 0 0.4em 0.5em 0.4em;box-sizing: border-box;padding-bottom: 0.4em;background-color: white;}#sk-container-id-5 div.sk-label label {font-family: monospace;font-weight: bold;display: inline-block;line-height: 1.2em;}#sk-container-id-5 div.sk-label-container {text-align: center;}#sk-container-id-5 div.sk-container {/* jupyter's `normalize.less` sets `[hidden] { display: none; }` but bootstrap.min.css set `[hidden] { display: none !important; }` so we also need the `!important` here to be able to override the default hidden behavior on the sphinx rendered scikit-learn.org. See: https://github.com/scikit-learn/scikit-learn/issues/21755 */display: inline-block !important;position: relative;}#sk-container-id-5 div.sk-text-repr-fallback {display: none;}</style><div id=\"sk-container-id-5\" class=\"sk-top-container\"><div class=\"sk-text-repr-fallback\"><pre>MultinomialNB(alpha=0.1)</pre><b>In a Jupyter environment, please rerun this cell to show the HTML representation or trust the notebook. <br />On GitHub, the HTML representation is unable to render, please try loading this page with nbviewer.org.</b></div><div class=\"sk-container\" hidden><div class=\"sk-item\"><div class=\"sk-estimator sk-toggleable\"><input class=\"sk-toggleable__control sk-hidden--visually\" id=\"sk-estimator-id-5\" type=\"checkbox\" checked><label for=\"sk-estimator-id-5\" class=\"sk-toggleable__label sk-toggleable__label-arrow\">MultinomialNB</label><div class=\"sk-toggleable__content\"><pre>MultinomialNB(alpha=0.1)</pre></div></div></div></div></div>"
      ],
      "text/plain": [
       "MultinomialNB(alpha=0.1)"
      ]
     },
     "execution_count": 77,
     "metadata": {},
     "output_type": "execute_result"
    }
   ],
   "source": [
    "best_params_nb = grid_search_nb.best_params_\n",
    "optimized_nb = MultinomialNB(**best_params_nb)\n",
    "optimized_nb.fit(X_train_tfidf, y_train_label_encoded)"
   ]
  },
  {
   "cell_type": "markdown",
   "metadata": {},
   "source": [
    "*Optimized Logistic Regression*\n",
    "\n",
    "The Logistic Regression model, after optimization, showed an accuracy of 77% on the development set. It performed particularly well in identifying negative sentiments, with a precision of 0.81 and recall of 0.89. The performance on neutral sentiments was modest, and for positive sentiments, it was reasonably good, though there is room for improvement in both categories.\n",
    "\n",
    "*Optimized SVM*\n",
    "\n",
    "The SVM model also reached an accuracy of 77%. Like Logistic Regression, it was most effective at classifying negative sentiments. The model's precision and recall for neutral and positive sentiments echoed the patterns seen in the Logistic Regression, suggesting similar strengths and weaknesses."
   ]
  },
  {
   "cell_type": "code",
   "execution_count": 84,
   "metadata": {},
   "outputs": [
    {
     "name": "stdout",
     "output_type": "stream",
     "text": [
      "Optimized Logistic Regression - Classification Report:\n",
      "              precision    recall  f1-score   support\n",
      "\n",
      "           0       0.81      0.89      0.85       826\n",
      "           1       0.60      0.51      0.55       279\n",
      "           2       0.76      0.62      0.68       213\n",
      "\n",
      "    accuracy                           0.77      1318\n",
      "   macro avg       0.72      0.67      0.69      1318\n",
      "weighted avg       0.76      0.77      0.76      1318\n",
      "\n",
      "Optimized SVM - Classification Report:\n",
      "              precision    recall  f1-score   support\n",
      "\n",
      "    negative       0.80      0.91      0.85       826\n",
      "     neutral       0.63      0.47      0.54       279\n",
      "    positive       0.76      0.60      0.67       213\n",
      "\n",
      "    accuracy                           0.77      1318\n",
      "   macro avg       0.73      0.66      0.69      1318\n",
      "weighted avg       0.76      0.77      0.76      1318\n",
      "\n"
     ]
    }
   ],
   "source": [
    "# development labels are label-encoded\n",
    "y_dev_label_encoded = label_encoder.transform(dev_data['airline_sentiment'])\n",
    "\n",
    "# Logistic Regression Evaluation on Development Set\n",
    "y_pred_dev_lr = optimized_logreg.predict(X_dev_tfidf)\n",
    "print(\"Optimized Logistic Regression - Classification Report:\")\n",
    "print(classification_report(y_dev_label_encoded, y_pred_dev_lr))\n",
    "\n",
    "# SVM Evaluation on Development Set\n",
    "y_pred_dev_svm = optimized_svm.predict(X_dev_tfidf)\n",
    "print(\"Optimized SVM - Classification Report:\")\n",
    "print(classification_report(y_dev_label_encoded, y_pred_dev_svm, target_names=label_encoder.classes_))"
   ]
  },
  {
   "cell_type": "markdown",
   "metadata": {},
   "source": [
    "The Naive Bayes model achieved an accuracy of 74%, slightly lower than the other two models. While its precision and recall for negative sentiments were high, the model struggled more with neutral and positive sentiments, showing a particular drop in recall for these classes."
   ]
  },
  {
   "cell_type": "code",
   "execution_count": 85,
   "metadata": {},
   "outputs": [
    {
     "name": "stdout",
     "output_type": "stream",
     "text": [
      "Optimized Naive Bayes - Classification Report:\n",
      "              precision    recall  f1-score   support\n",
      "\n",
      "    negative       0.75      0.96      0.84       826\n",
      "     neutral       0.64      0.32      0.42       279\n",
      "    positive       0.80      0.44      0.57       213\n",
      "\n",
      "    accuracy                           0.74      1318\n",
      "   macro avg       0.73      0.57      0.61      1318\n",
      "weighted avg       0.73      0.74      0.71      1318\n",
      "\n"
     ]
    }
   ],
   "source": [
    "# Naive Bayes Evaluation on Development Set\n",
    "y_pred_dev_nb = optimized_nb.predict(X_dev_tfidf)\n",
    "print(\"Optimized Naive Bayes - Classification Report:\")\n",
    "print(classification_report(y_dev_label_encoded, y_pred_dev_nb, target_names=label_encoder.classes_))"
   ]
  },
  {
   "cell_type": "markdown",
   "metadata": {},
   "source": [
    "### **Deep Learning Models**"
   ]
  },
  {
   "cell_type": "markdown",
   "metadata": {
    "id": "qvJr-dJOC4Hm"
   },
   "source": [
    "**LSTM**"
   ]
  },
  {
   "cell_type": "markdown",
   "metadata": {
    "id": "QGpt2_vjpnJa"
   },
   "source": [
    "***Tokenization & Padding***"
   ]
  },
  {
   "cell_type": "markdown",
   "metadata": {},
   "source": [
    "The cleaned text was tokenized using Keras' Tokenizer, converting each word into a unique integer. The tokenizer was limited to the top 5000 words to manage model complexity and computational efficiency. The tokenized text data was then converted into sequences of integers, representing the order of words in the tweets. To ensure uniformity in input length, the sequences were padded to a maximum length of 200 tokens. This length was chosen based on the distribution of tweet lengths, ensuring most tweets are fully captured without excessive padding."
   ]
  },
  {
   "cell_type": "code",
   "execution_count": 38,
   "metadata": {
    "id": "EIjpycQApr9r"
   },
   "outputs": [
    {
     "name": "stderr",
     "output_type": "stream",
     "text": [
      "2024-01-08 22:26:27.708056: W tensorflow/compiler/tf2tensorrt/utils/py_utils.cc:38] TF-TRT Warning: Could not find TensorRT\n"
     ]
    }
   ],
   "source": [
    "from tensorflow.keras.preprocessing.text import Tokenizer\n",
    "from tensorflow.keras.preprocessing.sequence import pad_sequences\n",
    "\n",
    "# Tokenizing the text\n",
    "tokenizer = Tokenizer(num_words=5000)  # I set number of words (5000)\n",
    "tokenizer.fit_on_texts(train_data['clean_text'])\n",
    "\n",
    "# Converting text to sequences of integers\n",
    "X_train_seq = tokenizer.texts_to_sequences(train_data['clean_text'])\n",
    "X_dev_seq = tokenizer.texts_to_sequences(dev_data['clean_text'])\n",
    "\n",
    "# Padding the sequences so they are all the same length\n",
    "max_sequence_length = 200\n",
    "X_train_padded = pad_sequences(X_train_seq, maxlen=max_sequence_length)\n",
    "X_dev_padded = pad_sequences(X_dev_seq, maxlen=max_sequence_length)"
   ]
  },
  {
   "cell_type": "markdown",
   "metadata": {
    "id": "5mlnej8Rp_3i"
   },
   "source": [
    "***LSTM Model Building***"
   ]
  },
  {
   "cell_type": "markdown",
   "metadata": {},
   "source": [
    "The LSTM model has a total of 771,971 trainable parameters, indicating a complex model capable of capturing intricate patterns in the data. However, it also implies a need for sufficient training data to prevent overfitting."
   ]
  },
  {
   "cell_type": "code",
   "execution_count": 39,
   "metadata": {
    "colab": {
     "base_uri": "https://localhost:8080/"
    },
    "id": "of8CnH8zp44J",
    "outputId": "f61fb252-b86e-49e9-b08b-5f062484c4cf"
   },
   "outputs": [
    {
     "name": "stdout",
     "output_type": "stream",
     "text": [
      "Model: \"sequential\"\n",
      "_________________________________________________________________\n",
      " Layer (type)                Output Shape              Param #   \n",
      "=================================================================\n",
      " embedding (Embedding)       (None, 200, 128)          640000    \n",
      "                                                                 \n",
      " lstm (LSTM)                 (None, 128)               131584    \n",
      "                                                                 \n",
      " dense (Dense)               (None, 3)                 387       \n",
      "                                                                 \n",
      "=================================================================\n",
      "Total params: 771971 (2.94 MB)\n",
      "Trainable params: 771971 (2.94 MB)\n",
      "Non-trainable params: 0 (0.00 Byte)\n",
      "_________________________________________________________________\n"
     ]
    },
    {
     "name": "stderr",
     "output_type": "stream",
     "text": [
      "2024-01-08 22:26:35.864325: W tensorflow/core/common_runtime/gpu/gpu_device.cc:1960] Cannot dlopen some GPU libraries. Please make sure the missing libraries mentioned above are installed properly if you would like to use GPU. Follow the guide at https://www.tensorflow.org/install/gpu for how to download and setup the required libraries for your platform.\n",
      "Skipping registering GPU devices...\n"
     ]
    }
   ],
   "source": [
    "from tensorflow.keras.models import Sequential\n",
    "from tensorflow.keras.layers import Embedding, LSTM, Dense, Dropout\n",
    "\n",
    "model = Sequential()\n",
    "model.add(Embedding(input_dim=5000, output_dim=128, input_length=max_sequence_length))\n",
    "model.add(LSTM(128, dropout=0.2, recurrent_dropout=0.2))\n",
    "model.add(Dense(3, activation='softmax'))  # 3 classes: positive, negative, neutral\n",
    "\n",
    "model.compile(optimizer='adam', loss='categorical_crossentropy', metrics=['accuracy'])\n",
    "model.summary()"
   ]
  },
  {
   "cell_type": "markdown",
   "metadata": {
    "id": "U7_jdo1OqEOE"
   },
   "source": [
    "**Converting Labels to One-hot Encoded Vectors**"
   ]
  },
  {
   "cell_type": "code",
   "execution_count": 40,
   "metadata": {
    "id": "k-MAvRWzqJqk"
   },
   "outputs": [],
   "source": [
    "from tensorflow.keras.utils import to_categorical\n",
    "from sklearn.preprocessing import LabelEncoder\n",
    "\n",
    "# Encode the labels\n",
    "label_encoder = LabelEncoder()\n",
    "y_train_encoded = label_encoder.fit_transform(train_data['airline_sentiment'])\n",
    "y_dev_encoded = label_encoder.transform(dev_data['airline_sentiment'])\n",
    "\n",
    "# One-hot encoding\n",
    "y_train_onehot = to_categorical(y_train_encoded)\n",
    "y_dev_onehot = to_categorical(y_dev_encoded)"
   ]
  },
  {
   "cell_type": "markdown",
   "metadata": {
    "id": "zGi6gluhqQKO"
   },
   "source": [
    "***Training of LSTM Model***"
   ]
  },
  {
   "cell_type": "markdown",
   "metadata": {},
   "source": [
    "The LSTM model was trained over 10 epochs, with a batch size of 32. The training involved feeding the padded sequences of the tokenized tweets into the model. The training process showed the model’s accuracy improving over epochs, indicating successful learning. However, the validation accuracy peaked at around 0.7716 and then started to decline, suggesting the beginning of overfitting."
   ]
  },
  {
   "cell_type": "code",
   "execution_count": 41,
   "metadata": {
    "colab": {
     "base_uri": "https://localhost:8080/"
    },
    "id": "kZW_o1UiqS9h",
    "outputId": "f1c44b59-1631-48cb-b327-59e9f645d148"
   },
   "outputs": [
    {
     "name": "stdout",
     "output_type": "stream",
     "text": [
      "Epoch 1/10\n"
     ]
    },
    {
     "name": "stdout",
     "output_type": "stream",
     "text": [
      "371/371 [==============================] - 25s 66ms/step - loss: 0.6622 - accuracy: 0.7274 - val_loss: 0.5492 - val_accuracy: 0.7716\n",
      "Epoch 2/10\n",
      "371/371 [==============================] - 25s 68ms/step - loss: 0.4295 - accuracy: 0.8343 - val_loss: 0.5478 - val_accuracy: 0.7693\n",
      "Epoch 3/10\n",
      "371/371 [==============================] - 25s 68ms/step - loss: 0.3400 - accuracy: 0.8687 - val_loss: 0.6103 - val_accuracy: 0.7542\n",
      "Epoch 4/10\n",
      "371/371 [==============================] - 25s 68ms/step - loss: 0.2845 - accuracy: 0.8906 - val_loss: 0.6605 - val_accuracy: 0.7519\n",
      "Epoch 5/10\n",
      "371/371 [==============================] - 25s 68ms/step - loss: 0.2307 - accuracy: 0.9132 - val_loss: 0.7616 - val_accuracy: 0.7360\n",
      "Epoch 6/10\n",
      "371/371 [==============================] - 25s 68ms/step - loss: 0.1891 - accuracy: 0.9274 - val_loss: 0.8599 - val_accuracy: 0.7519\n",
      "Epoch 7/10\n",
      "371/371 [==============================] - 25s 68ms/step - loss: 0.1598 - accuracy: 0.9404 - val_loss: 0.9524 - val_accuracy: 0.7413\n",
      "Epoch 8/10\n",
      "371/371 [==============================] - 25s 68ms/step - loss: 0.1363 - accuracy: 0.9465 - val_loss: 1.0959 - val_accuracy: 0.7473\n",
      "Epoch 9/10\n",
      "371/371 [==============================] - 25s 68ms/step - loss: 0.1225 - accuracy: 0.9539 - val_loss: 1.1802 - val_accuracy: 0.7375\n",
      "Epoch 10/10\n",
      "371/371 [==============================] - 25s 68ms/step - loss: 0.1050 - accuracy: 0.9604 - val_loss: 1.1960 - val_accuracy: 0.7413\n"
     ]
    }
   ],
   "source": [
    "lstm_train = model.fit(X_train_padded, y_train_onehot, batch_size=32, epochs=10, validation_data=(X_dev_padded, y_dev_onehot))"
   ]
  },
  {
   "cell_type": "markdown",
   "metadata": {
    "id": "qgExss9n3vJ5"
   },
   "source": [
    "***LSTM Model Evaluation***"
   ]
  },
  {
   "cell_type": "markdown",
   "metadata": {},
   "source": [
    "The classification report provides detailed insights into the model's performance across different sentiment classes\n",
    "\n",
    "- Negative Sentiment: The model showed strong precision and recall, indicating effective identification of negative sentiments.\n",
    "- Neutral Sentiment: Both precision and recall were lower for neutral sentiments, suggesting challenges in distinguishing neutral sentiments from others.\n",
    "- Positive Sentiment: The precision and recall for positive sentiments were moderate, indicating room for improvement in correctly identifying positive tweets.\n",
    "\n",
    "The LSTM model demonstrates a competent performance in sentiment analysis, especially in identifying negative sentiments. However, its performance on neutral and positive sentiments indicates the need for further optimization."
   ]
  },
  {
   "cell_type": "code",
   "execution_count": 108,
   "metadata": {
    "colab": {
     "base_uri": "https://localhost:8080/"
    },
    "id": "DR5SqVFy3z6E",
    "outputId": "4e54dbe8-7042-4bbf-b80a-3d9b9aeffe1d"
   },
   "outputs": [
    {
     "name": "stdout",
     "output_type": "stream",
     "text": [
      " 9/42 [=====>........................] - ETA: 1s"
     ]
    },
    {
     "name": "stdout",
     "output_type": "stream",
     "text": [
      "42/42 [==============================] - 2s 37ms/step\n",
      "Accuracy on Development Set: 0.7215477996965098\n",
      "\n",
      "Classification Report:\n",
      "              precision    recall  f1-score   support\n",
      "\n",
      "    negative       0.82      0.82      0.82       826\n",
      "     neutral       0.49      0.47      0.48       279\n",
      "    positive       0.63      0.67      0.65       213\n",
      "\n",
      "    accuracy                           0.72      1318\n",
      "   macro avg       0.65      0.65      0.65      1318\n",
      "weighted avg       0.72      0.72      0.72      1318\n",
      "\n"
     ]
    }
   ],
   "source": [
    "from sklearn.metrics import classification_report, accuracy_score\n",
    "from tensorflow.keras.preprocessing.sequence import pad_sequences\n",
    "\n",
    "# Padding the sequences of the dev set\n",
    "X_dev_padded = pad_sequences(X_dev_seq, maxlen=max_sequence_length)\n",
    "\n",
    "# Predicting the classes on the development set\n",
    "y_pred_dev_prob = model.predict(X_dev_padded)\n",
    "y_pred_dev2 = y_pred_dev_prob.argmax(axis=1)  # Converting probabilities to class labels\n",
    "\n",
    "# y_dev is encoded using the same LabelEncoder used for the training set\n",
    "y_dev_encoded = label_encoder.transform(dev_data['airline_sentiment'])\n",
    "\n",
    "# Calculate Accuracy\n",
    "accuracy = accuracy_score(y_dev_encoded, y_pred_dev2)\n",
    "print(\"Accuracy on Development Set:\", accuracy)\n",
    "\n",
    "# Classification Report (Precision, Recall, F1-Score)\n",
    "print(\"\\nClassification Report:\")\n",
    "print(classification_report(y_dev_encoded, y_pred_dev2, target_names=label_encoder.classes_))\n"
   ]
  },
  {
   "cell_type": "markdown",
   "metadata": {
    "id": "ddJrgHRj7n8D"
   },
   "source": [
    "**GRU Model (Gated Recurrent Unit)**"
   ]
  },
  {
   "cell_type": "markdown",
   "metadata": {},
   "source": [
    "I was aiming to capture the sequential nature of language data through the GRU layers, which are known for being effective at modeling time-series data or sequences, like text. The Dropout layer was an important addition to improve generalization and reduce the risk of overfitting to the training data. The dense output layer with softmax activation is a standard way to handle classification tasks like sentiment analysis."
   ]
  },
  {
   "cell_type": "code",
   "execution_count": 43,
   "metadata": {
    "colab": {
     "base_uri": "https://localhost:8080/"
    },
    "id": "qEr8fBTb7yFg",
    "outputId": "7e1a616c-e9f6-4bbb-a458-f5f8cb93ee91"
   },
   "outputs": [
    {
     "name": "stdout",
     "output_type": "stream",
     "text": [
      "Model: \"sequential_1\"\n",
      "_________________________________________________________________\n",
      " Layer (type)                Output Shape              Param #   \n",
      "=================================================================\n",
      " embedding_1 (Embedding)     (None, 200, 128)          640000    \n",
      "                                                                 \n",
      " gru (GRU)                   (None, 200, 128)          99072     \n",
      "                                                                 \n",
      " dropout (Dropout)           (None, 200, 128)          0         \n",
      "                                                                 \n",
      " gru_1 (GRU)                 (None, 128)               99072     \n",
      "                                                                 \n",
      " dense_1 (Dense)             (None, 3)                 387       \n",
      "                                                                 \n",
      "=================================================================\n",
      "Total params: 838531 (3.20 MB)\n",
      "Trainable params: 838531 (3.20 MB)\n",
      "Non-trainable params: 0 (0.00 Byte)\n",
      "_________________________________________________________________\n"
     ]
    }
   ],
   "source": [
    "from tensorflow.keras.models import Sequential\n",
    "from tensorflow.keras.layers import Embedding, GRU, Dense, Dropout\n",
    "\n",
    "model = Sequential()\n",
    "model.add(Embedding(input_dim=5000, output_dim=128, input_length=max_sequence_length))\n",
    "model.add(GRU(128, return_sequences=True))\n",
    "model.add(Dropout(0.2))\n",
    "model.add(GRU(128))\n",
    "model.add(Dense(3, activation='softmax'))  # 3 classes for sentiment: positive, negative and neutral\n",
    "\n",
    "model.compile(loss='categorical_crossentropy', optimizer='adam', metrics=['accuracy'])\n",
    "model.summary()"
   ]
  },
  {
   "cell_type": "code",
   "execution_count": 44,
   "metadata": {
    "colab": {
     "base_uri": "https://localhost:8080/"
    },
    "id": "APrX5CZN8tkj",
    "outputId": "ca2ad400-b072-45ee-cdd5-971cbbf19f04"
   },
   "outputs": [
    {
     "name": "stdout",
     "output_type": "stream",
     "text": [
      "(11858, 3)\n",
      "(1318, 3)\n"
     ]
    }
   ],
   "source": [
    "from tensorflow.keras.utils import to_categorical\n",
    "\n",
    "# Labels are in 'airline_sentiment' column\n",
    "y_train_encoded = to_categorical(label_encoder.transform(train_data['airline_sentiment']))\n",
    "y_dev_encoded = to_categorical(label_encoder.transform(dev_data['airline_sentiment']))\n",
    "\n",
    "# Check the shape of the encoded labels\n",
    "print(y_train_encoded.shape)\n",
    "print(y_dev_encoded.shape)"
   ]
  },
  {
   "cell_type": "markdown",
   "metadata": {
    "id": "ICgusGP874Ww"
   },
   "source": [
    "***GRU Model Training***"
   ]
  },
  {
   "cell_type": "markdown",
   "metadata": {},
   "source": [
    "The model was compiled with the Adam optimizer and categorical cross-entropy loss function. These choices are standard for multi-class classification problems and are well-suited to the distribution of our sentiment labels."
   ]
  },
  {
   "cell_type": "code",
   "execution_count": 46,
   "metadata": {
    "colab": {
     "base_uri": "https://localhost:8080/"
    },
    "id": "M42t9HgC866H",
    "outputId": "86bf81a7-5667-44cb-923a-c7b71a55577f"
   },
   "outputs": [
    {
     "name": "stdout",
     "output_type": "stream",
     "text": [
      "Epoch 1/10\n"
     ]
    },
    {
     "name": "stdout",
     "output_type": "stream",
     "text": [
      "742/742 [==============================] - 40s 53ms/step - loss: 0.9411 - accuracy: 0.6269 - val_loss: 0.9162 - val_accuracy: 0.6267\n",
      "Epoch 2/10\n",
      "742/742 [==============================] - 39s 53ms/step - loss: 0.9161 - accuracy: 0.6269 - val_loss: 0.9161 - val_accuracy: 0.6267\n",
      "Epoch 3/10\n",
      "742/742 [==============================] - 39s 53ms/step - loss: 0.8656 - accuracy: 0.6269 - val_loss: 0.8041 - val_accuracy: 0.6267\n",
      "Epoch 4/10\n",
      "742/742 [==============================] - 39s 52ms/step - loss: 0.7551 - accuracy: 0.6731 - val_loss: 0.7718 - val_accuracy: 0.6669\n",
      "Epoch 5/10\n",
      "742/742 [==============================] - 39s 53ms/step - loss: 0.6881 - accuracy: 0.7072 - val_loss: 0.7305 - val_accuracy: 0.6844\n",
      "Epoch 6/10\n",
      "742/742 [==============================] - 39s 53ms/step - loss: 0.6367 - accuracy: 0.7222 - val_loss: 0.7323 - val_accuracy: 0.6768\n",
      "Epoch 7/10\n",
      "742/742 [==============================] - 39s 53ms/step - loss: 0.5967 - accuracy: 0.7324 - val_loss: 0.7288 - val_accuracy: 0.6700\n",
      "Epoch 8/10\n",
      "742/742 [==============================] - 39s 52ms/step - loss: 0.5667 - accuracy: 0.7423 - val_loss: 0.7091 - val_accuracy: 0.6965\n",
      "Epoch 9/10\n",
      "742/742 [==============================] - 39s 53ms/step - loss: 0.5334 - accuracy: 0.7545 - val_loss: 0.7132 - val_accuracy: 0.6844\n",
      "Epoch 10/10\n",
      "742/742 [==============================] - 39s 52ms/step - loss: 0.5027 - accuracy: 0.7632 - val_loss: 0.7276 - val_accuracy: 0.6753\n"
     ]
    }
   ],
   "source": [
    "model.add(Dense(3, activation='softmax'))\n",
    "model.compile(loss='categorical_crossentropy', optimizer='adam', metrics=['accuracy'])\n",
    "gru_train = model.fit(X_train_padded, y_train_encoded, batch_size=16, epochs=10, validation_data=(X_dev_padded, y_dev_encoded))"
   ]
  },
  {
   "cell_type": "markdown",
   "metadata": {
    "id": "gO_xD10kCWMf"
   },
   "source": [
    "***GRU Model Evaluation***"
   ]
  },
  {
   "cell_type": "markdown",
   "metadata": {},
   "source": [
    "The GRU model reached an accuracy of approximately 0.722. \n",
    "\n",
    "- Negative Sentiment: The model exhibited strong precision and recall in identifying negative sentiments.\n",
    "- Neutral Sentiment: Precision and recall were lower for neutral sentiments, suggesting that the model has difficulties distinguishing neutral sentiments.\n",
    "- Positive Sentiment: The model achieved moderate precision and recall in classifying positive sentiments.\n",
    "\n",
    "The GRU model shows a competent level of performance in sentiment analysis, with a particular strength in identifying negative sentiments. However, the performance on neutral and positive sentiments suggests room for further optimization."
   ]
  },
  {
   "cell_type": "code",
   "execution_count": 92,
   "metadata": {
    "colab": {
     "base_uri": "https://localhost:8080/"
    },
    "id": "bhTEZ51CCY5E",
    "outputId": "62c9974d-af1b-4f18-cb32-688e0f7905d8"
   },
   "outputs": [
    {
     "name": "stdout",
     "output_type": "stream",
     "text": [
      " 3/42 [=>............................] - ETA: 1s"
     ]
    },
    {
     "name": "stdout",
     "output_type": "stream",
     "text": [
      "42/42 [==============================] - 2s 36ms/step\n",
      "Accuracy on Development Set: 0.7215477996965098\n",
      "\n",
      "Classification Report:\n",
      "              precision    recall  f1-score   support\n",
      "\n",
      "    negative       0.82      0.82      0.82       826\n",
      "     neutral       0.49      0.47      0.48       279\n",
      "    positive       0.63      0.67      0.65       213\n",
      "\n",
      "    accuracy                           0.72      1318\n",
      "   macro avg       0.65      0.65      0.65      1318\n",
      "weighted avg       0.72      0.72      0.72      1318\n",
      "\n"
     ]
    }
   ],
   "source": [
    "import numpy as np\n",
    "# Predicting on the development set\n",
    "y_pred_dev_prob = model.predict(X_dev_padded)\n",
    "y_pred_dev1 = y_pred_dev_prob.argmax(axis=1)\n",
    "\n",
    "# Calculating Accuracy and Classification Report\n",
    "accuracy = accuracy_score(np.argmax(y_dev_encoded, axis=1), y_pred_dev1)\n",
    "print(\"Accuracy on Development Set:\", accuracy)\n",
    "print(\"\\nClassification Report:\")\n",
    "print(classification_report(np.argmax(y_dev_encoded, axis=1), y_pred_dev1, target_names=label_encoder.classes_))"
   ]
  },
  {
   "cell_type": "markdown",
   "metadata": {
    "id": "jkPLYc4eCrgx"
   },
   "source": [
    "**Bidirectional LSTM Model**"
   ]
  },
  {
   "cell_type": "markdown",
   "metadata": {},
   "source": [
    "The BiLSTM model achieved an accuracy of approximately 0.722 on the development set, showcasing its ability to correctly classify sentiments in a significant number of instances.\n",
    "\n",
    "- *Negative Sentiment:* Exhibited high precision and recall, indicating strong identification capabilities for negative sentiments.\n",
    "- *Neutral Sentiment:* Both precision and recall were lower, suggesting challenges in differentiating neutral sentiments.\n",
    "- *Positive Sentiment:* Achieved moderate precision and recall, indicating some room for improvement in accurately classifying positive sentiments.\n",
    "\n",
    "The BiLSTM model's performance reflects its strength in understanding the context of text data, particularly in identifying negative sentiments. However, its capabilities in classifying neutral and positive sentiments could be enhanced."
   ]
  },
  {
   "cell_type": "code",
   "execution_count": 47,
   "metadata": {
    "colab": {
     "base_uri": "https://localhost:8080/"
    },
    "id": "QH6zSrSYCuHX",
    "outputId": "18e5825c-4f8f-478d-defd-40fd57e02c9c"
   },
   "outputs": [
    {
     "name": "stdout",
     "output_type": "stream",
     "text": [
      "Model: \"sequential_2\"\n",
      "_________________________________________________________________\n",
      " Layer (type)                Output Shape              Param #   \n",
      "=================================================================\n",
      " embedding_2 (Embedding)     (None, 200, 128)          640000    \n",
      "                                                                 \n",
      " bidirectional (Bidirection  (None, 200, 256)          263168    \n",
      " al)                                                             \n",
      "                                                                 \n",
      " dropout_1 (Dropout)         (None, 200, 256)          0         \n",
      "                                                                 \n",
      " bidirectional_1 (Bidirecti  (None, 256)               394240    \n",
      " onal)                                                           \n",
      "                                                                 \n",
      " dense_4 (Dense)             (None, 3)                 771       \n",
      "                                                                 \n",
      "=================================================================\n",
      "Total params: 1298179 (4.95 MB)\n",
      "Trainable params: 1298179 (4.95 MB)\n",
      "Non-trainable params: 0 (0.00 Byte)\n",
      "_________________________________________________________________\n"
     ]
    }
   ],
   "source": [
    "from tensorflow.keras.models import Sequential\n",
    "from tensorflow.keras.layers import Embedding, LSTM, Dense, Dropout, Bidirectional\n",
    "\n",
    "model = Sequential()\n",
    "model.add(Embedding(input_dim=5000, output_dim=128, input_length=max_sequence_length))\n",
    "model.add(Bidirectional(LSTM(128, return_sequences=True)))\n",
    "model.add(Dropout(0.2))\n",
    "model.add(Bidirectional(LSTM(128)))\n",
    "model.add(Dense(3, activation='softmax'))  # 3 classes for sentiment\n",
    "\n",
    "model.compile(loss='categorical_crossentropy', optimizer='adam', metrics=['accuracy'])\n",
    "model.summary()"
   ]
  },
  {
   "cell_type": "markdown",
   "metadata": {
    "id": "nBNXUGe0Dx01"
   },
   "source": [
    "**Training of Bidirectional LSTM Model**"
   ]
  },
  {
   "cell_type": "code",
   "execution_count": 48,
   "metadata": {
    "colab": {
     "base_uri": "https://localhost:8080/"
    },
    "id": "1iFaGaH4C0fh",
    "outputId": "5142438f-1b6e-4b77-affa-fc67a96bd4bd"
   },
   "outputs": [
    {
     "name": "stdout",
     "output_type": "stream",
     "text": [
      "Epoch 1/10\n"
     ]
    },
    {
     "name": "stdout",
     "output_type": "stream",
     "text": [
      "371/371 [==============================] - 49s 126ms/step - loss: 0.6619 - accuracy: 0.7220 - val_loss: 0.5623 - val_accuracy: 0.7557\n",
      "Epoch 2/10\n",
      "371/371 [==============================] - 47s 126ms/step - loss: 0.4342 - accuracy: 0.8269 - val_loss: 0.5738 - val_accuracy: 0.7602\n",
      "Epoch 3/10\n",
      "371/371 [==============================] - 47s 126ms/step - loss: 0.3321 - accuracy: 0.8749 - val_loss: 0.6231 - val_accuracy: 0.7686\n",
      "Epoch 4/10\n",
      "371/371 [==============================] - 47s 126ms/step - loss: 0.2648 - accuracy: 0.8991 - val_loss: 0.7947 - val_accuracy: 0.7428\n",
      "Epoch 5/10\n",
      "371/371 [==============================] - 47s 126ms/step - loss: 0.2058 - accuracy: 0.9255 - val_loss: 0.8328 - val_accuracy: 0.7299\n",
      "Epoch 6/10\n",
      "371/371 [==============================] - 47s 126ms/step - loss: 0.1647 - accuracy: 0.9386 - val_loss: 0.9950 - val_accuracy: 0.7322\n",
      "Epoch 7/10\n",
      "371/371 [==============================] - 47s 126ms/step - loss: 0.1362 - accuracy: 0.9508 - val_loss: 1.0434 - val_accuracy: 0.7314\n",
      "Epoch 8/10\n",
      "371/371 [==============================] - 47s 126ms/step - loss: 0.1160 - accuracy: 0.9591 - val_loss: 1.1969 - val_accuracy: 0.7261\n",
      "Epoch 9/10\n",
      "371/371 [==============================] - 47s 126ms/step - loss: 0.1078 - accuracy: 0.9591 - val_loss: 1.1665 - val_accuracy: 0.7253\n",
      "Epoch 10/10\n",
      "371/371 [==============================] - 47s 126ms/step - loss: 0.0897 - accuracy: 0.9674 - val_loss: 1.3522 - val_accuracy: 0.7215\n"
     ]
    }
   ],
   "source": [
    "bi_lstm_train = model.fit(X_train_padded, y_train_encoded, batch_size=32, epochs=10, validation_data=(X_dev_padded, y_dev_encoded))"
   ]
  },
  {
   "cell_type": "code",
   "execution_count": 49,
   "metadata": {
    "colab": {
     "base_uri": "https://localhost:8080/"
    },
    "id": "wNfh01P5D8Bp",
    "outputId": "ab9f30fa-5def-486c-a12c-a5d4ac32ddfd"
   },
   "outputs": [
    {
     "name": "stdout",
     "output_type": "stream",
     "text": [
      "42/42 [==============================] - 2s 37ms/step\n",
      "Accuracy on Development Set: 0.7215477996965098\n",
      "\n",
      "Classification Report:\n",
      "              precision    recall  f1-score   support\n",
      "\n",
      "    negative       0.82      0.82      0.82       826\n",
      "     neutral       0.49      0.47      0.48       279\n",
      "    positive       0.63      0.67      0.65       213\n",
      "\n",
      "    accuracy                           0.72      1318\n",
      "   macro avg       0.65      0.65      0.65      1318\n",
      "weighted avg       0.72      0.72      0.72      1318\n",
      "\n"
     ]
    }
   ],
   "source": [
    "import numpy as np\n",
    "from sklearn.metrics import classification_report, accuracy_score\n",
    "\n",
    "# Predicting on the development set\n",
    "y_pred_dev_prob = model.predict(X_dev_padded)\n",
    "y_pred_dev = y_pred_dev_prob.argmax(axis=1)\n",
    "\n",
    "# Accuracy\n",
    "accuracy = accuracy_score(np.argmax(y_dev_encoded, axis=1), y_pred_dev)\n",
    "print(\"Accuracy on Development Set:\", accuracy)\n",
    "\n",
    "# Classification Report\n",
    "print(\"\\nClassification Report:\")\n",
    "print(classification_report(np.argmax(y_dev_encoded, axis=1), y_pred_dev, target_names=label_encoder.classes_))"
   ]
  },
  {
   "cell_type": "markdown",
   "metadata": {},
   "source": [
    "## Ensemble Methods"
   ]
  },
  {
   "cell_type": "markdown",
   "metadata": {},
   "source": [
    "**Voting Ensemble**"
   ]
  },
  {
   "cell_type": "markdown",
   "metadata": {},
   "source": [
    "To further enhance our sentiment analysis approach, the ensemble was constructed using a VotingClassifier, incorporating optimized versions of Logistic Regression, SVM, and Naive Bayes as base learners. This ensemble utilized 'hard' voting, where the final prediction is determined by the majority vote from all individual models.\n",
    "\n",
    "The ensemble model demonstrated an overall accuracy of 77%. Its performance specifics include high precision and recall for negative sentiments, reflecting the strong individual performances of the base models in this category. For neutral sentiments, the model showed moderate precision and recall, indicating some challenges in accurately classifying these. In the case of positive sentiments, the model achieved good precision but had a lower recall, suggesting a tendency to miss some positive sentiments."
   ]
  },
  {
   "cell_type": "code",
   "execution_count": 87,
   "metadata": {},
   "outputs": [
    {
     "name": "stdout",
     "output_type": "stream",
     "text": [
      "Ensemble Model - Classification Report:\n",
      "              precision    recall  f1-score   support\n",
      "\n",
      "    negative       0.79      0.92      0.85       826\n",
      "     neutral       0.63      0.47      0.54       279\n",
      "    positive       0.79      0.57      0.66       213\n",
      "\n",
      "    accuracy                           0.77      1318\n",
      "   macro avg       0.74      0.65      0.68      1318\n",
      "weighted avg       0.76      0.77      0.75      1318\n",
      "\n"
     ]
    }
   ],
   "source": [
    "from sklearn.ensemble import VotingClassifier\n",
    "\n",
    "# Creating individual models as base learners\n",
    "model1 = LogisticRegression(**best_params_lr)\n",
    "model2 = SVC(probability=True, **best_params_svm)\n",
    "model3 = MultinomialNB(**best_params_nb)\n",
    "\n",
    "# Creating a VotingClassifier\n",
    "voting_clf = VotingClassifier(estimators=[('lr', model1), ('svm', model2), ('nb', model3)], voting='hard')\n",
    "voting_clf.fit(X_train_tfidf, y_train_label_encoded)\n",
    "\n",
    "# Evaluating the ensemble model\n",
    "y_pred_dev_ensemble = voting_clf.predict(X_dev_tfidf)\n",
    "print(\"Ensemble Model - Classification Report:\")\n",
    "print(classification_report(y_dev_label_encoded, y_pred_dev_ensemble, target_names=label_encoder.classes_))"
   ]
  },
  {
   "cell_type": "markdown",
   "metadata": {},
   "source": [
    "**Stacking Ensemble**"
   ]
  },
  {
   "cell_type": "markdown",
   "metadata": {},
   "source": [
    "My stacking ensemble was composed of three base learners: an optimized Logistic Regression, an SVM with a linear kernel and tailored parameters, and a fine-tuned Naive Bayes model. Upon evaluation, the stacking ensemble achieved an overall accuracy of 77%. Breaking down its performance:\n",
    "\n",
    "- Negative Sentiment: The model excelled in identifying negative sentiments, showing high precision and recall in this category.\n",
    "- Neutral Sentiment: The model displayed moderate precision and recall for neutral sentiments, indicating some challenges in their classification.\n",
    "- Positive Sentiment: While the model was relatively precise in predicting positive sentiments, its recall was lower, suggesting it missed a number of positive instances.\n",
    "\n",
    "The stacking ensemble model proved to be effective, especially in detecting negative sentiments, leveraging the strengths of its base learners. However, the model's performance in classifying neutral and positive sentiments could be enhanced. "
   ]
  },
  {
   "cell_type": "code",
   "execution_count": 89,
   "metadata": {},
   "outputs": [
    {
     "name": "stdout",
     "output_type": "stream",
     "text": [
      "Stacking Ensemble Model - Classification Report:\n",
      "              precision    recall  f1-score   support\n",
      "\n",
      "    negative       0.81      0.91      0.86       826\n",
      "     neutral       0.62      0.47      0.54       279\n",
      "    positive       0.76      0.61      0.68       213\n",
      "\n",
      "    accuracy                           0.77      1318\n",
      "   macro avg       0.73      0.67      0.69      1318\n",
      "weighted avg       0.76      0.77      0.76      1318\n",
      "\n"
     ]
    }
   ],
   "source": [
    "from sklearn.ensemble import StackingClassifier\n",
    "\n",
    "# Removing 'kernel' from best_params_svm\n",
    "best_params_svm_mod = {k: v for k, v in best_params_svm.items() if k != 'kernel'}\n",
    "base_learners = [\n",
    "    ('lr', LogisticRegression(**best_params_lr)),\n",
    "    ('svm', SVC(kernel='linear', probability=True, **best_params_svm_mod)),\n",
    "    ('nb', MultinomialNB(**best_params_nb))\n",
    "]\n",
    "\n",
    "\n",
    "# Defining the meta-learner\n",
    "meta_learner = LogisticRegression()\n",
    "\n",
    "# Creating the StackingClassifier\n",
    "stacking_clf = StackingClassifier(estimators=base_learners, final_estimator=meta_learner)\n",
    "stacking_clf.fit(X_train_tfidf, y_train_label_encoded)\n",
    "\n",
    "# Evaluating the ensemble model\n",
    "y_pred_dev_stacking = stacking_clf.predict(X_dev_tfidf)\n",
    "print(\"Stacking Ensemble Model - Classification Report:\")\n",
    "print(classification_report(y_dev_label_encoded, y_pred_dev_stacking, target_names=label_encoder.classes_))"
   ]
  },
  {
   "cell_type": "markdown",
   "metadata": {},
   "source": [
    "#### **Model Performance Analysis**"
   ]
  },
  {
   "cell_type": "markdown",
   "metadata": {},
   "source": [
    "As part of my sentiment analysis project, I had the opportunity to evaluate a variety of models, each bringing its unique strengths and challenges to the task.\n",
    "\n",
    "Logistic Regression and Support Vector Machine (SVM) both stood out with an accuracy of 0.77. This level of performance was impressive, showing a good balance in correctly classifying tweets into the respective sentiment categories. Their precision and recall values being closely aligned suggested a commendable balance between false positives and false negatives. It was fascinating to see traditional models like these perform so well, indicating their robustness in linearly separable data.\n",
    "\n",
    "Naive Bayes, with slightly lower metrics (accuracy: 0.74, precision: 0.73, recall: 0.74, F1-score: 0.71), hinted at the limitations that come from its assumption of feature independence. This was an important learning point for me, as it underscored the complexity of natural language, where dependencies between words are often key to understanding sentiment.\n",
    "\n",
    "Delving into the realm of deep learning, LSTM, GRU, and BiLSTM each recorded an accuracy, precision, recall, and F1-score of 0.72. Their performance was moderate, which initially surprised me. I expected more from these advanced models, known for their ability to capture long-term dependencies. However, the limited context in tweets might have posed a challenge for these models, highlighting the importance of data context in model selection.\n",
    "\n",
    "The ensemble methods - Voting and Stacking - matched the top performance of Logistic Regression and SVM with an accuracy of 0.77. These ensemble models effectively combined the predictions from multiple models, balancing out their individual weaknesses. This was a key takeaway for me, as it demonstrated the power of leveraging multiple models to achieve better overall performance."
   ]
  },
  {
   "cell_type": "code",
   "execution_count": 97,
   "metadata": {},
   "outputs": [
    {
     "name": "stdout",
     "output_type": "stream",
     "text": [
      "Logistic Regression:\n",
      "  Accuracy: 0.77\n",
      "  Precision: 0.76\n",
      "  Recall: 0.77\n",
      "  F1-score: 0.76\n",
      "\n",
      "SVM:\n",
      "  Accuracy: 0.77\n",
      "  Precision: 0.76\n",
      "  Recall: 0.77\n",
      "  F1-score: 0.76\n",
      "\n",
      "Naive Bayes:\n",
      "  Accuracy: 0.74\n",
      "  Precision: 0.73\n",
      "  Recall: 0.74\n",
      "  F1-score: 0.71\n",
      "\n",
      "LSTM:\n",
      "  Accuracy: 0.72\n",
      "  Precision: 0.72\n",
      "  Recall: 0.72\n",
      "  F1-score: 0.72\n",
      "\n",
      "GRU:\n",
      "  Accuracy: 0.72\n",
      "  Precision: 0.72\n",
      "  Recall: 0.72\n",
      "  F1-score: 0.72\n",
      "\n",
      "BiLSTM:\n",
      "  Accuracy: 0.72\n",
      "  Precision: 0.72\n",
      "  Recall: 0.72\n",
      "  F1-score: 0.72\n",
      "\n",
      "Voting Ensemble:\n",
      "  Accuracy: 0.77\n",
      "  Precision: 0.76\n",
      "  Recall: 0.77\n",
      "  F1-score: 0.75\n",
      "\n",
      "Stacking Ensemble:\n",
      "  Accuracy: 0.77\n",
      "  Precision: 0.76\n",
      "  Recall: 0.77\n",
      "  F1-score: 0.76\n",
      "\n"
     ]
    }
   ],
   "source": [
    "from sklearn.metrics import classification_report, accuracy_score\n",
    "\n",
    "# actual predictions and labels\n",
    "y_true = y_dev_encoded\n",
    "y_pred_lr = y_pred_dev_lr\n",
    "y_pred_svm = y_pred_dev_svm\n",
    "y_pred_nb = y_pred_dev_nb\n",
    "y_pred_lstm = y_pred_dev2\n",
    "y_pred_gru = y_pred_dev1\n",
    "y_pred_bilstm = y_pred_dev\n",
    "y_pred_voting = y_pred_dev_ensemble\n",
    "y_pred_stacking = y_pred_dev_stacking\n",
    "\n",
    "models = {\n",
    "    \"Logistic Regression\": y_pred_lr,\n",
    "    \"SVM\": y_pred_svm,\n",
    "    \"Naive Bayes\": y_pred_nb,\n",
    "    \"LSTM\": y_pred_lstm,\n",
    "    \"GRU\": y_pred_gru,\n",
    "    \"BiLSTM\": y_pred_bilstm,\n",
    "    \"Voting Ensemble\": y_pred_voting,\n",
    "    \"Stacking Ensemble\": y_pred_stacking\n",
    "}\n",
    "\n",
    "metrics = {}\n",
    "\n",
    "for model_name, y_pred in models.items():\n",
    "    report = classification_report(y_true, y_pred, output_dict=True, target_names=label_encoder.classes_)\n",
    "    accuracy = accuracy_score(y_true, y_pred)\n",
    "    metrics[model_name] = {\n",
    "        \"accuracy\": accuracy,\n",
    "        \"precision\": report['weighted avg']['precision'],\n",
    "        \"recall\": report['weighted avg']['recall'],\n",
    "        \"f1-score\": report['weighted avg']['f1-score']\n",
    "    }\n",
    "\n",
    "# Printing metrics for each model\n",
    "for model_name, metric in metrics.items():\n",
    "    print(f\"{model_name}:\")\n",
    "    print(f\"  Accuracy: {metric['accuracy']:.2f}\")\n",
    "    print(f\"  Precision: {metric['precision']:.2f}\")\n",
    "    print(f\"  Recall: {metric['recall']:.2f}\")\n",
    "    print(f\"  F1-score: {metric['f1-score']:.2f}\\n\")\n"
   ]
  },
  {
   "cell_type": "markdown",
   "metadata": {},
   "source": [
    "I implemented various machine learning models and compared their performance using key metrics such as accuracy, precision, recall, and F1-score. \n",
    "\n",
    "*Accuracy Chart (Skyblue Bars):* The accuracy seems to hover just under 0.8 for all models. Logistic Regression, SVM, Voting Ensemble, and Stacking Ensemble models appear to have the highest accuracy, marginally outperforming the Naive Bayes, LSTM, GRU, and BiLSTM models.\n",
    "\n",
    "*Precision Chart (Lightgreen Bars):* Precision across all models is consistent, with each model achieving scores close to 0.7. This indicates that each model's ability to predict true positives out of all positive predictions is similar.\n",
    "\n",
    "*Recall Chart (Salmon Bars):* The recall for all models is also nearly uniform, suggesting that the models are equally capable of identifying all relevant instances. Each model's recall score is just under 0.7, which means they are equally good at finding the correct sentiment categories in the dataset.\n",
    "\n",
    "*F1-score Chart (Orchid Bars):* The F1-scores, which consider both precision and recall, are quite similar for all the models, with scores close to 0.7. This uniformity indicates that all models maintain a balance between precision and recall in their predictions."
   ]
  },
  {
   "cell_type": "code",
   "execution_count": 98,
   "metadata": {},
   "outputs": [
    {
     "data": {
      "image/png": "[encoded data removed]",
      "text/plain": [
       "<Figure size 1200x800 with 4 Axes>"
      ]
     },
     "metadata": {},
     "output_type": "display_data"
    }
   ],
   "source": [
    "import matplotlib.pyplot as plt\n",
    "\n",
    "# Preparing data for plotting\n",
    "accuracy_scores = [metric['accuracy'] for metric in metrics.values()]\n",
    "precision_scores = [metric['precision'] for metric in metrics.values()]\n",
    "recall_scores = [metric['recall'] for metric in metrics.values()]\n",
    "f1_scores = [metric['f1-score'] for metric in metrics.values()]\n",
    "\n",
    "model_names = list(models.keys())\n",
    "\n",
    "# Plotting\n",
    "plt.figure(figsize=(12, 8))\n",
    "\n",
    "plt.subplot(2, 2, 1)\n",
    "plt.bar(model_names, accuracy_scores, color='skyblue')\n",
    "plt.title('Accuracy')\n",
    "plt.xticks(rotation=45)\n",
    "\n",
    "plt.subplot(2, 2, 2)\n",
    "plt.bar(model_names, precision_scores, color='lightgreen')\n",
    "plt.title('Precision')\n",
    "plt.xticks(rotation=45)\n",
    "\n",
    "plt.subplot(2, 2, 3)\n",
    "plt.bar(model_names, recall_scores, color='salmon')\n",
    "plt.title('Recall')\n",
    "plt.xticks(rotation=45)\n",
    "\n",
    "plt.subplot(2, 2, 4)\n",
    "plt.bar(model_names, f1_scores, color='orchid')\n",
    "plt.title('F1-score')\n",
    "plt.xticks(rotation=45)\n",
    "\n",
    "plt.tight_layout()\n",
    "plt.show()"
   ]
  },
  {
   "cell_type": "markdown",
   "metadata": {},
   "source": [
    "### **Model Comparison & Analysis**"
   ]
  },
  {
   "cell_type": "markdown",
   "metadata": {},
   "source": [
    "**Logistic Regression, SVM, Voting Ensemble, and Stacking Ensemble**"
   ]
  },
  {
   "cell_type": "markdown",
   "metadata": {},
   "source": [
    "These models have demonstrated remarkably similar performance levels. They all achieved an accuracy, recall, and F1-score of approximately 0.77. The balanced nature of precision and recall suggests that these models are well-rounded, effectively handling different classes in the dataset without significant bias.\n",
    "\n",
    "Logistic Regression and SVM, being shallow models, have shown that they can be quite powerful and efficient for this type of sentiment analysis task. The Voting and Stacking Ensembles, which combine predictions from multiple models, also reached this performance level, indicating their effectiveness in harnessing the strengths of individual models."
   ]
  },
  {
   "cell_type": "markdown",
   "metadata": {},
   "source": [
    "**Naive Bayes**"
   ]
  },
  {
   "cell_type": "markdown",
   "metadata": {},
   "source": [
    "Naive Bayes exhibited a slightly lower performance with an accuracy of 0.74 and an F1-score of 0.71. The marginally lower performance might be attributed to the inherent simplicity of the Naive Bayes algorithm and its assumption of feature independence, which may not always hold true in natural language data."
   ]
  },
  {
   "cell_type": "markdown",
   "metadata": {},
   "source": [
    "**LSTM, GRU, and BiLSTM**"
   ]
  },
  {
   "cell_type": "markdown",
   "metadata": {},
   "source": [
    "The deep learning models – LSTM, GRU, and BiLSTM – showed comparable performances to each other, with accuracy, precision, recall, and F1-scores all around 0.72. Despite their complexity and capacity for capturing long-term dependencies in sequence data, these models did not outperform the shallow models for this particular dataset and task. This result could suggest that the dataset characteristics and the nature of the sentiment analysis task may be more conducive to models that do not require capturing long-term dependencies, which is a strength of LSTM-based models."
   ]
  },
  {
   "cell_type": "markdown",
   "metadata": {},
   "source": [
    "**Concluding Insights**"
   ]
  },
  {
   "cell_type": "markdown",
   "metadata": {},
   "source": [
    "***Shallow vs. Deep Learning Models:*** In this specific sentiment analysis task, shallow models like Logistic Regression and SVM have demonstrated a comparable or slightly superior performance to more complex deep learning models.\n",
    "\n",
    "***Model Selection for Deployment:*** When choosing a model for deployment or practical application, factors such as performance, computational efficiency, model interpretability, and ease of implementation should be considered. In scenarios where high accuracy and balanced precision-recall are crucial, Logistic Regression, SVM, or the ensemble methods might be preferred.\n",
    "\n",
    "***Future Scope:*** Depending on the future scope, such as adapting to larger or more complex datasets, one might consider the potential benefits of deep learning models despite their current performance on this dataset."
   ]
  },
  {
   "cell_type": "markdown",
   "metadata": {},
   "source": [
    "### **Discussion**"
   ]
  },
  {
   "cell_type": "markdown",
   "metadata": {},
   "source": [
    "Delving into the realm of machine learning, this sentiment analysis assignment has been both challenging and enlightening. The task of categorizing tweets into positive, negative, or neutral sentiments provided a practical canvas to apply various machine learning concepts I've learned in class.\n",
    "\n",
    "*Experiences with Traditional Machine Learning Models*\n",
    "\n",
    "I started with Logistic Regression, SVM, and Naive Bayes. I was particularly impressed with how SVM performed in identifying negative sentiments, which was a dominant sentiment in our dataset. These models were a good starting point, offering a straightforward approach to text classification. While these models were efficient, they lacked the capability to deeply understand the context and nuances of language, which I learned is crucial in sentiment analysis.\n",
    "\n",
    "\n",
    "*Journey Through Deep Learning*\n",
    "\n",
    "I then ventured into more complex models like LSTM, GRU, and Bidirectional LSTM. The LSTM model's ability to grasp the context in longer tweets was fascinating, although it wasn’t as accurate with positive sentiments. This was an intriguing insight into how model structure impacts performance. A key learning point for me was managing overfitting, particularly with the Bidirectional LSTM model. It showed promising results initially but then hit a performance ceiling, teaching me the importance of regularization and proper training strategies.\n",
    "\n",
    "*The Ensemble Approach*\n",
    "\n",
    "I experimented with ensemble models like voting and stacking, which combined the strengths of individual models. This approach was particularly effective in handling neutral sentiments, a category where some models like Naive Bayes underperformed. Ensemble models helped me learn how to balance the strengths and weaknesses of various approaches to enhance overall performance."
   ]
  },
  {
   "cell_type": "markdown",
   "metadata": {},
   "source": [
    "### **Conclusion**"
   ]
  },
  {
   "cell_type": "markdown",
   "metadata": {},
   "source": [
    "My exploration in sentiment analysis spanned a diverse range of models, each offering unique insights into the intricacies of classifying sentiments in social media text. From the precision of traditional machine learning methods to the depth of understanding afforded by deep learning techniques, my journey revealed the multifaceted nature of this complex task.\n",
    "\n",
    "*Shallow Classifier:* Logistic Regression, SVM, and Naive Bayes demonstrated their efficacy, especially in identifying negative sentiments with notable precision. For instance, the SVM model consistently identified negative sentiments with high accuracy, showcasing its strength in handling the most dominant class in our dataset.\n",
    "\n",
    "*Deep Learning Insights:* The LSTM, GRU, and Bidirectional LSTM models, with their sequential data processing capabilities, delved deeper into the language structure. A specific case in point was the LSTM's ability to contextually understand longer tweets, though it faced limitations in consistently classifying positive sentiments accurately.\n",
    "\n",
    "*Ensemble Model Strengths:* The ensemble models, both voting and stacking, capitalized on the strengths of individual models. The stacking ensemble, for instance, improved the handling of neutral sentiments, a category where individual models like Naive Bayes had shown weaker performance.\n",
    "\n",
    "The deep learning models, while powerful, were susceptible to overfitting. For example, the Bidirectional LSTM showed promising results in early epochs but its performance plateaued, indicating overfitting. \n",
    "\n",
    "This sentiment analysis project highlighted the complexity of interpreting human emotions through text. Each model brought us closer to understanding the nuances of sentiments expressed online. While there's room for improvement and exploration, the progress made lays a solid foundation for further advancements in the field, steering us towards more nuanced and accurate sentiment analysis systems."
   ]
  },
  {
   "cell_type": "markdown",
   "metadata": {},
   "source": [
    "## **Machine Learning Project Report: Traffic Incident Analysis**"
   ]
  },
  {
   "cell_type": "markdown",
   "metadata": {},
   "source": [
    "### **Introduction**"
   ]
  },
  {
   "cell_type": "markdown",
   "metadata": {},
   "source": [
    "The aim of this project is to develop a predictive model capable of analyzing traffic incident data to predict injury severity in traffic accidents. This analysis is crucial for understanding risk factors and contributing conditions that lead to severe injuries or fatalities, which can guide preventive measures and policy-making. The dataset utilized in this project comprises various features related to traffic incidents, including demographic information of involved individuals, details of the vehicles, and circumstances of the accidents."
   ]
  },
  {
   "cell_type": "markdown",
   "metadata": {},
   "source": [
    "### **Data Description**"
   ]
  },
  {
   "cell_type": "markdown",
   "metadata": {},
   "source": [
    "The dataset contains 100,968 records and 30 features, encompassing a broad range of variables from age and sex of the individuals involved to specific details about the incident like alcohol and drug involvement, ejection from the vehicle, and the use of restraint systems. The target variable for prediction is 'INJURY_SEVERITY', a categorical variable indicating the severity of the injuries sustained during the incident."
   ]
  },
  {
   "cell_type": "markdown",
   "metadata": {},
   "source": [
    "### **Methodology**"
   ]
  },
  {
   "cell_type": "markdown",
   "metadata": {},
   "source": [
    "#### **Data Preprocessing**"
   ]
  },
  {
   "cell_type": "markdown",
   "metadata": {},
   "source": [
    "I am importing the Pandas library, then I load the fars.csv dataset from the specified file path into a Pandas DataFrame named df. The head() function is used to peek at the first few rows of the DataFrame, giving us an initial understanding of the data structure and contents."
   ]
  },
  {
   "cell_type": "code",
   "execution_count": 2,
   "metadata": {},
   "outputs": [
    {
     "data": {
      "text/html": [
       "<div>\n",
       "<style scoped>\n",
       "    .dataframe tbody tr th:only-of-type {\n",
       "        vertical-align: middle;\n",
       "    }\n",
       "\n",
       "    .dataframe tbody tr th {\n",
       "        vertical-align: top;\n",
       "    }\n",
       "\n",
       "    .dataframe thead th {\n",
       "        text-align: right;\n",
       "    }\n",
       "</style>\n",
       "<table border=\"1\" class=\"dataframe\">\n",
       "  <thead>\n",
       "    <tr style=\"text-align: right;\">\n",
       "      <th></th>\n",
       "      <th>CASE_STATE</th>\n",
       "      <th>AGE</th>\n",
       "      <th>SEX</th>\n",
       "      <th>PERSON_TYPE</th>\n",
       "      <th>SEATING_POSITION</th>\n",
       "      <th>RESTRAINT_SYSTEM-USE</th>\n",
       "      <th>AIR_BAG_AVAILABILITY/DEPLOYMENT</th>\n",
       "      <th>EJECTION</th>\n",
       "      <th>EJECTION_PATH</th>\n",
       "      <th>EXTRICATION</th>\n",
       "      <th>...</th>\n",
       "      <th>DRUG_TEST_RESULTS_(2_of_3)</th>\n",
       "      <th>DRUG_TEST_TYPE_(3_of_3)</th>\n",
       "      <th>DRUG_TEST_RESULTS_(3_of_3)</th>\n",
       "      <th>HISPANIC_ORIGIN</th>\n",
       "      <th>TAKEN_TO_HOSPITAL</th>\n",
       "      <th>RELATED_FACTOR_(1)-PERSON_LEVEL</th>\n",
       "      <th>RELATED_FACTOR_(2)-PERSON_LEVEL</th>\n",
       "      <th>RELATED_FACTOR_(3)-PERSON_LEVEL</th>\n",
       "      <th>RACE</th>\n",
       "      <th>INJURY_SEVERITY</th>\n",
       "    </tr>\n",
       "  </thead>\n",
       "  <tbody>\n",
       "    <tr>\n",
       "      <th>0</th>\n",
       "      <td>Alabama</td>\n",
       "      <td>34</td>\n",
       "      <td>Male</td>\n",
       "      <td>Driver</td>\n",
       "      <td>Front_Seat_-_Left_Side_(Drivers_Side)</td>\n",
       "      <td>None_Used/Not_Applicable</td>\n",
       "      <td>Air_Bag_Available_but_Not_Deployed_for_this_Seat</td>\n",
       "      <td>Totally_Ejected</td>\n",
       "      <td>Unknown</td>\n",
       "      <td>Not_Extricated</td>\n",
       "      <td>...</td>\n",
       "      <td>0</td>\n",
       "      <td>Not_Tested_for_Drugs</td>\n",
       "      <td>0</td>\n",
       "      <td>Non-Hispanic</td>\n",
       "      <td>No</td>\n",
       "      <td>Not_Applicable_-_Driver/None_-_All_Other_Persons</td>\n",
       "      <td>Not_Applicable_-_Driver/None_-_All_Other_Persons</td>\n",
       "      <td>Not_Applicable_-_Driver/None_-_All_Other_Persons</td>\n",
       "      <td>White</td>\n",
       "      <td>Fatal_Injury</td>\n",
       "    </tr>\n",
       "    <tr>\n",
       "      <th>1</th>\n",
       "      <td>Alabama</td>\n",
       "      <td>20</td>\n",
       "      <td>Male</td>\n",
       "      <td>Driver</td>\n",
       "      <td>Front_Seat_-_Left_Side_(Drivers_Side)</td>\n",
       "      <td>None_Used/Not_Applicable</td>\n",
       "      <td>Deployed_Air_Bag_from_Front</td>\n",
       "      <td>Totally_Ejected</td>\n",
       "      <td>Unknown</td>\n",
       "      <td>Not_Extricated</td>\n",
       "      <td>...</td>\n",
       "      <td>0</td>\n",
       "      <td>Not_Tested_for_Drugs</td>\n",
       "      <td>0</td>\n",
       "      <td>Non-Hispanic</td>\n",
       "      <td>No</td>\n",
       "      <td>Not_Applicable_-_Driver/None_-_All_Other_Persons</td>\n",
       "      <td>Not_Applicable_-_Driver/None_-_All_Other_Persons</td>\n",
       "      <td>Not_Applicable_-_Driver/None_-_All_Other_Persons</td>\n",
       "      <td>White</td>\n",
       "      <td>Fatal_Injury</td>\n",
       "    </tr>\n",
       "    <tr>\n",
       "      <th>2</th>\n",
       "      <td>Alabama</td>\n",
       "      <td>43</td>\n",
       "      <td>Male</td>\n",
       "      <td>Driver</td>\n",
       "      <td>Front_Seat_-_Left_Side_(Drivers_Side)</td>\n",
       "      <td>Lap_and_Shoulder_Belt</td>\n",
       "      <td>Air_Bag_Not_Available_for_this_Seat</td>\n",
       "      <td>Not_Ejected</td>\n",
       "      <td>Not_Ejected/Not_Applicable</td>\n",
       "      <td>Extricated</td>\n",
       "      <td>...</td>\n",
       "      <td>0</td>\n",
       "      <td>Not_Tested_for_Drugs</td>\n",
       "      <td>0</td>\n",
       "      <td>Non-Hispanic</td>\n",
       "      <td>No</td>\n",
       "      <td>Not_Applicable_-_Driver/None_-_All_Other_Persons</td>\n",
       "      <td>Not_Applicable_-_Driver/None_-_All_Other_Persons</td>\n",
       "      <td>Not_Applicable_-_Driver/None_-_All_Other_Persons</td>\n",
       "      <td>Black</td>\n",
       "      <td>Fatal_Injury</td>\n",
       "    </tr>\n",
       "    <tr>\n",
       "      <th>3</th>\n",
       "      <td>Alabama</td>\n",
       "      <td>38</td>\n",
       "      <td>Female</td>\n",
       "      <td>Passenger_of_a_Motor_Vehicle_in_Transport</td>\n",
       "      <td>Front_Seat_-_Right_Side</td>\n",
       "      <td>Lap_and_Shoulder_Belt</td>\n",
       "      <td>Air_Bag_Not_Available_for_this_Seat</td>\n",
       "      <td>Not_Ejected</td>\n",
       "      <td>Not_Ejected/Not_Applicable</td>\n",
       "      <td>Extricated</td>\n",
       "      <td>...</td>\n",
       "      <td>0</td>\n",
       "      <td>Not_Tested_for_Drugs</td>\n",
       "      <td>0</td>\n",
       "      <td>Not_a_Fatality_(Not_Applicable)</td>\n",
       "      <td>Yes</td>\n",
       "      <td>Not_Applicable_-_Driver/None_-_All_Other_Persons</td>\n",
       "      <td>Not_Applicable_-_Driver/None_-_All_Other_Persons</td>\n",
       "      <td>Not_Applicable_-_Driver/None_-_All_Other_Persons</td>\n",
       "      <td>Not_a_Fatality_(Not_Applicable)</td>\n",
       "      <td>Incapaciting_Injury</td>\n",
       "    </tr>\n",
       "    <tr>\n",
       "      <th>4</th>\n",
       "      <td>Alabama</td>\n",
       "      <td>50</td>\n",
       "      <td>Male</td>\n",
       "      <td>Driver</td>\n",
       "      <td>Front_Seat_-_Left_Side_(Drivers_Side)</td>\n",
       "      <td>Lap_and_Shoulder_Belt</td>\n",
       "      <td>Deployed_Air_Bag_from_Front</td>\n",
       "      <td>Not_Ejected</td>\n",
       "      <td>Not_Ejected/Not_Applicable</td>\n",
       "      <td>Not_Extricated</td>\n",
       "      <td>...</td>\n",
       "      <td>0</td>\n",
       "      <td>Not_Tested_for_Drugs</td>\n",
       "      <td>0</td>\n",
       "      <td>Non-Hispanic</td>\n",
       "      <td>Yes</td>\n",
       "      <td>Not_Applicable_-_Driver/None_-_All_Other_Persons</td>\n",
       "      <td>Not_Applicable_-_Driver/None_-_All_Other_Persons</td>\n",
       "      <td>Not_Applicable_-_Driver/None_-_All_Other_Persons</td>\n",
       "      <td>Black</td>\n",
       "      <td>Fatal_Injury</td>\n",
       "    </tr>\n",
       "  </tbody>\n",
       "</table>\n",
       "<p>5 rows × 30 columns</p>\n",
       "</div>"
      ],
      "text/plain": [
       "  CASE_STATE  AGE     SEX                                PERSON_TYPE  \\\n",
       "0    Alabama   34    Male                                     Driver   \n",
       "1    Alabama   20    Male                                     Driver   \n",
       "2    Alabama   43    Male                                     Driver   \n",
       "3    Alabama   38  Female  Passenger_of_a_Motor_Vehicle_in_Transport   \n",
       "4    Alabama   50    Male                                     Driver   \n",
       "\n",
       "                        SEATING_POSITION      RESTRAINT_SYSTEM-USE  \\\n",
       "0  Front_Seat_-_Left_Side_(Drivers_Side)  None_Used/Not_Applicable   \n",
       "1  Front_Seat_-_Left_Side_(Drivers_Side)  None_Used/Not_Applicable   \n",
       "2  Front_Seat_-_Left_Side_(Drivers_Side)     Lap_and_Shoulder_Belt   \n",
       "3                Front_Seat_-_Right_Side     Lap_and_Shoulder_Belt   \n",
       "4  Front_Seat_-_Left_Side_(Drivers_Side)     Lap_and_Shoulder_Belt   \n",
       "\n",
       "                    AIR_BAG_AVAILABILITY/DEPLOYMENT         EJECTION  \\\n",
       "0  Air_Bag_Available_but_Not_Deployed_for_this_Seat  Totally_Ejected   \n",
       "1                       Deployed_Air_Bag_from_Front  Totally_Ejected   \n",
       "2               Air_Bag_Not_Available_for_this_Seat      Not_Ejected   \n",
       "3               Air_Bag_Not_Available_for_this_Seat      Not_Ejected   \n",
       "4                       Deployed_Air_Bag_from_Front      Not_Ejected   \n",
       "\n",
       "                EJECTION_PATH     EXTRICATION  ... DRUG_TEST_RESULTS_(2_of_3)  \\\n",
       "0                     Unknown  Not_Extricated  ...                          0   \n",
       "1                     Unknown  Not_Extricated  ...                          0   \n",
       "2  Not_Ejected/Not_Applicable      Extricated  ...                          0   \n",
       "3  Not_Ejected/Not_Applicable      Extricated  ...                          0   \n",
       "4  Not_Ejected/Not_Applicable  Not_Extricated  ...                          0   \n",
       "\n",
       "  DRUG_TEST_TYPE_(3_of_3) DRUG_TEST_RESULTS_(3_of_3)  \\\n",
       "0    Not_Tested_for_Drugs                          0   \n",
       "1    Not_Tested_for_Drugs                          0   \n",
       "2    Not_Tested_for_Drugs                          0   \n",
       "3    Not_Tested_for_Drugs                          0   \n",
       "4    Not_Tested_for_Drugs                          0   \n",
       "\n",
       "                   HISPANIC_ORIGIN  TAKEN_TO_HOSPITAL  \\\n",
       "0                     Non-Hispanic                 No   \n",
       "1                     Non-Hispanic                 No   \n",
       "2                     Non-Hispanic                 No   \n",
       "3  Not_a_Fatality_(Not_Applicable)                Yes   \n",
       "4                     Non-Hispanic                Yes   \n",
       "\n",
       "                    RELATED_FACTOR_(1)-PERSON_LEVEL  \\\n",
       "0  Not_Applicable_-_Driver/None_-_All_Other_Persons   \n",
       "1  Not_Applicable_-_Driver/None_-_All_Other_Persons   \n",
       "2  Not_Applicable_-_Driver/None_-_All_Other_Persons   \n",
       "3  Not_Applicable_-_Driver/None_-_All_Other_Persons   \n",
       "4  Not_Applicable_-_Driver/None_-_All_Other_Persons   \n",
       "\n",
       "                    RELATED_FACTOR_(2)-PERSON_LEVEL  \\\n",
       "0  Not_Applicable_-_Driver/None_-_All_Other_Persons   \n",
       "1  Not_Applicable_-_Driver/None_-_All_Other_Persons   \n",
       "2  Not_Applicable_-_Driver/None_-_All_Other_Persons   \n",
       "3  Not_Applicable_-_Driver/None_-_All_Other_Persons   \n",
       "4  Not_Applicable_-_Driver/None_-_All_Other_Persons   \n",
       "\n",
       "                    RELATED_FACTOR_(3)-PERSON_LEVEL  \\\n",
       "0  Not_Applicable_-_Driver/None_-_All_Other_Persons   \n",
       "1  Not_Applicable_-_Driver/None_-_All_Other_Persons   \n",
       "2  Not_Applicable_-_Driver/None_-_All_Other_Persons   \n",
       "3  Not_Applicable_-_Driver/None_-_All_Other_Persons   \n",
       "4  Not_Applicable_-_Driver/None_-_All_Other_Persons   \n",
       "\n",
       "                              RACE      INJURY_SEVERITY  \n",
       "0                            White         Fatal_Injury  \n",
       "1                            White         Fatal_Injury  \n",
       "2                            Black         Fatal_Injury  \n",
       "3  Not_a_Fatality_(Not_Applicable)  Incapaciting_Injury  \n",
       "4                            Black         Fatal_Injury  \n",
       "\n",
       "[5 rows x 30 columns]"
      ]
     },
     "execution_count": 2,
     "metadata": {},
     "output_type": "execute_result"
    }
   ],
   "source": [
    "import pandas as pd\n",
    "\n",
    "# Load the dataset\n",
    "file_path = 'fars.csv'\n",
    "df = pd.read_csv(file_path)\n",
    "\n",
    "# Display the first few rows of the dataset\n",
    "df.head()"
   ]
  },
  {
   "cell_type": "markdown",
   "metadata": {},
   "source": [
    "After conducting a thorough check, it was found that our dataset does not contain any missing values across all 30 features. The next step was to assess the data types of each feature. This understanding is essential to ensure that each feature is represented by an appropriate data type before being fed into the machine learning models. Our dataset comprises a mix of object (categorical) and integer (numerical) data types:\n",
    "\n",
    "- *Categorical Features:* Features like CASE_STATE, SEX, PERSON_TYPE, and others are of object type. Categorical variables are crucial as they often contain valuable information for classification tasks. However, they require proper encoding (such as one-hot encoding) to convert them into a numerical format that machine learning algorithms can process.\n",
    "\n",
    "- *Numerical Features:* Features such as AGE, ALCOHOL_TEST_RESULT, and other drug test results are of integer type. "
   ]
  },
  {
   "cell_type": "code",
   "execution_count": 3,
   "metadata": {},
   "outputs": [
    {
     "name": "stdout",
     "output_type": "stream",
     "text": [
      "Missing Values:\n",
      " CASE_STATE                             0\n",
      "AGE                                    0\n",
      "SEX                                    0\n",
      "PERSON_TYPE                            0\n",
      "SEATING_POSITION                       0\n",
      "RESTRAINT_SYSTEM-USE                   0\n",
      "AIR_BAG_AVAILABILITY/DEPLOYMENT        0\n",
      "EJECTION                               0\n",
      "EJECTION_PATH                          0\n",
      "EXTRICATION                            0\n",
      "NON_MOTORIST_LOCATION                  0\n",
      "POLICE_REPORTED_ALCOHOL_INVOLVEMENT    0\n",
      "METHOD_ALCOHOL_DETERMINATION           0\n",
      "ALCOHOL_TEST_TYPE                      0\n",
      "ALCOHOL_TEST_RESULT                    0\n",
      "POLICE-REPORTED_DRUG_INVOLVEMENT       0\n",
      "METHOD_OF_DRUG_DETERMINATION           0\n",
      "DRUG_TEST_TYPE_(1_of_3)                0\n",
      "DRUG_TEST_RESULTS_(1_of_3)             0\n",
      "DRUG_TEST_TYPE_(2_of_3)                0\n",
      "DRUG_TEST_RESULTS_(2_of_3)             0\n",
      "DRUG_TEST_TYPE_(3_of_3)                0\n",
      "DRUG_TEST_RESULTS_(3_of_3)             0\n",
      "HISPANIC_ORIGIN                        0\n",
      "TAKEN_TO_HOSPITAL                      0\n",
      "RELATED_FACTOR_(1)-PERSON_LEVEL        0\n",
      "RELATED_FACTOR_(2)-PERSON_LEVEL        0\n",
      "RELATED_FACTOR_(3)-PERSON_LEVEL        0\n",
      "RACE                                   0\n",
      "INJURY_SEVERITY                        0\n",
      "dtype: int64\n",
      "\n",
      "Data Types:\n",
      " CASE_STATE                             object\n",
      "AGE                                     int64\n",
      "SEX                                    object\n",
      "PERSON_TYPE                            object\n",
      "SEATING_POSITION                       object\n",
      "RESTRAINT_SYSTEM-USE                   object\n",
      "AIR_BAG_AVAILABILITY/DEPLOYMENT        object\n",
      "EJECTION                               object\n",
      "EJECTION_PATH                          object\n",
      "EXTRICATION                            object\n",
      "NON_MOTORIST_LOCATION                  object\n",
      "POLICE_REPORTED_ALCOHOL_INVOLVEMENT    object\n",
      "METHOD_ALCOHOL_DETERMINATION           object\n",
      "ALCOHOL_TEST_TYPE                      object\n",
      "ALCOHOL_TEST_RESULT                     int64\n",
      "POLICE-REPORTED_DRUG_INVOLVEMENT       object\n",
      "METHOD_OF_DRUG_DETERMINATION           object\n",
      "DRUG_TEST_TYPE_(1_of_3)                object\n",
      "DRUG_TEST_RESULTS_(1_of_3)              int64\n",
      "DRUG_TEST_TYPE_(2_of_3)                object\n",
      "DRUG_TEST_RESULTS_(2_of_3)              int64\n",
      "DRUG_TEST_TYPE_(3_of_3)                object\n",
      "DRUG_TEST_RESULTS_(3_of_3)              int64\n",
      "HISPANIC_ORIGIN                        object\n",
      "TAKEN_TO_HOSPITAL                      object\n",
      "RELATED_FACTOR_(1)-PERSON_LEVEL        object\n",
      "RELATED_FACTOR_(2)-PERSON_LEVEL        object\n",
      "RELATED_FACTOR_(3)-PERSON_LEVEL        object\n",
      "RACE                                   object\n",
      "INJURY_SEVERITY                        object\n",
      "dtype: object\n"
     ]
    }
   ],
   "source": [
    "# Checking for missing values\n",
    "missing_values = df.isnull().sum()\n",
    "\n",
    "# Checking data types\n",
    "data_types = df.dtypes\n",
    "\n",
    "# Output the missing values and data types\n",
    "print(\"Missing Values:\\n\", missing_values)\n",
    "print(\"\\nData Types:\\n\", data_types)"
   ]
  },
  {
   "cell_type": "code",
   "execution_count": 4,
   "metadata": {},
   "outputs": [
    {
     "name": "stdout",
     "output_type": "stream",
     "text": [
      "<class 'pandas.core.frame.DataFrame'>\n",
      "RangeIndex: 100968 entries, 0 to 100967\n",
      "Data columns (total 30 columns):\n",
      " #   Column                               Non-Null Count   Dtype \n",
      "---  ------                               --------------   ----- \n",
      " 0   CASE_STATE                           100968 non-null  object\n",
      " 1   AGE                                  100968 non-null  int64 \n",
      " 2   SEX                                  100968 non-null  object\n",
      " 3   PERSON_TYPE                          100968 non-null  object\n",
      " 4   SEATING_POSITION                     100968 non-null  object\n",
      " 5   RESTRAINT_SYSTEM-USE                 100968 non-null  object\n",
      " 6   AIR_BAG_AVAILABILITY/DEPLOYMENT      100968 non-null  object\n",
      " 7   EJECTION                             100968 non-null  object\n",
      " 8   EJECTION_PATH                        100968 non-null  object\n",
      " 9   EXTRICATION                          100968 non-null  object\n",
      " 10  NON_MOTORIST_LOCATION                100968 non-null  object\n",
      " 11  POLICE_REPORTED_ALCOHOL_INVOLVEMENT  100968 non-null  object\n",
      " 12  METHOD_ALCOHOL_DETERMINATION         100968 non-null  object\n",
      " 13  ALCOHOL_TEST_TYPE                    100968 non-null  object\n",
      " 14  ALCOHOL_TEST_RESULT                  100968 non-null  int64 \n",
      " 15  POLICE-REPORTED_DRUG_INVOLVEMENT     100968 non-null  object\n",
      " 16  METHOD_OF_DRUG_DETERMINATION         100968 non-null  object\n",
      " 17  DRUG_TEST_TYPE_(1_of_3)              100968 non-null  object\n",
      " 18  DRUG_TEST_RESULTS_(1_of_3)           100968 non-null  int64 \n",
      " 19  DRUG_TEST_TYPE_(2_of_3)              100968 non-null  object\n",
      " 20  DRUG_TEST_RESULTS_(2_of_3)           100968 non-null  int64 \n",
      " 21  DRUG_TEST_TYPE_(3_of_3)              100968 non-null  object\n",
      " 22  DRUG_TEST_RESULTS_(3_of_3)           100968 non-null  int64 \n",
      " 23  HISPANIC_ORIGIN                      100968 non-null  object\n",
      " 24  TAKEN_TO_HOSPITAL                    100968 non-null  object\n",
      " 25  RELATED_FACTOR_(1)-PERSON_LEVEL      100968 non-null  object\n",
      " 26  RELATED_FACTOR_(2)-PERSON_LEVEL      100968 non-null  object\n",
      " 27  RELATED_FACTOR_(3)-PERSON_LEVEL      100968 non-null  object\n",
      " 28  RACE                                 100968 non-null  object\n",
      " 29  INJURY_SEVERITY                      100968 non-null  object\n",
      "dtypes: int64(5), object(25)\n",
      "memory usage: 23.1+ MB\n",
      "None\n",
      "                 AGE  ALCOHOL_TEST_RESULT  DRUG_TEST_RESULTS_(1_of_3)  \\\n",
      "count  100968.000000        100968.000000               100968.000000   \n",
      "mean       37.106707            68.023116                  207.393758   \n",
      "std        22.109641            42.306371                  396.194002   \n",
      "min         0.000000             0.000000                    0.000000   \n",
      "25%        20.000000            15.000000                    0.000000   \n",
      "50%        32.000000            96.000000                    0.000000   \n",
      "75%        49.000000            96.000000                    1.000000   \n",
      "max        99.000000            99.000000                  999.000000   \n",
      "\n",
      "       DRUG_TEST_RESULTS_(2_of_3)  DRUG_TEST_RESULTS_(3_of_3)  \n",
      "count               100968.000000               100968.000000  \n",
      "mean                   100.089672                   95.441556  \n",
      "std                    295.089512                  292.121277  \n",
      "min                      0.000000                    0.000000  \n",
      "25%                      0.000000                    0.000000  \n",
      "50%                      0.000000                    0.000000  \n",
      "75%                      0.000000                    0.000000  \n",
      "max                    999.000000                  999.000000  \n",
      "CASE_STATE                             0\n",
      "AGE                                    0\n",
      "SEX                                    0\n",
      "PERSON_TYPE                            0\n",
      "SEATING_POSITION                       0\n",
      "RESTRAINT_SYSTEM-USE                   0\n",
      "AIR_BAG_AVAILABILITY/DEPLOYMENT        0\n",
      "EJECTION                               0\n",
      "EJECTION_PATH                          0\n",
      "EXTRICATION                            0\n",
      "NON_MOTORIST_LOCATION                  0\n",
      "POLICE_REPORTED_ALCOHOL_INVOLVEMENT    0\n",
      "METHOD_ALCOHOL_DETERMINATION           0\n",
      "ALCOHOL_TEST_TYPE                      0\n",
      "ALCOHOL_TEST_RESULT                    0\n",
      "POLICE-REPORTED_DRUG_INVOLVEMENT       0\n",
      "METHOD_OF_DRUG_DETERMINATION           0\n",
      "DRUG_TEST_TYPE_(1_of_3)                0\n",
      "DRUG_TEST_RESULTS_(1_of_3)             0\n",
      "DRUG_TEST_TYPE_(2_of_3)                0\n",
      "DRUG_TEST_RESULTS_(2_of_3)             0\n",
      "DRUG_TEST_TYPE_(3_of_3)                0\n",
      "DRUG_TEST_RESULTS_(3_of_3)             0\n",
      "HISPANIC_ORIGIN                        0\n",
      "TAKEN_TO_HOSPITAL                      0\n",
      "RELATED_FACTOR_(1)-PERSON_LEVEL        0\n",
      "RELATED_FACTOR_(2)-PERSON_LEVEL        0\n",
      "RELATED_FACTOR_(3)-PERSON_LEVEL        0\n",
      "RACE                                   0\n",
      "INJURY_SEVERITY                        0\n",
      "dtype: int64\n"
     ]
    }
   ],
   "source": [
    "# Basic info\n",
    "print(df.info())\n",
    "\n",
    "# Summary statistics for numerical features\n",
    "print(df.describe())\n",
    "\n",
    "# Checking for missing values\n",
    "print(df.isnull().sum())"
   ]
  },
  {
   "cell_type": "markdown",
   "metadata": {},
   "source": [
    "**Handle Categorical Variables**"
   ]
  },
  {
   "cell_type": "markdown",
   "metadata": {},
   "source": [
    "In this phase of the project, I focused on processing the categorical features within our dataset. The initial step involved identifying all the columns with data type 'object', which represents categorical features. The application of one-hot encoding significantly expanded our feature space, increasing the total number of columns in our dataset to 370. This transformation is evident in the expanded DataFrame df_encoded, where each original categorical feature has been replaced by multiple binary columns, one for each category. For example, the 'CASE_STATE' feature is now represented by multiple columns like 'CASE_STATE_Alabama', 'CASE_STATE_Alaska', etc., each indicating the presence or absence of a particular state in the record."
   ]
  },
  {
   "cell_type": "code",
   "execution_count": 5,
   "metadata": {},
   "outputs": [
    {
     "data": {
      "text/html": [
       "<div>\n",
       "<style scoped>\n",
       "    .dataframe tbody tr th:only-of-type {\n",
       "        vertical-align: middle;\n",
       "    }\n",
       "\n",
       "    .dataframe tbody tr th {\n",
       "        vertical-align: top;\n",
       "    }\n",
       "\n",
       "    .dataframe thead th {\n",
       "        text-align: right;\n",
       "    }\n",
       "</style>\n",
       "<table border=\"1\" class=\"dataframe\">\n",
       "  <thead>\n",
       "    <tr style=\"text-align: right;\">\n",
       "      <th></th>\n",
       "      <th>AGE</th>\n",
       "      <th>ALCOHOL_TEST_RESULT</th>\n",
       "      <th>DRUG_TEST_RESULTS_(1_of_3)</th>\n",
       "      <th>DRUG_TEST_RESULTS_(2_of_3)</th>\n",
       "      <th>DRUG_TEST_RESULTS_(3_of_3)</th>\n",
       "      <th>CASE_STATE_Alabama</th>\n",
       "      <th>CASE_STATE_Alaska</th>\n",
       "      <th>CASE_STATE_Arizona</th>\n",
       "      <th>CASE_STATE_Arkansas</th>\n",
       "      <th>CASE_STATE_California</th>\n",
       "      <th>...</th>\n",
       "      <th>RACE_Vietnamese</th>\n",
       "      <th>RACE_White</th>\n",
       "      <th>INJURY_SEVERITY_Died_Prior_to_Accident</th>\n",
       "      <th>INJURY_SEVERITY_Fatal_Injury</th>\n",
       "      <th>INJURY_SEVERITY_Incapaciting_Injury</th>\n",
       "      <th>INJURY_SEVERITY_Injured_Severity_Unknown</th>\n",
       "      <th>INJURY_SEVERITY_No_Injury</th>\n",
       "      <th>INJURY_SEVERITY_Nonincapaciting_Evident_Injury</th>\n",
       "      <th>INJURY_SEVERITY_Possible_Injury</th>\n",
       "      <th>INJURY_SEVERITY_Unknown</th>\n",
       "    </tr>\n",
       "  </thead>\n",
       "  <tbody>\n",
       "    <tr>\n",
       "      <th>0</th>\n",
       "      <td>34</td>\n",
       "      <td>97</td>\n",
       "      <td>999</td>\n",
       "      <td>0</td>\n",
       "      <td>0</td>\n",
       "      <td>True</td>\n",
       "      <td>False</td>\n",
       "      <td>False</td>\n",
       "      <td>False</td>\n",
       "      <td>False</td>\n",
       "      <td>...</td>\n",
       "      <td>False</td>\n",
       "      <td>True</td>\n",
       "      <td>False</td>\n",
       "      <td>True</td>\n",
       "      <td>False</td>\n",
       "      <td>False</td>\n",
       "      <td>False</td>\n",
       "      <td>False</td>\n",
       "      <td>False</td>\n",
       "      <td>False</td>\n",
       "    </tr>\n",
       "    <tr>\n",
       "      <th>1</th>\n",
       "      <td>20</td>\n",
       "      <td>96</td>\n",
       "      <td>0</td>\n",
       "      <td>0</td>\n",
       "      <td>0</td>\n",
       "      <td>True</td>\n",
       "      <td>False</td>\n",
       "      <td>False</td>\n",
       "      <td>False</td>\n",
       "      <td>False</td>\n",
       "      <td>...</td>\n",
       "      <td>False</td>\n",
       "      <td>True</td>\n",
       "      <td>False</td>\n",
       "      <td>True</td>\n",
       "      <td>False</td>\n",
       "      <td>False</td>\n",
       "      <td>False</td>\n",
       "      <td>False</td>\n",
       "      <td>False</td>\n",
       "      <td>False</td>\n",
       "    </tr>\n",
       "    <tr>\n",
       "      <th>2</th>\n",
       "      <td>43</td>\n",
       "      <td>96</td>\n",
       "      <td>0</td>\n",
       "      <td>0</td>\n",
       "      <td>0</td>\n",
       "      <td>True</td>\n",
       "      <td>False</td>\n",
       "      <td>False</td>\n",
       "      <td>False</td>\n",
       "      <td>False</td>\n",
       "      <td>...</td>\n",
       "      <td>False</td>\n",
       "      <td>False</td>\n",
       "      <td>False</td>\n",
       "      <td>True</td>\n",
       "      <td>False</td>\n",
       "      <td>False</td>\n",
       "      <td>False</td>\n",
       "      <td>False</td>\n",
       "      <td>False</td>\n",
       "      <td>False</td>\n",
       "    </tr>\n",
       "    <tr>\n",
       "      <th>3</th>\n",
       "      <td>38</td>\n",
       "      <td>96</td>\n",
       "      <td>0</td>\n",
       "      <td>0</td>\n",
       "      <td>0</td>\n",
       "      <td>True</td>\n",
       "      <td>False</td>\n",
       "      <td>False</td>\n",
       "      <td>False</td>\n",
       "      <td>False</td>\n",
       "      <td>...</td>\n",
       "      <td>False</td>\n",
       "      <td>False</td>\n",
       "      <td>False</td>\n",
       "      <td>False</td>\n",
       "      <td>True</td>\n",
       "      <td>False</td>\n",
       "      <td>False</td>\n",
       "      <td>False</td>\n",
       "      <td>False</td>\n",
       "      <td>False</td>\n",
       "    </tr>\n",
       "    <tr>\n",
       "      <th>4</th>\n",
       "      <td>50</td>\n",
       "      <td>97</td>\n",
       "      <td>999</td>\n",
       "      <td>0</td>\n",
       "      <td>0</td>\n",
       "      <td>True</td>\n",
       "      <td>False</td>\n",
       "      <td>False</td>\n",
       "      <td>False</td>\n",
       "      <td>False</td>\n",
       "      <td>...</td>\n",
       "      <td>False</td>\n",
       "      <td>False</td>\n",
       "      <td>False</td>\n",
       "      <td>True</td>\n",
       "      <td>False</td>\n",
       "      <td>False</td>\n",
       "      <td>False</td>\n",
       "      <td>False</td>\n",
       "      <td>False</td>\n",
       "      <td>False</td>\n",
       "    </tr>\n",
       "  </tbody>\n",
       "</table>\n",
       "<p>5 rows × 370 columns</p>\n",
       "</div>"
      ],
      "text/plain": [
       "   AGE  ALCOHOL_TEST_RESULT  DRUG_TEST_RESULTS_(1_of_3)  \\\n",
       "0   34                   97                         999   \n",
       "1   20                   96                           0   \n",
       "2   43                   96                           0   \n",
       "3   38                   96                           0   \n",
       "4   50                   97                         999   \n",
       "\n",
       "   DRUG_TEST_RESULTS_(2_of_3)  DRUG_TEST_RESULTS_(3_of_3)  CASE_STATE_Alabama  \\\n",
       "0                           0                           0                True   \n",
       "1                           0                           0                True   \n",
       "2                           0                           0                True   \n",
       "3                           0                           0                True   \n",
       "4                           0                           0                True   \n",
       "\n",
       "   CASE_STATE_Alaska  CASE_STATE_Arizona  CASE_STATE_Arkansas  \\\n",
       "0              False               False                False   \n",
       "1              False               False                False   \n",
       "2              False               False                False   \n",
       "3              False               False                False   \n",
       "4              False               False                False   \n",
       "\n",
       "   CASE_STATE_California  ...  RACE_Vietnamese  RACE_White  \\\n",
       "0                  False  ...            False        True   \n",
       "1                  False  ...            False        True   \n",
       "2                  False  ...            False       False   \n",
       "3                  False  ...            False       False   \n",
       "4                  False  ...            False       False   \n",
       "\n",
       "   INJURY_SEVERITY_Died_Prior_to_Accident  INJURY_SEVERITY_Fatal_Injury  \\\n",
       "0                                   False                          True   \n",
       "1                                   False                          True   \n",
       "2                                   False                          True   \n",
       "3                                   False                         False   \n",
       "4                                   False                          True   \n",
       "\n",
       "   INJURY_SEVERITY_Incapaciting_Injury  \\\n",
       "0                                False   \n",
       "1                                False   \n",
       "2                                False   \n",
       "3                                 True   \n",
       "4                                False   \n",
       "\n",
       "   INJURY_SEVERITY_Injured_Severity_Unknown  INJURY_SEVERITY_No_Injury  \\\n",
       "0                                     False                      False   \n",
       "1                                     False                      False   \n",
       "2                                     False                      False   \n",
       "3                                     False                      False   \n",
       "4                                     False                      False   \n",
       "\n",
       "   INJURY_SEVERITY_Nonincapaciting_Evident_Injury  \\\n",
       "0                                           False   \n",
       "1                                           False   \n",
       "2                                           False   \n",
       "3                                           False   \n",
       "4                                           False   \n",
       "\n",
       "   INJURY_SEVERITY_Possible_Injury  INJURY_SEVERITY_Unknown  \n",
       "0                            False                    False  \n",
       "1                            False                    False  \n",
       "2                            False                    False  \n",
       "3                            False                    False  \n",
       "4                            False                    False  \n",
       "\n",
       "[5 rows x 370 columns]"
      ]
     },
     "execution_count": 5,
     "metadata": {},
     "output_type": "execute_result"
    }
   ],
   "source": [
    "# Identifying categorical columns\n",
    "categorical_cols = df.select_dtypes(include=['object']).columns\n",
    "\n",
    "# Applying one-hot encoding\n",
    "df_encoded = pd.get_dummies(df, columns=categorical_cols)\n",
    "\n",
    "# Display the transformed DataFrame\n",
    "df_encoded.head()"
   ]
  },
  {
   "cell_type": "markdown",
   "metadata": {},
   "source": [
    "#### **Feature Selection**"
   ]
  },
  {
   "cell_type": "markdown",
   "metadata": {},
   "source": [
    "In this stage of the project, my goal was to refine the feature set to include only those variables that contribute significantly to predicting the target variable, 'INJURY_SEVERITY_Fatal_Injury'. I employed a RandomForestClassifier coupled with the SelectFromModel method for this purpose. \n",
    "\n",
    "The selected features include variables such as 'ALCOHOL_TEST_RESULT', various 'DRUG_TEST_RESULTS', specific 'PERSON_TYPE' categories, 'RESTRAINT_SYSTEM-USE', and 'EJECTION' details, among others. This selection suggests that factors related to alcohol and drug tests, restraint system usage, and the physical state of individuals during the incident (e.g., ejection from the vehicle) are influential in predicting the severity of injuries in traffic incidents."
   ]
  },
  {
   "cell_type": "code",
   "execution_count": 6,
   "metadata": {},
   "outputs": [
    {
     "name": "stdout",
     "output_type": "stream",
     "text": [
      "(100968, 29)\n",
      "Index(['ALCOHOL_TEST_RESULT', 'DRUG_TEST_RESULTS_(1_of_3)',\n",
      "       'PERSON_TYPE_Pedestrian', 'RESTRAINT_SYSTEM-USE_Lap_and_Shoulder_Belt',\n",
      "       'RESTRAINT_SYSTEM-USE_None_Used/Not_Applicable',\n",
      "       'AIR_BAG_AVAILABILITY/DEPLOYMENT_Non-Motorist', 'EJECTION_Not_Ejected',\n",
      "       'EJECTION_Totally_Ejected', 'EJECTION_PATH_Not_Ejected/Not_Applicable',\n",
      "       'EJECTION_PATH_Unknown', 'EXTRICATION_Extricated',\n",
      "       'NON_MOTORIST_LOCATION_Not_Applicable_-_Vehicle_Occupant',\n",
      "       'ALCOHOL_TEST_TYPE_Not_Tested_for_Alcohol',\n",
      "       'ALCOHOL_TEST_TYPE_Whole_Blood', 'DRUG_TEST_TYPE_(1_of_3)_Blood_Test',\n",
      "       'DRUG_TEST_TYPE_(1_of_3)_Not_Tested_for_Drugs',\n",
      "       'HISPANIC_ORIGIN_Non-Hispanic',\n",
      "       'HISPANIC_ORIGIN_Not_a_Fatality_(Not_Applicable)',\n",
      "       'HISPANIC_ORIGIN_Unknown', 'TAKEN_TO_HOSPITAL_No',\n",
      "       'TAKEN_TO_HOSPITAL_Yes', 'RACE_Black',\n",
      "       'RACE_Not_a_Fatality_(Not_Applicable)', 'RACE_Unknown', 'RACE_White',\n",
      "       'INJURY_SEVERITY_Incapaciting_Injury', 'INJURY_SEVERITY_No_Injury',\n",
      "       'INJURY_SEVERITY_Nonincapaciting_Evident_Injury',\n",
      "       'INJURY_SEVERITY_Possible_Injury'],\n",
      "      dtype='object')\n"
     ]
    },
    {
     "name": "stderr",
     "output_type": "stream",
     "text": [
      "/usr/local/lib/python3.10/dist-packages/sklearn/base.py:458: UserWarning: X has feature names, but SelectFromModel was fitted without feature names\n",
      "  warnings.warn(\n"
     ]
    }
   ],
   "source": [
    "from sklearn.ensemble import RandomForestClassifier\n",
    "from sklearn.feature_selection import SelectFromModel\n",
    "\n",
    "y = df_encoded['INJURY_SEVERITY_Fatal_Injury']\n",
    "X = df_encoded.drop(['INJURY_SEVERITY_Fatal_Injury'], axis=1)  # Drop the target column from features\n",
    "\n",
    "# Feature selection using Random Forest\n",
    "rf = RandomForestClassifier(n_estimators=100, random_state=42)\n",
    "rf.fit(X, y)\n",
    "\n",
    "# Using SelectFromModel\n",
    "selector = SelectFromModel(rf, prefit=True)\n",
    "X_selected = selector.transform(X)\n",
    "\n",
    "# To keep track of feature names after feature selection\n",
    "selected_features = X.columns[(selector.get_support())]\n",
    "X_selected_df = pd.DataFrame(X_selected, columns=selected_features)\n",
    "\n",
    "# Checking the shape of the new feature set and displaying selected feature names\n",
    "print(X_selected_df.shape)\n",
    "print(selected_features)"
   ]
  },
  {
   "cell_type": "markdown",
   "metadata": {},
   "source": [
    "I analyzed the distribution of classes in our target variable, 'INJURY_SEVERITY_Fatal_Injury', to understand the balance or imbalance between the classes. This is a critical aspect of any classification problem, as the distribution of classes can significantly influence the performance of machine learning models."
   ]
  },
  {
   "cell_type": "markdown",
   "metadata": {},
   "source": [
    "#### **Class Distribution in Target Variable**"
   ]
  },
  {
   "cell_type": "markdown",
   "metadata": {},
   "source": [
    "The value_counts() method was used to compute the frequency of each class in the target variable. The output indicates the following distribution:\n",
    "\n",
    "- False (Non-Fatal Injury): 58,852 instances\n",
    "- True (Fatal Injury): 42,116 instances\n",
    "\n",
    "This shows a somewhat imbalanced distribution of the target classes, with a larger number of instances where injuries were not fatal ('False') compared to fatal injuries ('True')."
   ]
  },
  {
   "cell_type": "code",
   "execution_count": 7,
   "metadata": {},
   "outputs": [
    {
     "name": "stdout",
     "output_type": "stream",
     "text": [
      "INJURY_SEVERITY_Fatal_Injury\n",
      "False    58852\n",
      "True     42116\n",
      "Name: count, dtype: int64\n"
     ]
    }
   ],
   "source": [
    "class_distribution = y.value_counts()\n",
    "print(class_distribution)"
   ]
  },
  {
   "cell_type": "markdown",
   "metadata": {},
   "source": [
    "#### **Splitting Dataset**"
   ]
  },
  {
   "cell_type": "markdown",
   "metadata": {},
   "source": [
    "As a fundamental part of any machine learning project, I divided our dataset into training and testing sets. I used the train_test_split function from sklearn.model_selection, allocating 80% of the data for training and 20% for testing."
   ]
  },
  {
   "cell_type": "code",
   "execution_count": 8,
   "metadata": {},
   "outputs": [],
   "source": [
    "from sklearn.model_selection import train_test_split\n",
    "\n",
    "# Splitting the dataset into training and testing sets\n",
    "X_train, X_test, y_train, y_test = train_test_split(X_selected_df, y, test_size=0.2, random_state=42)"
   ]
  },
  {
   "cell_type": "markdown",
   "metadata": {},
   "source": [
    "#### **Data Standartization (Feature Scaling)**"
   ]
  },
  {
   "cell_type": "markdown",
   "metadata": {},
   "source": [
    "After splitting the data, I applied feature scaling to standardize the features in our dataset. I used StandardScaler from sklearn.preprocessing to standardize features by removing the mean and scaling to unit variance. The scaler was fitted to the training data (X_train) and then used to transform both the training and testing sets."
   ]
  },
  {
   "cell_type": "code",
   "execution_count": 9,
   "metadata": {},
   "outputs": [],
   "source": [
    "from sklearn.preprocessing import StandardScaler\n",
    "\n",
    "# Standardizing the features\n",
    "scaler = StandardScaler()\n",
    "X_train_scaled = scaler.fit_transform(X_train)\n",
    "X_test_scaled = scaler.transform(X_test)"
   ]
  },
  {
   "cell_type": "markdown",
   "metadata": {},
   "source": [
    "#### **Model Training and Evaluation**"
   ]
  },
  {
   "cell_type": "markdown",
   "metadata": {},
   "source": [
    "I trained three different machine learning models: Random Forest Classifier, Logistic Regression, and Support Vector Machine (SVM). \n",
    "\n",
    "- Random Forest Classifier exhibited exceptional performance with a precision, recall, and F1-score of 1.00 for both classes. This indicates perfect classification of both 'Fatal' and 'Non-Fatal' injury cases.\n",
    "\n",
    "- Logistic Regression mirrored the Random Forest with precision, recall, and F1-score of 1.00 across both classes.\n",
    "\n",
    "The perfect scores achieved by the Random Forest and Logistic Regression models are suspicious, as they are quite uncommon in real-world scenarios. This could point towards issues like data leakage, overfitting, or an overly simplistic representation of the problem.\n",
    "\n",
    "- Support Vector Machine (SVM) demonstrated more varied results with precision scores of 0.73 and 0.74, and recall scores of 0.86 and 0.57 for the two classes, respectively. \n",
    "\n",
    "The SVM's performance, while not perfect, seems more realistic. The discrepancy in performance could be due to the model's sensitivity to feature scaling or the choice of kernel."
   ]
  },
  {
   "cell_type": "code",
   "execution_count": 10,
   "metadata": {},
   "outputs": [
    {
     "name": "stdout",
     "output_type": "stream",
     "text": [
      "Random Forest Classifier Evaluation\n",
      "              precision    recall  f1-score   support\n",
      "\n",
      "       False       1.00      1.00      1.00     11721\n",
      "        True       1.00      1.00      1.00      8473\n",
      "\n",
      "    accuracy                           1.00     20194\n",
      "   macro avg       1.00      1.00      1.00     20194\n",
      "weighted avg       1.00      1.00      1.00     20194\n",
      "\n",
      "Logistic Regression Evaluation\n",
      "              precision    recall  f1-score   support\n",
      "\n",
      "       False       1.00      1.00      1.00     11721\n",
      "        True       1.00      1.00      1.00      8473\n",
      "\n",
      "    accuracy                           1.00     20194\n",
      "   macro avg       1.00      1.00      1.00     20194\n",
      "weighted avg       1.00      1.00      1.00     20194\n",
      "\n",
      "SVM Evaluation\n",
      "              precision    recall  f1-score   support\n",
      "\n",
      "       False       0.73      0.86      0.79     11721\n",
      "        True       0.74      0.57      0.64      8473\n",
      "\n",
      "    accuracy                           0.74     20194\n",
      "   macro avg       0.74      0.71      0.72     20194\n",
      "weighted avg       0.74      0.74      0.73     20194\n",
      "\n"
     ]
    }
   ],
   "source": [
    "from sklearn.ensemble import RandomForestClassifier\n",
    "from sklearn.linear_model import LogisticRegression\n",
    "from sklearn.svm import SVC\n",
    "from sklearn.metrics import classification_report, accuracy_score\n",
    "\n",
    "# Initializing models\n",
    "rf_model = RandomForestClassifier(random_state=42)\n",
    "log_reg_model = LogisticRegression(max_iter=1000)  # Increased max_iter for convergence\n",
    "svm_model = SVC()\n",
    "\n",
    "# Training Random Forest\n",
    "rf_model.fit(X_train, y_train)\n",
    "rf_predictions = rf_model.predict(X_test)\n",
    "print(\"Random Forest Classifier Evaluation\")\n",
    "print(classification_report(y_test, rf_predictions))\n",
    "\n",
    "# Training Logistic Regression\n",
    "log_reg_model.fit(X_train, y_train)\n",
    "log_reg_predictions = log_reg_model.predict(X_test)\n",
    "print(\"Logistic Regression Evaluation\")\n",
    "print(classification_report(y_test, log_reg_predictions))\n",
    "\n",
    "# Training SVM\n",
    "svm_model.fit(X_train, y_train)\n",
    "svm_predictions = svm_model.predict(X_test)\n",
    "print(\"SVM Evaluation\")\n",
    "print(classification_report(y_test, svm_predictions))"
   ]
  },
  {
   "cell_type": "markdown",
   "metadata": {},
   "source": [
    "### **Data Preprocessing** (Reprocess for Logistic Regression and Random Forest)"
   ]
  },
  {
   "cell_type": "markdown",
   "metadata": {},
   "source": [
    "#### **Encoding Categorical Variables**"
   ]
  },
  {
   "cell_type": "markdown",
   "metadata": {},
   "source": [
    "Given the unexpected perfect accuracy scores (1.00) for both the Random Forest and Logistic Regression models in our previous evaluations, I decided to reprocess our data. I applied one-hot encoding to our categorical variables. However, I am now switching to Label Encoding for the simplicity as it assigns a unique integer to each category within a feature. Unlike one-hot encoding, it doesn't expand the feature space.\n",
    "\n",
    "Some models handle label-encoded data more effectively than one-hot encoded data. For example, tree-based models can work well with label-encoded data. I applied Label Encoding to all categorical columns, except for the target variable 'INJURY_SEVERITY'. For each categorical column, I created a LabelEncoder object, fitted it on the column data, and transformed the column into label-encoded format."
   ]
  },
  {
   "cell_type": "code",
   "execution_count": 11,
   "metadata": {},
   "outputs": [],
   "source": [
    "from sklearn.preprocessing import LabelEncoder\n",
    "\n",
    "# Identify categorical columns (excluding the target variable 'INJURY_SEVERITY')\n",
    "categorical_columns = df.select_dtypes(include=['object']).columns.tolist()\n",
    "categorical_columns.remove('INJURY_SEVERITY')\n",
    "\n",
    "# Apply Label Encoding\n",
    "label_encoders = {}\n",
    "for column in categorical_columns:\n",
    "    label_encoders[column] = LabelEncoder()\n",
    "    df[column] = label_encoders[column].fit_transform(df[column])"
   ]
  },
  {
   "cell_type": "markdown",
   "metadata": {},
   "source": [
    "### **Feature Selection**"
   ]
  },
  {
   "cell_type": "markdown",
   "metadata": {},
   "source": [
    "In response to the previously observed perfect accuracy scores in our models, I adopted a different feature selection approach using SelectKBest with the ANOVA F-value method (f_classif). The goal was to identify the top 'k' features that have the most significant relationship with the target variable 'INJURY_SEVERITY'.\n",
    "\n",
    "I set k=29 to select the top 29 features based on their ANOVA F-value with respect to the target variable. The selected features include a mix of demographic information (like 'AGE', 'SEX'), incident specifics ('CASE_STATE', 'SEATING_POSITION'), and test results ('ALCOHOL_TEST_RESULT', various 'DRUG_TEST_RESULTS').\n",
    "\n",
    "This change is in response to the anomalously perfect model accuracy scores observed earlier, and aims to provide a more realistic and potentially more generalizable feature set."
   ]
  },
  {
   "cell_type": "code",
   "execution_count": 12,
   "metadata": {},
   "outputs": [
    {
     "name": "stdout",
     "output_type": "stream",
     "text": [
      "Index(['CASE_STATE', 'AGE', 'SEX', 'PERSON_TYPE', 'SEATING_POSITION',\n",
      "       'RESTRAINT_SYSTEM-USE', 'AIR_BAG_AVAILABILITY/DEPLOYMENT', 'EJECTION',\n",
      "       'EJECTION_PATH', 'EXTRICATION', 'NON_MOTORIST_LOCATION',\n",
      "       'POLICE_REPORTED_ALCOHOL_INVOLVEMENT', 'METHOD_ALCOHOL_DETERMINATION',\n",
      "       'ALCOHOL_TEST_TYPE', 'ALCOHOL_TEST_RESULT',\n",
      "       'POLICE-REPORTED_DRUG_INVOLVEMENT', 'METHOD_OF_DRUG_DETERMINATION',\n",
      "       'DRUG_TEST_TYPE_(1_of_3)', 'DRUG_TEST_RESULTS_(1_of_3)',\n",
      "       'DRUG_TEST_TYPE_(2_of_3)', 'DRUG_TEST_RESULTS_(2_of_3)',\n",
      "       'DRUG_TEST_TYPE_(3_of_3)', 'DRUG_TEST_RESULTS_(3_of_3)',\n",
      "       'HISPANIC_ORIGIN', 'TAKEN_TO_HOSPITAL',\n",
      "       'RELATED_FACTOR_(1)-PERSON_LEVEL', 'RELATED_FACTOR_(2)-PERSON_LEVEL',\n",
      "       'RELATED_FACTOR_(3)-PERSON_LEVEL', 'RACE'],\n",
      "      dtype='object')\n"
     ]
    }
   ],
   "source": [
    "from sklearn.feature_selection import SelectKBest, f_classif\n",
    "\n",
    "# Selecting top k features.\n",
    "selector = SelectKBest(f_classif, k=29)\n",
    "X = df.drop('INJURY_SEVERITY', axis=1)\n",
    "y = df['INJURY_SEVERITY']\n",
    "X_new = selector.fit_transform(X, y)\n",
    "\n",
    "# selected feature names\n",
    "selected_features = X.columns[selector.get_support()]\n",
    "print(selected_features)"
   ]
  },
  {
   "cell_type": "markdown",
   "metadata": {},
   "source": [
    "### **Handling Class Imbalance**"
   ]
  },
  {
   "cell_type": "markdown",
   "metadata": {},
   "source": [
    "Before addressing class imbalance, I examined the distribution of the target variable 'INJURY_SEVERITY'. The output reveals a significant imbalance among the different injury severity classes:\n",
    "\n",
    "- Fatal_Injury: 42,116 instances\n",
    "- No_Injury: 20,007 instances\n",
    "- Incapacitating_Injury: 15,072 instances\n",
    "- Nonincapacitating_Evident_Injury: 13,890 instances\n",
    "- Possible_Injury: 8,674 instances\n",
    "- Unknown: 901 instances\n",
    "- Injured_Severity_Unknown: 299 instances\n",
    "- Died_Prior_to_Accident: 9 instances\n",
    "\n",
    "This distribution clearly indicates that some classes, particularly 'Fatal_Injury', are significantly more represented than others, like 'Died_Prior_to_Accident' and 'Injured_Severity_Unknown'."
   ]
  },
  {
   "cell_type": "code",
   "execution_count": 13,
   "metadata": {},
   "outputs": [
    {
     "name": "stdout",
     "output_type": "stream",
     "text": [
      "Defaulting to user installation because normal site-packages is not writeable\n",
      "Requirement already satisfied: imblearn in /home/elsun/.local/lib/python3.10/site-packages (0.0)\n",
      "Requirement already satisfied: imbalanced-learn in /home/elsun/.local/lib/python3.10/site-packages (from imblearn) (0.11.0)\n",
      "Requirement already satisfied: joblib>=1.1.1 in /usr/local/lib/python3.10/dist-packages (from imbalanced-learn->imblearn) (1.3.2)\n",
      "Requirement already satisfied: threadpoolctl>=2.0.0 in /usr/local/lib/python3.10/dist-packages (from imbalanced-learn->imblearn) (3.2.0)\n",
      "Requirement already satisfied: scikit-learn>=1.0.2 in /usr/local/lib/python3.10/dist-packages (from imbalanced-learn->imblearn) (1.3.2)\n",
      "Requirement already satisfied: scipy>=1.5.0 in /usr/local/lib/python3.10/dist-packages (from imbalanced-learn->imblearn) (1.11.4)\n",
      "Requirement already satisfied: numpy>=1.17.3 in /home/elsun/.local/lib/python3.10/site-packages (from imbalanced-learn->imblearn) (1.23.1)\n"
     ]
    },
    {
     "name": "stdout",
     "output_type": "stream",
     "text": [
      "Note: you may need to restart the kernel to use updated packages.\n"
     ]
    }
   ],
   "source": [
    "pip install imblearn"
   ]
  },
  {
   "cell_type": "markdown",
   "metadata": {},
   "source": [
    "I applied SMOTE to our features (X_new) and target variable (y), resulting in a new resampled dataset X_resampled and y_resampled. With the newly balanced dataset, I will retrain our models (Random Forest, Logistic Regression, and SVM) and assess if the balancing leads to improved performance across all classes."
   ]
  },
  {
   "cell_type": "code",
   "execution_count": 14,
   "metadata": {},
   "outputs": [
    {
     "name": "stdout",
     "output_type": "stream",
     "text": [
      "INJURY_SEVERITY\n",
      "Fatal_Injury                      42116\n",
      "No_Injury                         20007\n",
      "Incapaciting_Injury               15072\n",
      "Nonincapaciting_Evident_Injury    13890\n",
      "Possible_Injury                    8674\n",
      "Unknown                             901\n",
      "Injured_Severity_Unknown            299\n",
      "Died_Prior_to_Accident                9\n",
      "Name: count, dtype: int64\n"
     ]
    }
   ],
   "source": [
    "# Check class distribution\n",
    "print(y.value_counts())\n",
    "\n",
    "# If imbalance exists, use SMOTE or similar techniques\n",
    "from imblearn.over_sampling import SMOTE\n",
    "\n",
    "smote = SMOTE()\n",
    "X_resampled, y_resampled = smote.fit_resample(X_new, y)"
   ]
  },
  {
   "cell_type": "markdown",
   "metadata": {},
   "source": [
    "##### **Hyperparameter Tuning Using GridSearchCV**"
   ]
  },
  {
   "cell_type": "markdown",
   "metadata": {},
   "source": [
    "In response to the issues observed in the previous models, I conducted hyperparameter tuning using GridSearchCV for both the Random Forest and Logistic Regression models. \n",
    "\n",
    "'n_estimators' (number of trees in the forest) with values [100, 200] and 'max_depth' (maximum depth of the tree) with values [10, 20]. The chosen parameters for the Random Forest model will help in finding an optimal balance between model complexity (to avoid underfitting) and computational efficiency.\n",
    "\n",
    "'C' (inverse of regularization strength) with values [0.01, 0.1, 1, 10]. During the process, I encountered a convergence warning suggesting that the model did not converge within the default maximum number of iterations. "
   ]
  },
  {
   "cell_type": "code",
   "execution_count": 15,
   "metadata": {},
   "outputs": [
    {
     "name": "stderr",
     "output_type": "stream",
     "text": [
      "/usr/local/lib/python3.10/dist-packages/sklearn/linear_model/_logistic.py:460: ConvergenceWarning: lbfgs failed to converge (status=1):\n",
      "STOP: TOTAL NO. of ITERATIONS REACHED LIMIT.\n",
      "\n",
      "Increase the number of iterations (max_iter) or scale the data as shown in:\n",
      "    https://scikit-learn.org/stable/modules/preprocessing.html\n",
      "Please also refer to the documentation for alternative solver options:\n",
      "    https://scikit-learn.org/stable/modules/linear_model.html#logistic-regression\n",
      "  n_iter_i = _check_optimize_result(\n",
      "/usr/local/lib/python3.10/dist-packages/sklearn/linear_model/_logistic.py:460: ConvergenceWarning: lbfgs failed to converge (status=1):\n",
      "STOP: TOTAL NO. of ITERATIONS REACHED LIMIT.\n",
      "\n",
      "Increase the number of iterations (max_iter) or scale the data as shown in:\n",
      "    https://scikit-learn.org/stable/modules/preprocessing.html\n",
      "Please also refer to the documentation for alternative solver options:\n",
      "    https://scikit-learn.org/stable/modules/linear_model.html#logistic-regression\n",
      "  n_iter_i = _check_optimize_result(\n",
      "/usr/local/lib/python3.10/dist-packages/sklearn/linear_model/_logistic.py:460: ConvergenceWarning: lbfgs failed to converge (status=1):\n",
      "STOP: TOTAL NO. of ITERATIONS REACHED LIMIT.\n",
      "\n",
      "Increase the number of iterations (max_iter) or scale the data as shown in:\n",
      "    https://scikit-learn.org/stable/modules/preprocessing.html\n",
      "Please also refer to the documentation for alternative solver options:\n",
      "    https://scikit-learn.org/stable/modules/linear_model.html#logistic-regression\n",
      "  n_iter_i = _check_optimize_result(\n",
      "/usr/local/lib/python3.10/dist-packages/sklearn/linear_model/_logistic.py:460: ConvergenceWarning: lbfgs failed to converge (status=1):\n",
      "STOP: TOTAL NO. of ITERATIONS REACHED LIMIT.\n",
      "\n",
      "Increase the number of iterations (max_iter) or scale the data as shown in:\n",
      "    https://scikit-learn.org/stable/modules/preprocessing.html\n",
      "Please also refer to the documentation for alternative solver options:\n",
      "    https://scikit-learn.org/stable/modules/linear_model.html#logistic-regression\n",
      "  n_iter_i = _check_optimize_result(\n",
      "/usr/local/lib/python3.10/dist-packages/sklearn/linear_model/_logistic.py:460: ConvergenceWarning: lbfgs failed to converge (status=1):\n",
      "STOP: TOTAL NO. of ITERATIONS REACHED LIMIT.\n",
      "\n",
      "Increase the number of iterations (max_iter) or scale the data as shown in:\n",
      "    https://scikit-learn.org/stable/modules/preprocessing.html\n",
      "Please also refer to the documentation for alternative solver options:\n",
      "    https://scikit-learn.org/stable/modules/linear_model.html#logistic-regression\n",
      "  n_iter_i = _check_optimize_result(\n",
      "/usr/local/lib/python3.10/dist-packages/sklearn/linear_model/_logistic.py:460: ConvergenceWarning: lbfgs failed to converge (status=1):\n",
      "STOP: TOTAL NO. of ITERATIONS REACHED LIMIT.\n",
      "\n",
      "Increase the number of iterations (max_iter) or scale the data as shown in:\n",
      "    https://scikit-learn.org/stable/modules/preprocessing.html\n",
      "Please also refer to the documentation for alternative solver options:\n",
      "    https://scikit-learn.org/stable/modules/linear_model.html#logistic-regression\n",
      "  n_iter_i = _check_optimize_result(\n",
      "/usr/local/lib/python3.10/dist-packages/sklearn/linear_model/_logistic.py:460: ConvergenceWarning: lbfgs failed to converge (status=1):\n",
      "STOP: TOTAL NO. of ITERATIONS REACHED LIMIT.\n",
      "\n",
      "Increase the number of iterations (max_iter) or scale the data as shown in:\n",
      "    https://scikit-learn.org/stable/modules/preprocessing.html\n",
      "Please also refer to the documentation for alternative solver options:\n",
      "    https://scikit-learn.org/stable/modules/linear_model.html#logistic-regression\n",
      "  n_iter_i = _check_optimize_result(\n",
      "/usr/local/lib/python3.10/dist-packages/sklearn/linear_model/_logistic.py:460: ConvergenceWarning: lbfgs failed to converge (status=1):\n",
      "STOP: TOTAL NO. of ITERATIONS REACHED LIMIT.\n",
      "\n",
      "Increase the number of iterations (max_iter) or scale the data as shown in:\n",
      "    https://scikit-learn.org/stable/modules/preprocessing.html\n",
      "Please also refer to the documentation for alternative solver options:\n",
      "    https://scikit-learn.org/stable/modules/linear_model.html#logistic-regression\n",
      "  n_iter_i = _check_optimize_result(\n",
      "/usr/local/lib/python3.10/dist-packages/sklearn/linear_model/_logistic.py:460: ConvergenceWarning: lbfgs failed to converge (status=1):\n",
      "STOP: TOTAL NO. of ITERATIONS REACHED LIMIT.\n",
      "\n",
      "Increase the number of iterations (max_iter) or scale the data as shown in:\n",
      "    https://scikit-learn.org/stable/modules/preprocessing.html\n",
      "Please also refer to the documentation for alternative solver options:\n",
      "    https://scikit-learn.org/stable/modules/linear_model.html#logistic-regression\n",
      "  n_iter_i = _check_optimize_result(\n",
      "/usr/local/lib/python3.10/dist-packages/sklearn/linear_model/_logistic.py:460: ConvergenceWarning: lbfgs failed to converge (status=1):\n",
      "STOP: TOTAL NO. of ITERATIONS REACHED LIMIT.\n",
      "\n",
      "Increase the number of iterations (max_iter) or scale the data as shown in:\n",
      "    https://scikit-learn.org/stable/modules/preprocessing.html\n",
      "Please also refer to the documentation for alternative solver options:\n",
      "    https://scikit-learn.org/stable/modules/linear_model.html#logistic-regression\n",
      "  n_iter_i = _check_optimize_result(\n",
      "/usr/local/lib/python3.10/dist-packages/sklearn/linear_model/_logistic.py:460: ConvergenceWarning: lbfgs failed to converge (status=1):\n",
      "STOP: TOTAL NO. of ITERATIONS REACHED LIMIT.\n",
      "\n",
      "Increase the number of iterations (max_iter) or scale the data as shown in:\n",
      "    https://scikit-learn.org/stable/modules/preprocessing.html\n",
      "Please also refer to the documentation for alternative solver options:\n",
      "    https://scikit-learn.org/stable/modules/linear_model.html#logistic-regression\n",
      "  n_iter_i = _check_optimize_result(\n",
      "/usr/local/lib/python3.10/dist-packages/sklearn/linear_model/_logistic.py:460: ConvergenceWarning: lbfgs failed to converge (status=1):\n",
      "STOP: TOTAL NO. of ITERATIONS REACHED LIMIT.\n",
      "\n",
      "Increase the number of iterations (max_iter) or scale the data as shown in:\n",
      "    https://scikit-learn.org/stable/modules/preprocessing.html\n",
      "Please also refer to the documentation for alternative solver options:\n",
      "    https://scikit-learn.org/stable/modules/linear_model.html#logistic-regression\n",
      "  n_iter_i = _check_optimize_result(\n",
      "/usr/local/lib/python3.10/dist-packages/sklearn/linear_model/_logistic.py:460: ConvergenceWarning: lbfgs failed to converge (status=1):\n",
      "STOP: TOTAL NO. of ITERATIONS REACHED LIMIT.\n",
      "\n",
      "Increase the number of iterations (max_iter) or scale the data as shown in:\n",
      "    https://scikit-learn.org/stable/modules/preprocessing.html\n",
      "Please also refer to the documentation for alternative solver options:\n",
      "    https://scikit-learn.org/stable/modules/linear_model.html#logistic-regression\n",
      "  n_iter_i = _check_optimize_result(\n",
      "/usr/local/lib/python3.10/dist-packages/sklearn/linear_model/_logistic.py:460: ConvergenceWarning: lbfgs failed to converge (status=1):\n",
      "STOP: TOTAL NO. of ITERATIONS REACHED LIMIT.\n",
      "\n",
      "Increase the number of iterations (max_iter) or scale the data as shown in:\n",
      "    https://scikit-learn.org/stable/modules/preprocessing.html\n",
      "Please also refer to the documentation for alternative solver options:\n",
      "    https://scikit-learn.org/stable/modules/linear_model.html#logistic-regression\n",
      "  n_iter_i = _check_optimize_result(\n",
      "/usr/local/lib/python3.10/dist-packages/sklearn/linear_model/_logistic.py:460: ConvergenceWarning: lbfgs failed to converge (status=1):\n",
      "STOP: TOTAL NO. of ITERATIONS REACHED LIMIT.\n",
      "\n",
      "Increase the number of iterations (max_iter) or scale the data as shown in:\n",
      "    https://scikit-learn.org/stable/modules/preprocessing.html\n",
      "Please also refer to the documentation for alternative solver options:\n",
      "    https://scikit-learn.org/stable/modules/linear_model.html#logistic-regression\n",
      "  n_iter_i = _check_optimize_result(\n",
      "/usr/local/lib/python3.10/dist-packages/sklearn/linear_model/_logistic.py:460: ConvergenceWarning: lbfgs failed to converge (status=1):\n",
      "STOP: TOTAL NO. of ITERATIONS REACHED LIMIT.\n",
      "\n",
      "Increase the number of iterations (max_iter) or scale the data as shown in:\n",
      "    https://scikit-learn.org/stable/modules/preprocessing.html\n",
      "Please also refer to the documentation for alternative solver options:\n",
      "    https://scikit-learn.org/stable/modules/linear_model.html#logistic-regression\n",
      "  n_iter_i = _check_optimize_result(\n",
      "/usr/local/lib/python3.10/dist-packages/sklearn/linear_model/_logistic.py:460: ConvergenceWarning: lbfgs failed to converge (status=1):\n",
      "STOP: TOTAL NO. of ITERATIONS REACHED LIMIT.\n",
      "\n",
      "Increase the number of iterations (max_iter) or scale the data as shown in:\n",
      "    https://scikit-learn.org/stable/modules/preprocessing.html\n",
      "Please also refer to the documentation for alternative solver options:\n",
      "    https://scikit-learn.org/stable/modules/linear_model.html#logistic-regression\n",
      "  n_iter_i = _check_optimize_result(\n",
      "/usr/local/lib/python3.10/dist-packages/sklearn/linear_model/_logistic.py:460: ConvergenceWarning: lbfgs failed to converge (status=1):\n",
      "STOP: TOTAL NO. of ITERATIONS REACHED LIMIT.\n",
      "\n",
      "Increase the number of iterations (max_iter) or scale the data as shown in:\n",
      "    https://scikit-learn.org/stable/modules/preprocessing.html\n",
      "Please also refer to the documentation for alternative solver options:\n",
      "    https://scikit-learn.org/stable/modules/linear_model.html#logistic-regression\n",
      "  n_iter_i = _check_optimize_result(\n",
      "/usr/local/lib/python3.10/dist-packages/sklearn/linear_model/_logistic.py:460: ConvergenceWarning: lbfgs failed to converge (status=1):\n",
      "STOP: TOTAL NO. of ITERATIONS REACHED LIMIT.\n",
      "\n",
      "Increase the number of iterations (max_iter) or scale the data as shown in:\n",
      "    https://scikit-learn.org/stable/modules/preprocessing.html\n",
      "Please also refer to the documentation for alternative solver options:\n",
      "    https://scikit-learn.org/stable/modules/linear_model.html#logistic-regression\n",
      "  n_iter_i = _check_optimize_result(\n",
      "/usr/local/lib/python3.10/dist-packages/sklearn/linear_model/_logistic.py:460: ConvergenceWarning: lbfgs failed to converge (status=1):\n",
      "STOP: TOTAL NO. of ITERATIONS REACHED LIMIT.\n",
      "\n",
      "Increase the number of iterations (max_iter) or scale the data as shown in:\n",
      "    https://scikit-learn.org/stable/modules/preprocessing.html\n",
      "Please also refer to the documentation for alternative solver options:\n",
      "    https://scikit-learn.org/stable/modules/linear_model.html#logistic-regression\n",
      "  n_iter_i = _check_optimize_result(\n",
      "/usr/local/lib/python3.10/dist-packages/sklearn/linear_model/_logistic.py:460: ConvergenceWarning: lbfgs failed to converge (status=1):\n",
      "STOP: TOTAL NO. of ITERATIONS REACHED LIMIT.\n",
      "\n",
      "Increase the number of iterations (max_iter) or scale the data as shown in:\n",
      "    https://scikit-learn.org/stable/modules/preprocessing.html\n",
      "Please also refer to the documentation for alternative solver options:\n",
      "    https://scikit-learn.org/stable/modules/linear_model.html#logistic-regression\n",
      "  n_iter_i = _check_optimize_result(\n"
     ]
    },
    {
     "data": {
      "text/html": [
       "<style>#sk-container-id-1 {color: black;}#sk-container-id-1 pre{padding: 0;}#sk-container-id-1 div.sk-toggleable {background-color: white;}#sk-container-id-1 label.sk-toggleable__label {cursor: pointer;display: block;width: 100%;margin-bottom: 0;padding: 0.3em;box-sizing: border-box;text-align: center;}#sk-container-id-1 label.sk-toggleable__label-arrow:before {content: \"▸\";float: left;margin-right: 0.25em;color: #696969;}#sk-container-id-1 label.sk-toggleable__label-arrow:hover:before {color: black;}#sk-container-id-1 div.sk-estimator:hover label.sk-toggleable__label-arrow:before {color: black;}#sk-container-id-1 div.sk-toggleable__content {max-height: 0;max-width: 0;overflow: hidden;text-align: left;background-color: #f0f8ff;}#sk-container-id-1 div.sk-toggleable__content pre {margin: 0.2em;color: black;border-radius: 0.25em;background-color: #f0f8ff;}#sk-container-id-1 input.sk-toggleable__control:checked~div.sk-toggleable__content {max-height: 200px;max-width: 100%;overflow: auto;}#sk-container-id-1 input.sk-toggleable__control:checked~label.sk-toggleable__label-arrow:before {content: \"▾\";}#sk-container-id-1 div.sk-estimator input.sk-toggleable__control:checked~label.sk-toggleable__label {background-color: #d4ebff;}#sk-container-id-1 div.sk-label input.sk-toggleable__control:checked~label.sk-toggleable__label {background-color: #d4ebff;}#sk-container-id-1 input.sk-hidden--visually {border: 0;clip: rect(1px 1px 1px 1px);clip: rect(1px, 1px, 1px, 1px);height: 1px;margin: -1px;overflow: hidden;padding: 0;position: absolute;width: 1px;}#sk-container-id-1 div.sk-estimator {font-family: monospace;background-color: #f0f8ff;border: 1px dotted black;border-radius: 0.25em;box-sizing: border-box;margin-bottom: 0.5em;}#sk-container-id-1 div.sk-estimator:hover {background-color: #d4ebff;}#sk-container-id-1 div.sk-parallel-item::after {content: \"\";width: 100%;border-bottom: 1px solid gray;flex-grow: 1;}#sk-container-id-1 div.sk-label:hover label.sk-toggleable__label {background-color: #d4ebff;}#sk-container-id-1 div.sk-serial::before {content: \"\";position: absolute;border-left: 1px solid gray;box-sizing: border-box;top: 0;bottom: 0;left: 50%;z-index: 0;}#sk-container-id-1 div.sk-serial {display: flex;flex-direction: column;align-items: center;background-color: white;padding-right: 0.2em;padding-left: 0.2em;position: relative;}#sk-container-id-1 div.sk-item {position: relative;z-index: 1;}#sk-container-id-1 div.sk-parallel {display: flex;align-items: stretch;justify-content: center;background-color: white;position: relative;}#sk-container-id-1 div.sk-item::before, #sk-container-id-1 div.sk-parallel-item::before {content: \"\";position: absolute;border-left: 1px solid gray;box-sizing: border-box;top: 0;bottom: 0;left: 50%;z-index: -1;}#sk-container-id-1 div.sk-parallel-item {display: flex;flex-direction: column;z-index: 1;position: relative;background-color: white;}#sk-container-id-1 div.sk-parallel-item:first-child::after {align-self: flex-end;width: 50%;}#sk-container-id-1 div.sk-parallel-item:last-child::after {align-self: flex-start;width: 50%;}#sk-container-id-1 div.sk-parallel-item:only-child::after {width: 0;}#sk-container-id-1 div.sk-dashed-wrapped {border: 1px dashed gray;margin: 0 0.4em 0.5em 0.4em;box-sizing: border-box;padding-bottom: 0.4em;background-color: white;}#sk-container-id-1 div.sk-label label {font-family: monospace;font-weight: bold;display: inline-block;line-height: 1.2em;}#sk-container-id-1 div.sk-label-container {text-align: center;}#sk-container-id-1 div.sk-container {/* jupyter's `normalize.less` sets `[hidden] { display: none; }` but bootstrap.min.css set `[hidden] { display: none !important; }` so we also need the `!important` here to be able to override the default hidden behavior on the sphinx rendered scikit-learn.org. See: https://github.com/scikit-learn/scikit-learn/issues/21755 */display: inline-block !important;position: relative;}#sk-container-id-1 div.sk-text-repr-fallback {display: none;}</style><div id=\"sk-container-id-1\" class=\"sk-top-container\"><div class=\"sk-text-repr-fallback\"><pre>GridSearchCV(cv=5, estimator=LogisticRegression(),\n",
       "             param_grid={&#x27;C&#x27;: [0.01, 0.1, 1, 10]})</pre><b>In a Jupyter environment, please rerun this cell to show the HTML representation or trust the notebook. <br />On GitHub, the HTML representation is unable to render, please try loading this page with nbviewer.org.</b></div><div class=\"sk-container\" hidden><div class=\"sk-item sk-dashed-wrapped\"><div class=\"sk-label-container\"><div class=\"sk-label sk-toggleable\"><input class=\"sk-toggleable__control sk-hidden--visually\" id=\"sk-estimator-id-1\" type=\"checkbox\" ><label for=\"sk-estimator-id-1\" class=\"sk-toggleable__label sk-toggleable__label-arrow\">GridSearchCV</label><div class=\"sk-toggleable__content\"><pre>GridSearchCV(cv=5, estimator=LogisticRegression(),\n",
       "             param_grid={&#x27;C&#x27;: [0.01, 0.1, 1, 10]})</pre></div></div></div><div class=\"sk-parallel\"><div class=\"sk-parallel-item\"><div class=\"sk-item\"><div class=\"sk-label-container\"><div class=\"sk-label sk-toggleable\"><input class=\"sk-toggleable__control sk-hidden--visually\" id=\"sk-estimator-id-2\" type=\"checkbox\" ><label for=\"sk-estimator-id-2\" class=\"sk-toggleable__label sk-toggleable__label-arrow\">estimator: LogisticRegression</label><div class=\"sk-toggleable__content\"><pre>LogisticRegression()</pre></div></div></div><div class=\"sk-serial\"><div class=\"sk-item\"><div class=\"sk-estimator sk-toggleable\"><input class=\"sk-toggleable__control sk-hidden--visually\" id=\"sk-estimator-id-3\" type=\"checkbox\" ><label for=\"sk-estimator-id-3\" class=\"sk-toggleable__label sk-toggleable__label-arrow\">LogisticRegression</label><div class=\"sk-toggleable__content\"><pre>LogisticRegression()</pre></div></div></div></div></div></div></div></div></div></div>"
      ],
      "text/plain": [
       "GridSearchCV(cv=5, estimator=LogisticRegression(),\n",
       "             param_grid={'C': [0.01, 0.1, 1, 10]})"
      ]
     },
     "execution_count": 15,
     "metadata": {},
     "output_type": "execute_result"
    }
   ],
   "source": [
    "from sklearn.model_selection import GridSearchCV\n",
    "from sklearn.ensemble import RandomForestClassifier\n",
    "from sklearn.linear_model import LogisticRegression\n",
    "\n",
    "# Example with Random Forest\n",
    "parameters_rf = {'n_estimators': [100, 200], 'max_depth': [10, 20]}\n",
    "clf_rf = GridSearchCV(RandomForestClassifier(), parameters_rf, cv=5)\n",
    "clf_rf.fit(X_resampled, y_resampled)\n",
    "\n",
    "# Example with Logistic Regression\n",
    "parameters_lr = {'C': [0.01, 0.1, 1, 10]}\n",
    "clf_lr = GridSearchCV(LogisticRegression(), parameters_lr, cv=5)\n",
    "clf_lr.fit(X_resampled, y_resampled)"
   ]
  },
  {
   "cell_type": "markdown",
   "metadata": {},
   "source": [
    "### **Cross-Validation Results for Multiple Models**"
   ]
  },
  {
   "cell_type": "markdown",
   "metadata": {},
   "source": [
    "The Random Forest model achieved an average accuracy of 0.83 with a standard deviation of +/- 0.03. This is a solid performance, indicating that the model is relatively stable and consistent across different subsets of the data. The accuracy is notably lower than the perfect scores observed previously, which is a more realistic indicator of model performance.\n",
    "\n",
    "After addressing the convergence issue by increasing the number of iterations and applying feature scaling, the Logistic Regression model's accuracy is 0.64 with a standard deviation of +/- 0.04. This accuracy is significantly lower than that of the Random Forest model, indicating that Logistic Regression may not be capturing the complexities of the dataset as effectively."
   ]
  },
  {
   "cell_type": "code",
   "execution_count": 16,
   "metadata": {},
   "outputs": [
    {
     "name": "stdout",
     "output_type": "stream",
     "text": [
      "Random Forest Accuracy: 0.83 (+/- 0.03)\n",
      "Logistic Regression Accuracy: 0.64 (+/- 0.04)\n"
     ]
    }
   ],
   "source": [
    "from sklearn.model_selection import cross_val_score\n",
    "from sklearn.linear_model import LogisticRegression\n",
    "from sklearn.ensemble import RandomForestClassifier\n",
    "from sklearn.preprocessing import StandardScaler\n",
    "from sklearn.pipeline import make_pipeline\n",
    "\n",
    "# clf_rf is Random Forest model\n",
    "# Random Forest Evaluation\n",
    "scores_rf = cross_val_score(clf_rf, X_resampled, y_resampled, cv=5)\n",
    "print(\"Random Forest Accuracy: %0.2f (+/- %0.2f)\" % (scores_rf.mean(), scores_rf.std() * 2))\n",
    "\n",
    "# Logistic Regression with increased max_iter and feature scaling\n",
    "clf_lr = make_pipeline(StandardScaler(), LogisticRegression(max_iter=1000))\n",
    "scores_lr = cross_val_score(clf_lr, X_resampled, y_resampled, cv=5)\n",
    "print(\"Logistic Regression Accuracy: %0.2f (+/- %0.2f)\" % (scores_lr.mean(), scores_lr.std() * 2))"
   ]
  },
  {
   "cell_type": "markdown",
   "metadata": {},
   "source": [
    "The Random Forest model achieved an average cross-validation accuracy of approximately 0.90. This is a strong performance, indicating that the model is quite effective at predicting the injury severity from the features, even when trained and validated on different subsets of the data.\n",
    "\n",
    "The cross-validation results provide a comprehensive view of how each model performs across different data subsets, offering insights into their generalizability and robustness. The Random Forest model appears to be the most promising candidate for this task. However, there is room for improvement in the Logistic Regression."
   ]
  },
  {
   "cell_type": "code",
   "execution_count": 17,
   "metadata": {},
   "outputs": [
    {
     "name": "stdout",
     "output_type": "stream",
     "text": [
      "Random Forest CV Accuracy: 0.9027122529475559\n"
     ]
    },
    {
     "name": "stderr",
     "output_type": "stream",
     "text": [
      "/usr/local/lib/python3.10/dist-packages/sklearn/linear_model/_logistic.py:460: ConvergenceWarning: lbfgs failed to converge (status=1):\n",
      "STOP: TOTAL NO. of ITERATIONS REACHED LIMIT.\n",
      "\n",
      "Increase the number of iterations (max_iter) or scale the data as shown in:\n",
      "    https://scikit-learn.org/stable/modules/preprocessing.html\n",
      "Please also refer to the documentation for alternative solver options:\n",
      "    https://scikit-learn.org/stable/modules/linear_model.html#logistic-regression\n",
      "  n_iter_i = _check_optimize_result(\n",
      "/usr/local/lib/python3.10/dist-packages/sklearn/linear_model/_logistic.py:460: ConvergenceWarning: lbfgs failed to converge (status=1):\n",
      "STOP: TOTAL NO. of ITERATIONS REACHED LIMIT.\n",
      "\n",
      "Increase the number of iterations (max_iter) or scale the data as shown in:\n",
      "    https://scikit-learn.org/stable/modules/preprocessing.html\n",
      "Please also refer to the documentation for alternative solver options:\n",
      "    https://scikit-learn.org/stable/modules/linear_model.html#logistic-regression\n",
      "  n_iter_i = _check_optimize_result(\n",
      "/usr/local/lib/python3.10/dist-packages/sklearn/linear_model/_logistic.py:460: ConvergenceWarning: lbfgs failed to converge (status=1):\n",
      "STOP: TOTAL NO. of ITERATIONS REACHED LIMIT.\n",
      "\n",
      "Increase the number of iterations (max_iter) or scale the data as shown in:\n",
      "    https://scikit-learn.org/stable/modules/preprocessing.html\n",
      "Please also refer to the documentation for alternative solver options:\n",
      "    https://scikit-learn.org/stable/modules/linear_model.html#logistic-regression\n",
      "  n_iter_i = _check_optimize_result(\n",
      "/usr/local/lib/python3.10/dist-packages/sklearn/linear_model/_logistic.py:460: ConvergenceWarning: lbfgs failed to converge (status=1):\n",
      "STOP: TOTAL NO. of ITERATIONS REACHED LIMIT.\n",
      "\n",
      "Increase the number of iterations (max_iter) or scale the data as shown in:\n",
      "    https://scikit-learn.org/stable/modules/preprocessing.html\n",
      "Please also refer to the documentation for alternative solver options:\n",
      "    https://scikit-learn.org/stable/modules/linear_model.html#logistic-regression\n",
      "  n_iter_i = _check_optimize_result(\n",
      "/usr/local/lib/python3.10/dist-packages/sklearn/linear_model/_logistic.py:460: ConvergenceWarning: lbfgs failed to converge (status=1):\n",
      "STOP: TOTAL NO. of ITERATIONS REACHED LIMIT.\n",
      "\n",
      "Increase the number of iterations (max_iter) or scale the data as shown in:\n",
      "    https://scikit-learn.org/stable/modules/preprocessing.html\n",
      "Please also refer to the documentation for alternative solver options:\n",
      "    https://scikit-learn.org/stable/modules/linear_model.html#logistic-regression\n",
      "  n_iter_i = _check_optimize_result(\n"
     ]
    },
    {
     "name": "stdout",
     "output_type": "stream",
     "text": [
      "Logistic Regression CV Accuracy: 0.6323844148439554\n"
     ]
    },
    {
     "name": "stderr",
     "output_type": "stream",
     "text": [
      "/usr/local/lib/python3.10/dist-packages/sklearn/svm/_base.py:297: ConvergenceWarning: Solver terminated early (max_iter=1000).  Consider pre-processing your data with StandardScaler or MinMaxScaler.\n",
      "  warnings.warn(\n",
      "/usr/local/lib/python3.10/dist-packages/sklearn/svm/_base.py:297: ConvergenceWarning: Solver terminated early (max_iter=1000).  Consider pre-processing your data with StandardScaler or MinMaxScaler.\n",
      "  warnings.warn(\n",
      "/usr/local/lib/python3.10/dist-packages/sklearn/svm/_base.py:297: ConvergenceWarning: Solver terminated early (max_iter=1000).  Consider pre-processing your data with StandardScaler or MinMaxScaler.\n",
      "  warnings.warn(\n",
      "/usr/local/lib/python3.10/dist-packages/sklearn/svm/_base.py:297: ConvergenceWarning: Solver terminated early (max_iter=1000).  Consider pre-processing your data with StandardScaler or MinMaxScaler.\n",
      "  warnings.warn(\n",
      "/usr/local/lib/python3.10/dist-packages/sklearn/svm/_base.py:297: ConvergenceWarning: Solver terminated early (max_iter=1000).  Consider pre-processing your data with StandardScaler or MinMaxScaler.\n",
      "  warnings.warn(\n"
     ]
    },
    {
     "name": "stdout",
     "output_type": "stream",
     "text": [
      "SVM CV Accuracy: 0.14581161240240806\n"
     ]
    }
   ],
   "source": [
    "from sklearn.model_selection import cross_val_score\n",
    "from sklearn.linear_model import LogisticRegression\n",
    "from sklearn.svm import SVC\n",
    "\n",
    "# Adjusted Logistic Regression with a max_iter limit\n",
    "log_reg_model_adj = LogisticRegression(max_iter=1000)  # maximum iteration is 1000\n",
    "\n",
    "# Cross-validation for Random Forest\n",
    "cv_scores_rf = cross_val_score(rf_model, X_resampled, y_resampled, cv=5)\n",
    "print(\"Random Forest CV Accuracy:\", cv_scores_rf.mean())\n",
    "\n",
    "# Cross-validation for Adjusted Logistic Regression\n",
    "cv_scores_lr = cross_val_score(log_reg_model_adj, X_resampled, y_resampled, cv=5)\n",
    "print(\"Logistic Regression CV Accuracy:\", cv_scores_lr.mean())\n",
    "\n",
    "# Adjusted SVM with a max_iter limit (if using a kernel that supports max_iter)\n",
    "svm_model_adj = SVC(max_iter=1000)  # Note: max_iter applies to certain SVM kernels only\n",
    "\n",
    "# Cross-validation for Adjusted SVM\n",
    "cv_scores_svm = cross_val_score(svm_model_adj, X_resampled, y_resampled, cv=5)\n",
    "print(\"SVM CV Accuracy:\", cv_scores_svm.mean())"
   ]
  },
  {
   "cell_type": "markdown",
   "metadata": {},
   "source": [
    "To address the convergence issue and improve the performance of the Logistic Regression model, I implemented a pipeline that includes two key adjustments: Feature Scaling and Increased Iterations.\n",
    "\n",
    "I introduced StandardScaler in the pipeline to standardize the features. This scaling ensures that all features contribute equally to the model's decision-making process, which is particularly important for Logistic Regression. I also increased the maximum number of iterations (max_iter) to 2000. This change allows the optimization algorithm more iterations to converge to a solution, especially important in complex datasets. \n",
    "\n",
    "The adjusted Logistic Regression model achieved an average cross-validation accuracy of approximately 0.64."
   ]
  },
  {
   "cell_type": "code",
   "execution_count": 18,
   "metadata": {},
   "outputs": [
    {
     "name": "stdout",
     "output_type": "stream",
     "text": [
      "Adjusted Logistic Regression CV Accuracy: 0.6439210181913072\n"
     ]
    }
   ],
   "source": [
    "from sklearn.preprocessing import StandardScaler\n",
    "from sklearn.pipeline import make_pipeline\n",
    "\n",
    "# Adjusting Logistic Regression with a pipeline for scaling and increased iterations\n",
    "log_reg_model_adjusted = make_pipeline(StandardScaler(), \n",
    "                                       LogisticRegression(max_iter=2000))\n",
    "\n",
    "cv_scores_lr_adjusted = cross_val_score(log_reg_model_adjusted, X_resampled, y_resampled, cv=5)\n",
    "print(\"Adjusted Logistic Regression CV Accuracy:\", cv_scores_lr_adjusted.mean())\n"
   ]
  },
  {
   "cell_type": "markdown",
   "metadata": {},
   "source": [
    "#### **Hyperparameter Tuning for Logistic Regression**"
   ]
  },
  {
   "cell_type": "markdown",
   "metadata": {},
   "source": [
    "To optimize the Logistic Regression model further, I conducted hyperparameter tuning using GridSearchCV, focusing on the regularization strength ('C') and the maximum number of iterations ('max_iter'). The best 'C' value being 0.01 suggests that a stronger regularization (penalty for complexity) improves the model's performance, possibly by reducing overfitting."
   ]
  },
  {
   "cell_type": "code",
   "execution_count": 19,
   "metadata": {},
   "outputs": [
    {
     "name": "stderr",
     "output_type": "stream",
     "text": [
      "/usr/local/lib/python3.10/dist-packages/sklearn/linear_model/_logistic.py:460: ConvergenceWarning: lbfgs failed to converge (status=1):\n",
      "STOP: TOTAL NO. of ITERATIONS REACHED LIMIT.\n",
      "\n",
      "Increase the number of iterations (max_iter) or scale the data as shown in:\n",
      "    https://scikit-learn.org/stable/modules/preprocessing.html\n",
      "Please also refer to the documentation for alternative solver options:\n",
      "    https://scikit-learn.org/stable/modules/linear_model.html#logistic-regression\n",
      "  n_iter_i = _check_optimize_result(\n",
      "/usr/local/lib/python3.10/dist-packages/sklearn/linear_model/_logistic.py:460: ConvergenceWarning: lbfgs failed to converge (status=1):\n",
      "STOP: TOTAL NO. of ITERATIONS REACHED LIMIT.\n",
      "\n",
      "Increase the number of iterations (max_iter) or scale the data as shown in:\n",
      "    https://scikit-learn.org/stable/modules/preprocessing.html\n",
      "Please also refer to the documentation for alternative solver options:\n",
      "    https://scikit-learn.org/stable/modules/linear_model.html#logistic-regression\n",
      "  n_iter_i = _check_optimize_result(\n",
      "/usr/local/lib/python3.10/dist-packages/sklearn/linear_model/_logistic.py:460: ConvergenceWarning: lbfgs failed to converge (status=1):\n",
      "STOP: TOTAL NO. of ITERATIONS REACHED LIMIT.\n",
      "\n",
      "Increase the number of iterations (max_iter) or scale the data as shown in:\n",
      "    https://scikit-learn.org/stable/modules/preprocessing.html\n",
      "Please also refer to the documentation for alternative solver options:\n",
      "    https://scikit-learn.org/stable/modules/linear_model.html#logistic-regression\n",
      "  n_iter_i = _check_optimize_result(\n",
      "/usr/local/lib/python3.10/dist-packages/sklearn/linear_model/_logistic.py:460: ConvergenceWarning: lbfgs failed to converge (status=1):\n",
      "STOP: TOTAL NO. of ITERATIONS REACHED LIMIT.\n",
      "\n",
      "Increase the number of iterations (max_iter) or scale the data as shown in:\n",
      "    https://scikit-learn.org/stable/modules/preprocessing.html\n",
      "Please also refer to the documentation for alternative solver options:\n",
      "    https://scikit-learn.org/stable/modules/linear_model.html#logistic-regression\n",
      "  n_iter_i = _check_optimize_result(\n",
      "/usr/local/lib/python3.10/dist-packages/sklearn/linear_model/_logistic.py:460: ConvergenceWarning: lbfgs failed to converge (status=1):\n",
      "STOP: TOTAL NO. of ITERATIONS REACHED LIMIT.\n",
      "\n",
      "Increase the number of iterations (max_iter) or scale the data as shown in:\n",
      "    https://scikit-learn.org/stable/modules/preprocessing.html\n",
      "Please also refer to the documentation for alternative solver options:\n",
      "    https://scikit-learn.org/stable/modules/linear_model.html#logistic-regression\n",
      "  n_iter_i = _check_optimize_result(\n",
      "/usr/local/lib/python3.10/dist-packages/sklearn/linear_model/_logistic.py:460: ConvergenceWarning: lbfgs failed to converge (status=1):\n",
      "STOP: TOTAL NO. of ITERATIONS REACHED LIMIT.\n",
      "\n",
      "Increase the number of iterations (max_iter) or scale the data as shown in:\n",
      "    https://scikit-learn.org/stable/modules/preprocessing.html\n",
      "Please also refer to the documentation for alternative solver options:\n",
      "    https://scikit-learn.org/stable/modules/linear_model.html#logistic-regression\n",
      "  n_iter_i = _check_optimize_result(\n",
      "/usr/local/lib/python3.10/dist-packages/sklearn/linear_model/_logistic.py:460: ConvergenceWarning: lbfgs failed to converge (status=1):\n",
      "STOP: TOTAL NO. of ITERATIONS REACHED LIMIT.\n",
      "\n",
      "Increase the number of iterations (max_iter) or scale the data as shown in:\n",
      "    https://scikit-learn.org/stable/modules/preprocessing.html\n",
      "Please also refer to the documentation for alternative solver options:\n",
      "    https://scikit-learn.org/stable/modules/linear_model.html#logistic-regression\n",
      "  n_iter_i = _check_optimize_result(\n",
      "/usr/local/lib/python3.10/dist-packages/sklearn/linear_model/_logistic.py:460: ConvergenceWarning: lbfgs failed to converge (status=1):\n",
      "STOP: TOTAL NO. of ITERATIONS REACHED LIMIT.\n",
      "\n",
      "Increase the number of iterations (max_iter) or scale the data as shown in:\n",
      "    https://scikit-learn.org/stable/modules/preprocessing.html\n",
      "Please also refer to the documentation for alternative solver options:\n",
      "    https://scikit-learn.org/stable/modules/linear_model.html#logistic-regression\n",
      "  n_iter_i = _check_optimize_result(\n",
      "/usr/local/lib/python3.10/dist-packages/sklearn/linear_model/_logistic.py:460: ConvergenceWarning: lbfgs failed to converge (status=1):\n",
      "STOP: TOTAL NO. of ITERATIONS REACHED LIMIT.\n",
      "\n",
      "Increase the number of iterations (max_iter) or scale the data as shown in:\n",
      "    https://scikit-learn.org/stable/modules/preprocessing.html\n",
      "Please also refer to the documentation for alternative solver options:\n",
      "    https://scikit-learn.org/stable/modules/linear_model.html#logistic-regression\n",
      "  n_iter_i = _check_optimize_result(\n",
      "/usr/local/lib/python3.10/dist-packages/sklearn/linear_model/_logistic.py:460: ConvergenceWarning: lbfgs failed to converge (status=1):\n",
      "STOP: TOTAL NO. of ITERATIONS REACHED LIMIT.\n",
      "\n",
      "Increase the number of iterations (max_iter) or scale the data as shown in:\n",
      "    https://scikit-learn.org/stable/modules/preprocessing.html\n",
      "Please also refer to the documentation for alternative solver options:\n",
      "    https://scikit-learn.org/stable/modules/linear_model.html#logistic-regression\n",
      "  n_iter_i = _check_optimize_result(\n",
      "/usr/local/lib/python3.10/dist-packages/sklearn/linear_model/_logistic.py:460: ConvergenceWarning: lbfgs failed to converge (status=1):\n",
      "STOP: TOTAL NO. of ITERATIONS REACHED LIMIT.\n",
      "\n",
      "Increase the number of iterations (max_iter) or scale the data as shown in:\n",
      "    https://scikit-learn.org/stable/modules/preprocessing.html\n",
      "Please also refer to the documentation for alternative solver options:\n",
      "    https://scikit-learn.org/stable/modules/linear_model.html#logistic-regression\n",
      "  n_iter_i = _check_optimize_result(\n"
     ]
    },
    {
     "name": "stdout",
     "output_type": "stream",
     "text": [
      "Best parameters for Logistic Regression: {'logisticregression__C': 0.01, 'logisticregression__max_iter': 1000}\n",
      "Best score for Logistic Regression: 0.6470107004646692\n"
     ]
    }
   ],
   "source": [
    "from sklearn.model_selection import GridSearchCV\n",
    "from sklearn.linear_model import LogisticRegression\n",
    "\n",
    "# Define the parameter grid for Logistic Regression\n",
    "param_grid_lr = {\n",
    "    'logisticregression__C': [0.01, 0.1, 1, 10, 100],\n",
    "    'logisticregression__max_iter': [1000, 2000, 3000]\n",
    "}\n",
    "\n",
    "# Create a pipeline with standard scaler and logistic regression\n",
    "pipeline_lr = make_pipeline(StandardScaler(), LogisticRegression())\n",
    "\n",
    "# Grid search with cross-validation\n",
    "grid_lr = GridSearchCV(pipeline_lr, param_grid_lr, cv=5, scoring='accuracy')\n",
    "grid_lr.fit(X_resampled, y_resampled)\n",
    "\n",
    "# Output best parameters and best score\n",
    "print(\"Best parameters for Logistic Regression:\", grid_lr.best_params_)\n",
    "print(\"Best score for Logistic Regression:\", grid_lr.best_score_)\n"
   ]
  },
  {
   "cell_type": "markdown",
   "metadata": {},
   "source": [
    "The best C value is 0.01, which is on the lower end of the range. This implies that the model benefits from stronger regularization, possibly due to high variance or overfitting with less regularized models. The best number of iterations is the lowest in the provided range, indicating the model converges relatively quickly. This is a positive sign as it suggests the optimization algorithm is efficient for this data.\n",
    "\n",
    "An accuracy of around 0.647 is moderately good but indicates there is room for improvement. It might be worth exploring other models or enhancing the feature set further."
   ]
  },
  {
   "cell_type": "code",
   "execution_count": 20,
   "metadata": {},
   "outputs": [],
   "source": [
    "X_test_aligned = X_test.reindex(columns=X.columns, fill_value=0)\n",
    "\n",
    "# Now applying the selected features to the aligned X_test\n",
    "X_test_selected = X_test_aligned[selected_features]"
   ]
  },
  {
   "cell_type": "code",
   "execution_count": 21,
   "metadata": {},
   "outputs": [
    {
     "name": "stderr",
     "output_type": "stream",
     "text": [
      "/usr/local/lib/python3.10/dist-packages/sklearn/base.py:465: UserWarning: X does not have valid feature names, but RandomForestClassifier was fitted with feature names\n",
      "  warnings.warn(\n"
     ]
    },
    {
     "name": "stdout",
     "output_type": "stream",
     "text": [
      "Random Forest Accuracy: 0.782410617014955\n"
     ]
    }
   ],
   "source": [
    "# The initial train-test split\n",
    "from sklearn.model_selection import train_test_split\n",
    "\n",
    "# Split the original dataset (before feature selection)\n",
    "X_train, X_test, y_train, y_test = train_test_split(X, y, test_size=0.3, random_state=42)\n",
    "\n",
    "# Apply feature selection to X_train\n",
    "X_train_selected = selector.transform(X_train)  # Selector from previous feature selection\n",
    "X_test_selected = selector.transform(X_test)\n",
    "\n",
    "# Convert to DataFrame\n",
    "X_train_selected_df = pd.DataFrame(X_train_selected, columns=selected_features)\n",
    "\n",
    "# Now, train the model using the selected features\n",
    "rf_model.fit(X_train_selected_df, y_train)\n",
    "rf_predictions = rf_model.predict(X_test_selected)\n",
    "rf_accuracy = accuracy_score(y_test, rf_predictions)\n",
    "print(\"Random Forest Accuracy:\", rf_accuracy)"
   ]
  },
  {
   "cell_type": "markdown",
   "metadata": {},
   "source": [
    "The SVM model was trained using the selected features (X_train_selected) from the training dataset. This aligns with the feature selection process, ensuring that the model is trained on the most relevant predictors. Support Vector Machine (SVM) model was trained and evaluated using the selected features derived from previous steps. The objective was to assess how well the SVM model performs on the refined feature set in predicting injury severity. An accuracy of around 0.76 suggests that the SVM model is fairly effective in predicting injury severity. While not as high as some previous models (like Random Forest), it still represents a reasonable level of predictive power."
   ]
  },
  {
   "cell_type": "code",
   "execution_count": 23,
   "metadata": {},
   "outputs": [
    {
     "name": "stdout",
     "output_type": "stream",
     "text": [
      "SVM Accuracy: 0.7638242382225744\n"
     ]
    }
   ],
   "source": [
    "from sklearn.svm import SVC\n",
    "from sklearn.metrics import accuracy_score\n",
    "\n",
    "# Training the SVM model\n",
    "svm_model = SVC()\n",
    "svm_model.fit(X_train_selected, y_train)  # Use the same selected features for training\n",
    "\n",
    "# Making predictions on the test set\n",
    "svm_predictions = svm_model.predict(X_test_selected)\n",
    "\n",
    "# Evaluating accuracy\n",
    "svm_accuracy = accuracy_score(y_test, svm_predictions)\n",
    "print(\"SVM Accuracy:\", svm_accuracy)\n"
   ]
  },
  {
   "cell_type": "markdown",
   "metadata": {},
   "source": [
    "#### **Traffic incident distribution based on sex and age**"
   ]
  },
  {
   "cell_type": "markdown",
   "metadata": {},
   "source": [
    "The distribution of age appears to be right-skewed, meaning there's a longer tail on the right side of the distribution. There are more young people in the dataset than older individuals. The histogram shows a significant peak around the age of early 20s, indicating a higher frequency of individuals in this age range. This could be reflective of the dataset's demographic, perhaps indicating a higher involvement of younger individuals in traffic incidents."
   ]
  },
  {
   "cell_type": "code",
   "execution_count": 26,
   "metadata": {},
   "outputs": [
    {
     "data": {
      "image/png": "[encoded data removed]",
      "text/plain": [
       "<Figure size 640x480 with 1 Axes>"
      ]
     },
     "metadata": {},
     "output_type": "display_data"
    }
   ],
   "source": [
    "import seaborn as sns\n",
    "import matplotlib.pyplot as plt\n",
    "\n",
    "# Visualizing the distribution of 'AGE'\n",
    "sns.histplot(df['AGE'], kde=True)\n",
    "plt.title('Distribution of Age')\n",
    "plt.xlabel('Age')\n",
    "plt.ylabel('Frequency')\n",
    "plt.show()"
   ]
  },
  {
   "cell_type": "code",
   "execution_count": 30,
   "metadata": {},
   "outputs": [
    {
     "data": {
      "image/png": "[encoded data removed]",
      "text/plain": [
       "<Figure size 640x480 with 1 Axes>"
      ]
     },
     "metadata": {},
     "output_type": "display_data"
    }
   ],
   "source": [
    "import seaborn as sns\n",
    "import matplotlib.pyplot as plt\n",
    "\n",
    "# Visualizing the count of different categories in 'SEX'\n",
    "sns.countplot(x=df['SEX'])\n",
    "plt.title('Distribution of Sex')\n",
    "plt.xlabel('Sex')\n",
    "plt.ylabel('Count')\n",
    "plt.xticks([0, 1, 2], ['Female', 'Male', 'Unknown'])  # Labels for the categories\n",
    "plt.show()"
   ]
  },
  {
   "cell_type": "markdown",
   "metadata": {},
   "source": [
    "#### **Confusion Matrix**"
   ]
  },
  {
   "cell_type": "markdown",
   "metadata": {},
   "source": [
    "The heatmap appears to be a confusion matrix, which is a visual representation of the performance of a classification model. Each cell in the matrix shows the number of observations known to be in group *Actual* and predicted to be in group *Predicted*.\n",
    "\n",
    "The diagonal cells (from top left to bottom right) represent the number of points for which the predicted label is equal to the true label, i.e., the number of correct predictions. Off-diagonal cells indicate misclassified observations, where the number represents how many times a class was predicted to be each of the other classes.\n",
    "\n",
    "For instance, looking at the cell in the fifth row and fifth column (indexing from zero), it has a high value (5613), which suggests that the model has a high number of true positives for this particular class. However, this same class has also been confused with the class in the sixth column, as indicated by the cell with the value of 245."
   ]
  },
  {
   "cell_type": "code",
   "execution_count": 34,
   "metadata": {},
   "outputs": [
    {
     "data": {
      "image/png": "[encoded data removed]",
      "text/plain": [
       "<Figure size 640x480 with 2 Axes>"
      ]
     },
     "metadata": {},
     "output_type": "display_data"
    }
   ],
   "source": [
    "from sklearn.metrics import confusion_matrix\n",
    "import seaborn as sns\n",
    "import matplotlib.pyplot as plt\n",
    "\n",
    "y_pred = model.predict(X_test)\n",
    "cm = confusion_matrix(y_test, y_pred)\n",
    "\n",
    "sns.heatmap(cm, annot=True, fmt=\"d\")\n",
    "plt.ylabel('Actual')\n",
    "plt.xlabel('Predicted')\n",
    "plt.show()\n"
   ]
  },
  {
   "cell_type": "markdown",
   "metadata": {},
   "source": [
    "#### **ROC Curve**"
   ]
  },
  {
   "cell_type": "markdown",
   "metadata": {},
   "source": [
    "The graph shows a multiclass Receiver Operating Characteristic (ROC) curve, a tool used to evaluate the performance of a classification model at various threshold settings. The ROC curve plots the True Positive Rate (TPR) against the False Positive Rate (FPR) at different threshold levels.\n",
    "\n",
    "Each line represents the ROC curve for a different class, treated as the positive class in a one-vs-rest classification scheme. The area under each curve (AUC) is a measure of the model's ability to distinguish between classes for that particular \"positive\" class.\n",
    "\n",
    "The AUC values for most classes are high, close to 1.0, which indicates excellent performance. Specifically, classes 0 and 1 have perfect AUC scores, suggesting that the model has excellent discriminatory ability for these classes. Other classes also show high AUC values, such as class 4 with an AUC of 0.98 and class 7 with an AUC of 0.97, indicating almost perfect classification for these categories.\n",
    "\n",
    "Classes 3 and 6 have the lowest AUC scores of 0.86 and 0.81, respectively, though these values still represent a good classification ability. The scores suggest that the model is better at distinguishing some classes over others."
   ]
  },
  {
   "cell_type": "code",
   "execution_count": 39,
   "metadata": {},
   "outputs": [
    {
     "data": {
      "image/png": "[encoded data removed]",
      "text/plain": [
       "<Figure size 640x480 with 1 Axes>"
      ]
     },
     "metadata": {},
     "output_type": "display_data"
    }
   ],
   "source": [
    "from sklearn.preprocessing import label_binarize\n",
    "from sklearn.metrics import roc_curve, auc\n",
    "import matplotlib.pyplot as plt\n",
    "from itertools import cycle\n",
    "import numpy as np\n",
    "\n",
    "\n",
    "if len(y_test.shape) == 1 or y_test.shape[1] == 1:\n",
    "    y_bin = label_binarize(y_test, classes=np.unique(y_test))\n",
    "else:\n",
    "    y_bin = y_test \n",
    "\n",
    "n_classes = y_bin.shape[1]\n",
    "\n",
    "# Predicting probabilities for each class\n",
    "y_pred_prob = model.predict_proba(X_test)\n",
    "\n",
    "# Checking the shape of y_pred_prob\n",
    "if y_pred_prob.shape[1] != n_classes:\n",
    "    raise ValueError(\"The shape of y_pred_prob does not match the number of classes.\")\n",
    "\n",
    "# Computing ROC curve and ROC area for each class\n",
    "fpr = dict()\n",
    "tpr = dict()\n",
    "roc_auc = dict()\n",
    "for i in range(n_classes):\n",
    "    fpr[i], tpr[i], _ = roc_curve(y_bin[:, i], y_pred_prob[:, i])\n",
    "    roc_auc[i] = auc(fpr[i], tpr[i])\n",
    "\n",
    "# Plotting\n",
    "colors = cycle(['blue', 'red', 'green', 'yellow', 'purple'])\n",
    "for i, color in zip(range(n_classes), colors):\n",
    "    plt.plot(fpr[i], tpr[i], color=color, lw=2,\n",
    "             label='ROC curve of class {0} (area = {1:0.2f})'\n",
    "             ''.format(i, roc_auc[i]))\n",
    "\n",
    "plt.plot([0, 1], [0, 1], 'k--', lw=2)\n",
    "plt.xlim([0.0, 1.0])\n",
    "plt.ylim([0.0, 1.05])\n",
    "plt.xlabel('False Positive Rate')\n",
    "plt.ylabel('True Positive Rate')\n",
    "plt.title('Multiclass ROC')\n",
    "plt.legend(loc=\"lower right\")\n",
    "plt.show()\n"
   ]
  },
  {
   "cell_type": "markdown",
   "metadata": {},
   "source": [
    "#### **F1 Score Metrics Results**"
   ]
  },
  {
   "cell_type": "markdown",
   "metadata": {},
   "source": [
    "The highest F1 scores are approximately 0.999 for one class, indicating almost perfect performance, and other notably high scores for classes indicate strong performance as well (e.g., 0.898 and 0.758). The average F1 score, weighted by the number of true instances for each class, is approximately 0.775. This score takes into account the performance of the model across all classes, factoring in the class distribution.\n",
    "\n",
    "Overall, these F1 scores suggest that while the model performs exceptionally well for certain classes, its performance for others is suboptimal. The relatively high average F1 score is encouraging, but the low scores for some classes should motivate further investigation into model improvements, such as hyperparameter tuning, better feature selection, or addressing any class imbalance."
   ]
  },
  {
   "cell_type": "code",
   "execution_count": 43,
   "metadata": {},
   "outputs": [
    {
     "name": "stdout",
     "output_type": "stream",
     "text": [
      "F1 Scores per Class: [0.         0.99941003 0.58273004 0.43137255 0.89793633 0.44129159\n",
      " 0.26509988 0.75836431]\n",
      "Average F1 Score: 0.7748726783660436\n"
     ]
    }
   ],
   "source": [
    "from sklearn.metrics import f1_score\n",
    "\n",
    "# Calculating F1-score for each class\n",
    "f1_scores = f1_score(y_test, y_pred, average=None)\n",
    "average_f1 = f1_score(y_test, y_pred, average='weighted')\n",
    "\n",
    "print(f'F1 Scores per Class: {f1_scores}')\n",
    "print(f'Average F1 Score: {average_f1}')\n"
   ]
  },
  {
   "cell_type": "markdown",
   "metadata": {},
   "source": [
    "### **Discussion**"
   ]
  },
  {
   "cell_type": "markdown",
   "metadata": {},
   "source": [
    "Throughout this project, I endeavored to construct a machine learning model that accurately predicts the severity of injuries sustained in traffic accidents. The initial phase of my work involved meticulous data preprocessing, ensuring that our dataset was devoid of missing values and that categorical variables were aptly encoded. The lack of missing data was a considerable advantage, allowing us to direct our efforts towards feature selection and model refinement.\n",
    "\n",
    "I employed both SelectKBest and SelectFromModel for feature selection, identifying the most influential features for our models. This step was pivotal, as it not only streamlined our models but also likely prevented overfitting by reducing the dimensionality of our feature space.\n",
    "\n",
    "Our modeling efforts included a comprehensive range of algorithms, namely RandomForest, Logistic Regression, and SVM. The hyperparameter tuning was meticulously conducted using GridSearchCV and RandomizedSearchCV, particularly for the RandomForest model, which yielded an impressive cross-validation accuracy. Adjustments made to the Logistic Regression model to address scaling and iteration count led to moderate success, while the SVM model, after accounting for selected features, demonstrated promising results.\n",
    "\n",
    "The diagnostic performance of the models was examined through the lens of a confusion matrix and ROC curves. The confusion matrix for the RandomForest model illuminated its strengths and weaknesses across various classes, while the ROC curves underscored the model's discriminative power, with several classes achieving AUC scores indicative of excellent classification capability.\n",
    "\n",
    "However, the journey was not without its hurdles. I encountered convergence issues during the optimization of the Logistic Regression model and noted that the predictive performance was not consistent across all classes, pointing to potential areas for improvement."
   ]
  },
  {
   "cell_type": "markdown",
   "metadata": {},
   "source": [
    "### **Conclusion**"
   ]
  },
  {
   "cell_type": "markdown",
   "metadata": {},
   "source": [
    "This endeavor has showcased the application of machine learning in a real-world context, specifically for predicting injury severity in traffic incidents. The RandomForest Classifier stood out as the most effective model, with the SVM and Logistic Regression models also showing potential. While the accuracy varied across classes, the overall high scores suggest that these models could serve as valuable tools in practical settings.\n",
    "\n",
    "For future work, I recommend to bolster the models' performance and reliability:\n",
    "\n",
    "- Extended hyperparameter tuning and more exhaustive cross-validation to enhance the models, especially for the classes where performance was lacking.\n",
    "- Exploration of different modeling techniques, including ensemble methods, which may improve predictive accuracy.\n",
    "- A deeper dive into the features that most heavily influence predictions to gain insights that could inform feature engineering.\n",
    "- Validation of the models against external datasets to ensure their robustness and applicability to different scenarios.\n",
    "\n",
    "In closing, this project has affirmed the potential of machine learning in enhancing traffic safety initiatives and has provided a robust foundation for future research and application in this vital domain."
   ]
  }
 ],
 "metadata": {
  "accelerator": "GPU",
  "colab": {
   "gpuType": "T4",
   "provenance": []
  },
  "kernelspec": {
   "display_name": "Python 3",
   "name": "python3"
  },
  "language_info": {
   "codemirror_mode": {
    "name": "ipython",
    "version": 3
   },
   "file_extension": ".py",
   "mimetype": "text/x-python",
   "name": "python",
   "nbconvert_exporter": "python",
   "pygments_lexer": "ipython3",
   "version": "3.10.12"
  }
 },
 "nbformat": 4,
 "nbformat_minor": 0
}
